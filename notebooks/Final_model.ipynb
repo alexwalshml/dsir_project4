{
 "cells": [
  {
   "cell_type": "markdown",
   "id": "9dc38c44-c2ab-4b9d-84ab-214b636f5aef",
   "metadata": {},
   "source": [
    "<img src=\"http://imgur.com/1ZcRyrc.png\" style=\"float: left; margin: 15px; height: 80px\">\n",
    "\n",
    "# Project 4 Final Model"
   ]
  },
  {
   "cell_type": "markdown",
   "id": "6e49a289-ed62-437c-931d-a424ae9d7326",
   "metadata": {},
   "source": [
    "This notebook containts the evaluation of our final model and recommendations, using our entire dataset created from our simulation."
   ]
  },
  {
   "cell_type": "code",
   "execution_count": 1,
   "id": "8dd84a1e-eb70-4b60-bac8-4f861c827764",
   "metadata": {},
   "outputs": [],
   "source": [
    "# You will need to run the folding command from your terminal to run this notebook\n",
    "# or uncomment the line below:\n",
    "# conda install -c conda-forge imbalanced-learn"
   ]
  },
  {
   "cell_type": "code",
   "execution_count": null,
   "id": "de2e3260-3623-4b9a-a8d8-6e3c33a2cf16",
   "metadata": {},
   "outputs": [],
   "source": [
    "import pandas as pd\n",
    "import numpy as np\n",
    "import matplotlib.pyplot as plt\n",
    "from sklearn.linear_model import LogisticRegression\n",
    "from sklearn.model_selection import train_test_split\n",
    "from sklearn.preprocessing import StandardScaler\n",
    "from sklearn.model_selection import GridSearchCV\n",
    "from sklearn.metrics import confusion_matrix, classification_report, \\\n",
    "accuracy_score\n",
    "from imblearn.over_sampling import SMOTE\n",
    "from imblearn.pipeline import Pipeline\n",
    "from sklearn.ensemble import AdaBoostClassifier, RandomForestClassifier\n",
    "from sklearn.metrics import (confusion_matrix, ConfusionMatrixDisplay,\n",
    "    classification_report, RocCurveDisplay)\n",
    "\n",
    "from sklearn.metrics import make_scorer, precision_recall_fscore_support\n",
    "\n",
    "import warnings\n",
    "warnings.filterwarnings('ignore')"
   ]
  },
  {
   "cell_type": "code",
   "execution_count": null,
   "id": "cc77caaa-a295-4675-b451-50617ed66e00",
   "metadata": {},
   "outputs": [],
   "source": [
    "df = pd.read_csv('../data/preprocessed_subsample_100k.csv')\n",
    "df.head()"
   ]
  },
  {
   "cell_type": "code",
   "execution_count": null,
   "id": "f31b56fb-9bc0-42a7-a5f9-47a1cc701c38",
   "metadata": {},
   "outputs": [],
   "source": [
    "# drop the probability density feature for now\n",
    "df.drop(['probability_density'], axis=1, inplace=True)"
   ]
  },
  {
   "cell_type": "code",
   "execution_count": null,
   "id": "8cce2fc3-fa49-465a-a5ee-d4402c52e61e",
   "metadata": {},
   "outputs": [],
   "source": [
    "X = df.drop(['is_fraud'], axis=1)\n",
    "y = df['is_fraud']"
   ]
  },
  {
   "cell_type": "code",
   "execution_count": null,
   "id": "64f3539c-e127-401f-8114-e84630b02be9",
   "metadata": {},
   "outputs": [],
   "source": [
    "y.value_counts()"
   ]
  },
  {
   "cell_type": "code",
   "execution_count": null,
   "id": "16141380-1954-4649-889e-7ba1a59bb77a",
   "metadata": {},
   "outputs": [],
   "source": [
    "y.value_counts(normalize=True).mul(100).round(2)"
   ]
  },
  {
   "cell_type": "code",
   "execution_count": null,
   "id": "2cf31f71-f4e4-4076-a529-ff6c4198c780",
   "metadata": {},
   "outputs": [],
   "source": [
    "X_train, X_test, y_train, y_test = train_test_split(X, y, \n",
    "                                                    test_size = 0.1,\n",
    "                                                    random_state = 42, \n",
    "                                                    stratify = y)"
   ]
  },
  {
   "cell_type": "code",
   "execution_count": null,
   "id": "1117e3a4-a5d9-4ed4-998a-92484f0c0d73",
   "metadata": {},
   "outputs": [],
   "source": [
    "print(y_train.value_counts(normalize=True).mul(100).round(2))\n",
    "print(y_train.value_counts())"
   ]
  },
  {
   "cell_type": "code",
   "execution_count": null,
   "id": "1a1e26f7-ef96-41a2-960a-41840d81fe0d",
   "metadata": {},
   "outputs": [],
   "source": [
    "# Scale our data...\n",
    "ss = StandardScaler()\n",
    "\n",
    "# Scaler fits or trains on the X_train only - does not see the\n",
    "# X_test (or imagined new data). \n",
    "X_train_sc = ss.fit_transform(X_train)\n",
    "\n",
    "# We take the scaling from X_train and apply that to the X_test \n",
    "X_test_sc = ss.transform(X_test)"
   ]
  },
  {
   "cell_type": "code",
   "execution_count": null,
   "id": "0608afce-319a-401f-a5f4-a4a697418522",
   "metadata": {},
   "outputs": [],
   "source": [
    "# leverage function from GA lesson on smote\n",
    "def metrics(y_test, y_predict):\n",
    "    print(f\"Accuracy score: {accuracy_score(y_test, y_predict)} \\n\")\n",
    "    print('----------------------------------------------------------------')\n",
    "    print(pd.DataFrame(confusion_matrix(y_test, y_predict), \n",
    "                            index=['not_fraud', 'Actually_fraud'], \n",
    "                            columns=['Predicted_not_Fraud', 'Predicted_fraud']), '\\n')\n",
    "    print('-----------------------------------------------------------------')\n",
    "    print(classification_report(y_test, y_predict))\n",
    "    print('-----------------------------------------------------------------')"
   ]
  },
  {
   "cell_type": "code",
   "execution_count": null,
   "id": "db70cb0b-c803-4088-85f3-814db65394d7",
   "metadata": {},
   "outputs": [],
   "source": [
    "# Now we can create synthetic data for our training set\n",
    "sm = SMOTE(random_state=42, n_jobs=-1)\n",
    "\n",
    "X_train_smote, y_train_smote = sm.fit_resample(X_train_sc, y_train)"
   ]
  },
  {
   "cell_type": "code",
   "execution_count": null,
   "id": "827d5458-49b1-43b8-89d3-0b3feb0316ca",
   "metadata": {},
   "outputs": [],
   "source": [
    "X_train_smote.shape, y_train_smote.shape"
   ]
  },
  {
   "cell_type": "code",
   "execution_count": null,
   "id": "c4044fa0-01f6-4783-a608-43354813c857",
   "metadata": {},
   "outputs": [],
   "source": [
    "y_train_smote.value_counts()"
   ]
  },
  {
   "cell_type": "markdown",
   "id": "2e54fcb5-8003-49a7-a55d-e8ee2d846028",
   "metadata": {},
   "source": [
    "## Random Forest model"
   ]
  },
  {
   "cell_type": "code",
   "execution_count": null,
   "id": "ee2c6b1b-fa4c-4606-9695-2b27ef5e8c06",
   "metadata": {},
   "outputs": [],
   "source": [
    "def weighted_recall_scorer(y_true, y_pred, beta=10, **kwargs):\n",
    "    \n",
    "    \"\"\"\n",
    "    Custom scoring function to prioritize recall for the minority class.\n",
    "    \n",
    "    Parameters: y_true(true target values), y_pred(predicted target values),\n",
    "                beta(weight of recall score)\n",
    "    \n",
    "    Returns: The fbeta-score of the positive class.\n",
    "    \"\"\"\n",
    "    # we only need the fbeta_score from the precision_recall_fscore_support function\n",
    "    # therefor we assign \"_, _,\" to denote we only need to return the fbeta_score\n",
    "    _, _, fbeta_score, _ = precision_recall_fscore_support(y_true, y_pred, \n",
    "                                                           beta=beta, pos_label=1)\n",
    "    return fbeta_score[1]\n",
    "\n",
    "custom_scorer = make_scorer(weighted_recall_scorer)"
   ]
  },
  {
   "cell_type": "code",
   "execution_count": null,
   "id": "798c5174-19aa-4b0e-b706-4fa91750ed0e",
   "metadata": {},
   "outputs": [],
   "source": [
    "pipe_rf_cs = Pipeline([\n",
    "        ('scale', StandardScaler()),\n",
    "        ('sampling', SMOTE()),\n",
    "        ('rfc', RandomForestClassifier())\n",
    "    ])\n",
    "\n",
    "pipe_params_rf_cs = {\n",
    "     'sampling__sampling_strategy': ['minority'],\n",
    "     'sampling__k_neighbors': [15],\n",
    "     'rfc__max_depth': [20],\n",
    "}\n",
    "\n",
    "# pipe_params_rf_cs = {\n",
    "#      'sampling__sampling_strategy': ['minority', 'not minority', 'auto'],\n",
    "#      'sampling__k_neighbors': [9, 12, 15],\n",
    "#      'rfc__max_depth': [20, 50, 100],\n",
    "# }\n",
    "\n",
    "# Best params: \n",
    "# {'rfc__max_depth': 20,\n",
    "#  'sampling__k_neighbors': 15,\n",
    "#  'sampling__sampling_strategy': 'minority'}"
   ]
  },
  {
   "cell_type": "code",
   "execution_count": null,
   "id": "23b9ad01-347a-4ab8-83dd-6d2b7a24123c",
   "metadata": {},
   "outputs": [],
   "source": [
    "grid_rf_cs = GridSearchCV(pipe_rf_cs, pipe_params_rf_cs, n_jobs=-1, scoring=custom_scorer)\n",
    "grid_rf_cs.fit(X_train, y_train)"
   ]
  },
  {
   "cell_type": "code",
   "execution_count": null,
   "id": "101f0b5c-4620-4eb9-966b-eeb6886654a9",
   "metadata": {},
   "outputs": [],
   "source": [
    "grid_rf_cs.score(X_train, y_train), grid_rf_cs.score(X_test, y_test)"
   ]
  },
  {
   "cell_type": "code",
   "execution_count": null,
   "id": "24fc70db-b213-43c9-8d1a-d5ffc45210cf",
   "metadata": {},
   "outputs": [],
   "source": [
    "grid_rf_cs.best_params_"
   ]
  },
  {
   "cell_type": "code",
   "execution_count": null,
   "id": "b55ef63a-0e4a-4650-817e-85e17bf23d5c",
   "metadata": {},
   "outputs": [],
   "source": [
    "grid_preds_rf_cs = grid_rf_cs.predict(X_test)"
   ]
  },
  {
   "cell_type": "code",
   "execution_count": null,
   "id": "dc7cd9ec-ec78-463d-ab4f-34e3ed885d71",
   "metadata": {},
   "outputs": [],
   "source": [
    "metrics(y_test, grid_preds_rf_cs)"
   ]
  },
  {
   "cell_type": "markdown",
   "id": "77da2cd6-bfef-4147-bb53-8e728fde2476",
   "metadata": {},
   "source": [
    "## Final model evaluation"
   ]
  },
  {
   "cell_type": "code",
   "execution_count": null,
   "id": "b6556c9e-2d43-456a-865d-d6f4e7b90909",
   "metadata": {},
   "outputs": [],
   "source": [
    "ConfusionMatrixDisplay.from_estimator(grid_rf_cs, X_test, y_test, cmap='viridis', display_labels=['Not Fraud', 'Fraud'], colorbar=False)\n",
    "plt.title('Test')"
   ]
  },
  {
   "cell_type": "code",
   "execution_count": null,
   "id": "0f3c80df-1380-46d4-b1c5-09df6ba767f7",
   "metadata": {},
   "outputs": [],
   "source": [
    "# Create an ax object\n",
    "ax = plt.gca()\n",
    "\n",
    "# Use RocCurveDisplay for both estimators\n",
    "RocCurveDisplay.from_estimator(grid_rf_cs, X_test, y_test, \n",
    "                               ax=ax, name='Random Forest')\n",
    "\n",
    "# Add 'worst case scenario' line\n",
    "plt.plot([0,1], [0,1], label='no prediction value', \n",
    "         linestyle='--', color='gray')\n",
    "\n",
    "plt.title('Receiver Operating Characteristic Curve')\n",
    "plt.xlabel('False Positive Rate')\n",
    "plt.ylabel('True Positive Rate')\n",
    "# Necessary to label the baseline\n",
    "plt.legend();"
   ]
  },
  {
   "cell_type": "code",
   "execution_count": null,
   "id": "00b9572b-fae3-4002-959b-03b37dd8c934",
   "metadata": {},
   "outputs": [],
   "source": []
  },
  {
   "cell_type": "markdown",
   "id": "c5e75d95-81e9-425a-b7d5-a2044babec2d",
   "metadata": {},
   "source": [
    "# Summary and Recommendations"
   ]
  },
  {
   "cell_type": "code",
   "execution_count": null,
   "id": "2844daa8-fbec-4690-8282-b677aceef94e",
   "metadata": {},
   "outputs": [],
   "source": []
  }
 ],
 "metadata": {
  "kernelspec": {
   "display_name": "Python 3 (ipykernel)",
   "language": "python",
   "name": "python3"
  },
  "language_info": {
   "codemirror_mode": {
    "name": "ipython",
    "version": 3
   },
   "file_extension": ".py",
   "mimetype": "text/x-python",
   "name": "python",
   "nbconvert_exporter": "python",
   "pygments_lexer": "ipython3",
   "version": "3.9.13"
  }
 },
 "nbformat": 4,
 "nbformat_minor": 5
}
