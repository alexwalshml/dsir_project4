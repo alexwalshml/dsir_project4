{
 "cells": [
  {
   "cell_type": "markdown",
   "id": "9dc38c44-c2ab-4b9d-84ab-214b636f5aef",
   "metadata": {},
   "source": [
    "<img src=\"http://imgur.com/1ZcRyrc.png\" style=\"float: left; margin: 15px; height: 80px\">\n",
    "\n",
    "# Project 4 Final Model"
   ]
  },
  {
   "cell_type": "markdown",
   "id": "6e49a289-ed62-437c-931d-a424ae9d7326",
   "metadata": {},
   "source": [
    "This notebook containts the evaluation of our final model and recommendations, using our entire dataset created from our simulation."
   ]
  },
  {
   "cell_type": "code",
   "execution_count": 1,
   "id": "8dd84a1e-eb70-4b60-bac8-4f861c827764",
   "metadata": {},
   "outputs": [],
   "source": [
    "# You will need to run the folding command from your terminal to run this notebook\n",
    "# or uncomment the line below:\n",
    "# conda install -c conda-forge imbalanced-learn"
   ]
  },
  {
   "cell_type": "code",
   "execution_count": 3,
   "id": "de2e3260-3623-4b9a-a8d8-6e3c33a2cf16",
   "metadata": {},
   "outputs": [],
   "source": [
    "import pandas as pd\n",
    "import numpy as np\n",
    "import matplotlib.pyplot as plt\n",
    "from sklearn.linear_model import LogisticRegression\n",
    "from sklearn.model_selection import train_test_split\n",
    "from sklearn.preprocessing import StandardScaler\n",
    "from sklearn.model_selection import GridSearchCV\n",
    "from sklearn.metrics import confusion_matrix, classification_report, \\\n",
    "accuracy_score\n",
    "from imblearn.over_sampling import SMOTE\n",
    "from imblearn.pipeline import Pipeline\n",
    "from sklearn.ensemble import AdaBoostClassifier, RandomForestClassifier\n",
    "from sklearn.metrics import (confusion_matrix, ConfusionMatrixDisplay,\n",
    "    classification_report, RocCurveDisplay)\n",
    "\n",
    "from sklearn.metrics import make_scorer, precision_recall_fscore_support\n",
    "\n",
    "import warnings\n",
    "warnings.filterwarnings('ignore')"
   ]
  },
  {
   "cell_type": "code",
   "execution_count": 6,
   "id": "cc77caaa-a295-4675-b451-50617ed66e00",
   "metadata": {},
   "outputs": [
    {
     "data": {
      "text/html": [
       "<div>\n",
       "<style scoped>\n",
       "    .dataframe tbody tr th:only-of-type {\n",
       "        vertical-align: middle;\n",
       "    }\n",
       "\n",
       "    .dataframe tbody tr th {\n",
       "        vertical-align: top;\n",
       "    }\n",
       "\n",
       "    .dataframe thead th {\n",
       "        text-align: right;\n",
       "    }\n",
       "</style>\n",
       "<table border=\"1\" class=\"dataframe\">\n",
       "  <thead>\n",
       "    <tr style=\"text-align: right;\">\n",
       "      <th></th>\n",
       "      <th>Unnamed: 0</th>\n",
       "      <th>lat</th>\n",
       "      <th>long</th>\n",
       "      <th>amt</th>\n",
       "      <th>is_fraud</th>\n",
       "      <th>merch_lat</th>\n",
       "      <th>merch_long</th>\n",
       "      <th>timedelta</th>\n",
       "      <th>time</th>\n",
       "      <th>weekday</th>\n",
       "      <th>...</th>\n",
       "      <th>category_misc_net_fraction_rolling_100</th>\n",
       "      <th>category_misc_pos_fraction_rolling_100</th>\n",
       "      <th>category_personal_care_fraction_rolling_100</th>\n",
       "      <th>category_shopping_net_fraction_rolling_100</th>\n",
       "      <th>category_shopping_pos_fraction_rolling_100</th>\n",
       "      <th>category_travel_fraction_rolling_100</th>\n",
       "      <th>thirty_day_avg_amt</th>\n",
       "      <th>total_daily_amount</th>\n",
       "      <th>total_daily_transactions</th>\n",
       "      <th>probability_density</th>\n",
       "    </tr>\n",
       "  </thead>\n",
       "  <tbody>\n",
       "    <tr>\n",
       "      <th>0</th>\n",
       "      <td>691900</td>\n",
       "      <td>0.621990</td>\n",
       "      <td>-1.441024</td>\n",
       "      <td>18.24</td>\n",
       "      <td>0</td>\n",
       "      <td>0.621654</td>\n",
       "      <td>-1.428358</td>\n",
       "      <td>0</td>\n",
       "      <td>12960</td>\n",
       "      <td>1</td>\n",
       "      <td>...</td>\n",
       "      <td>0.0</td>\n",
       "      <td>0.0</td>\n",
       "      <td>0.0</td>\n",
       "      <td>0.0</td>\n",
       "      <td>0.0</td>\n",
       "      <td>0.0</td>\n",
       "      <td>18.24</td>\n",
       "      <td>18.24</td>\n",
       "      <td>1</td>\n",
       "      <td>1.0</td>\n",
       "    </tr>\n",
       "    <tr>\n",
       "      <th>1</th>\n",
       "      <td>754418</td>\n",
       "      <td>0.770415</td>\n",
       "      <td>-1.801271</td>\n",
       "      <td>7.42</td>\n",
       "      <td>0</td>\n",
       "      <td>0.780922</td>\n",
       "      <td>-1.795226</td>\n",
       "      <td>0</td>\n",
       "      <td>23040</td>\n",
       "      <td>1</td>\n",
       "      <td>...</td>\n",
       "      <td>0.0</td>\n",
       "      <td>0.0</td>\n",
       "      <td>0.0</td>\n",
       "      <td>0.0</td>\n",
       "      <td>0.0</td>\n",
       "      <td>0.0</td>\n",
       "      <td>7.42</td>\n",
       "      <td>7.42</td>\n",
       "      <td>1</td>\n",
       "      <td>1.0</td>\n",
       "    </tr>\n",
       "    <tr>\n",
       "      <th>2</th>\n",
       "      <td>2446544</td>\n",
       "      <td>0.607542</td>\n",
       "      <td>-1.570962</td>\n",
       "      <td>82.07</td>\n",
       "      <td>0</td>\n",
       "      <td>0.602956</td>\n",
       "      <td>-1.553939</td>\n",
       "      <td>0</td>\n",
       "      <td>73440</td>\n",
       "      <td>5</td>\n",
       "      <td>...</td>\n",
       "      <td>0.0</td>\n",
       "      <td>0.0</td>\n",
       "      <td>0.0</td>\n",
       "      <td>0.0</td>\n",
       "      <td>0.0</td>\n",
       "      <td>0.0</td>\n",
       "      <td>82.07</td>\n",
       "      <td>82.07</td>\n",
       "      <td>1</td>\n",
       "      <td>1.0</td>\n",
       "    </tr>\n",
       "    <tr>\n",
       "      <th>3</th>\n",
       "      <td>1388156</td>\n",
       "      <td>0.800787</td>\n",
       "      <td>-1.664730</td>\n",
       "      <td>43.03</td>\n",
       "      <td>0</td>\n",
       "      <td>0.791665</td>\n",
       "      <td>-1.659873</td>\n",
       "      <td>0</td>\n",
       "      <td>10080</td>\n",
       "      <td>0</td>\n",
       "      <td>...</td>\n",
       "      <td>0.0</td>\n",
       "      <td>0.0</td>\n",
       "      <td>0.0</td>\n",
       "      <td>0.0</td>\n",
       "      <td>0.0</td>\n",
       "      <td>0.0</td>\n",
       "      <td>43.03</td>\n",
       "      <td>43.03</td>\n",
       "      <td>1</td>\n",
       "      <td>1.0</td>\n",
       "    </tr>\n",
       "    <tr>\n",
       "      <th>4</th>\n",
       "      <td>1475370</td>\n",
       "      <td>0.534614</td>\n",
       "      <td>-1.538661</td>\n",
       "      <td>80.40</td>\n",
       "      <td>0</td>\n",
       "      <td>0.519655</td>\n",
       "      <td>-1.521959</td>\n",
       "      <td>0</td>\n",
       "      <td>10080</td>\n",
       "      <td>0</td>\n",
       "      <td>...</td>\n",
       "      <td>0.0</td>\n",
       "      <td>0.0</td>\n",
       "      <td>0.0</td>\n",
       "      <td>0.0</td>\n",
       "      <td>0.0</td>\n",
       "      <td>0.0</td>\n",
       "      <td>80.40</td>\n",
       "      <td>80.40</td>\n",
       "      <td>1</td>\n",
       "      <td>1.0</td>\n",
       "    </tr>\n",
       "  </tbody>\n",
       "</table>\n",
       "<p>5 rows × 92 columns</p>\n",
       "</div>"
      ],
      "text/plain": [
       "   Unnamed: 0       lat      long    amt  is_fraud  merch_lat  merch_long  \\\n",
       "0      691900  0.621990 -1.441024  18.24         0   0.621654   -1.428358   \n",
       "1      754418  0.770415 -1.801271   7.42         0   0.780922   -1.795226   \n",
       "2     2446544  0.607542 -1.570962  82.07         0   0.602956   -1.553939   \n",
       "3     1388156  0.800787 -1.664730  43.03         0   0.791665   -1.659873   \n",
       "4     1475370  0.534614 -1.538661  80.40         0   0.519655   -1.521959   \n",
       "\n",
       "   timedelta   time  weekday  ...  category_misc_net_fraction_rolling_100  \\\n",
       "0          0  12960        1  ...                                     0.0   \n",
       "1          0  23040        1  ...                                     0.0   \n",
       "2          0  73440        5  ...                                     0.0   \n",
       "3          0  10080        0  ...                                     0.0   \n",
       "4          0  10080        0  ...                                     0.0   \n",
       "\n",
       "   category_misc_pos_fraction_rolling_100  \\\n",
       "0                                     0.0   \n",
       "1                                     0.0   \n",
       "2                                     0.0   \n",
       "3                                     0.0   \n",
       "4                                     0.0   \n",
       "\n",
       "   category_personal_care_fraction_rolling_100  \\\n",
       "0                                          0.0   \n",
       "1                                          0.0   \n",
       "2                                          0.0   \n",
       "3                                          0.0   \n",
       "4                                          0.0   \n",
       "\n",
       "   category_shopping_net_fraction_rolling_100  \\\n",
       "0                                         0.0   \n",
       "1                                         0.0   \n",
       "2                                         0.0   \n",
       "3                                         0.0   \n",
       "4                                         0.0   \n",
       "\n",
       "   category_shopping_pos_fraction_rolling_100  \\\n",
       "0                                         0.0   \n",
       "1                                         0.0   \n",
       "2                                         0.0   \n",
       "3                                         0.0   \n",
       "4                                         0.0   \n",
       "\n",
       "   category_travel_fraction_rolling_100  thirty_day_avg_amt  \\\n",
       "0                                   0.0               18.24   \n",
       "1                                   0.0                7.42   \n",
       "2                                   0.0               82.07   \n",
       "3                                   0.0               43.03   \n",
       "4                                   0.0               80.40   \n",
       "\n",
       "   total_daily_amount  total_daily_transactions  probability_density  \n",
       "0               18.24                         1                  1.0  \n",
       "1                7.42                         1                  1.0  \n",
       "2               82.07                         1                  1.0  \n",
       "3               43.03                         1                  1.0  \n",
       "4               80.40                         1                  1.0  \n",
       "\n",
       "[5 rows x 92 columns]"
      ]
     },
     "execution_count": 6,
     "metadata": {},
     "output_type": "execute_result"
    }
   ],
   "source": [
    "df = pd.read_csv('data/preprocessed_data.csv')\n",
    "df.head()"
   ]
  },
  {
   "cell_type": "code",
   "execution_count": 9,
   "id": "f31b56fb-9bc0-42a7-a5f9-47a1cc701c38",
   "metadata": {},
   "outputs": [],
   "source": [
    "# drop the probability density feature for now\n",
    "df.drop(['probability_density', 'Unnamed: 0'], axis=1, inplace=True)"
   ]
  },
  {
   "cell_type": "code",
   "execution_count": 10,
   "id": "8cce2fc3-fa49-465a-a5ee-d4402c52e61e",
   "metadata": {},
   "outputs": [],
   "source": [
    "X = df.drop(['is_fraud'], axis=1)\n",
    "y = df['is_fraud']"
   ]
  },
  {
   "cell_type": "code",
   "execution_count": 11,
   "id": "64f3539c-e127-401f-8114-e84630b02be9",
   "metadata": {},
   "outputs": [
    {
     "data": {
      "text/plain": [
       "0    2586148\n",
       "1      14306\n",
       "Name: is_fraud, dtype: int64"
      ]
     },
     "execution_count": 11,
     "metadata": {},
     "output_type": "execute_result"
    }
   ],
   "source": [
    "y.value_counts()"
   ]
  },
  {
   "cell_type": "code",
   "execution_count": 12,
   "id": "16141380-1954-4649-889e-7ba1a59bb77a",
   "metadata": {},
   "outputs": [
    {
     "data": {
      "text/plain": [
       "0    99.45\n",
       "1     0.55\n",
       "Name: is_fraud, dtype: float64"
      ]
     },
     "execution_count": 12,
     "metadata": {},
     "output_type": "execute_result"
    }
   ],
   "source": [
    "y.value_counts(normalize=True).mul(100).round(2)"
   ]
  },
  {
   "cell_type": "code",
   "execution_count": 13,
   "id": "2cf31f71-f4e4-4076-a529-ff6c4198c780",
   "metadata": {},
   "outputs": [],
   "source": [
    "X_train, X_test, y_train, y_test = train_test_split(X, y, \n",
    "                                                    test_size = 0.1,\n",
    "                                                    random_state = 42, \n",
    "                                                    stratify = y)"
   ]
  },
  {
   "cell_type": "code",
   "execution_count": 14,
   "id": "1117e3a4-a5d9-4ed4-998a-92484f0c0d73",
   "metadata": {},
   "outputs": [
    {
     "name": "stdout",
     "output_type": "stream",
     "text": [
      "0    99.45\n",
      "1     0.55\n",
      "Name: is_fraud, dtype: float64\n",
      "0    2327533\n",
      "1      12875\n",
      "Name: is_fraud, dtype: int64\n"
     ]
    }
   ],
   "source": [
    "print(y_train.value_counts(normalize=True).mul(100).round(2))\n",
    "print(y_train.value_counts())"
   ]
  },
  {
   "cell_type": "code",
   "execution_count": 15,
   "id": "1a1e26f7-ef96-41a2-960a-41840d81fe0d",
   "metadata": {},
   "outputs": [],
   "source": [
    "# Scale our data...\n",
    "ss = StandardScaler()\n",
    "\n",
    "# Scaler fits or trains on the X_train only - does not see the\n",
    "# X_test (or imagined new data). \n",
    "X_train_sc = ss.fit_transform(X_train)\n",
    "\n",
    "# We take the scaling from X_train and apply that to the X_test \n",
    "X_test_sc = ss.transform(X_test)"
   ]
  },
  {
   "cell_type": "code",
   "execution_count": 16,
   "id": "0608afce-319a-401f-a5f4-a4a697418522",
   "metadata": {},
   "outputs": [],
   "source": [
    "# leverage function from GA lesson on smote\n",
    "def metrics(y_test, y_predict):\n",
    "    print(f\"Accuracy score: {accuracy_score(y_test, y_predict)} \\n\")\n",
    "    print('----------------------------------------------------------------')\n",
    "    print(pd.DataFrame(confusion_matrix(y_test, y_predict), \n",
    "                            index=['not_fraud', 'Actually_fraud'], \n",
    "                            columns=['Predicted_not_Fraud', 'Predicted_fraud']), '\\n')\n",
    "    print('-----------------------------------------------------------------')\n",
    "    print(classification_report(y_test, y_predict))\n",
    "    print('-----------------------------------------------------------------')"
   ]
  },
  {
   "cell_type": "code",
   "execution_count": 17,
   "id": "db70cb0b-c803-4088-85f3-814db65394d7",
   "metadata": {},
   "outputs": [],
   "source": [
    "# Now we can create synthetic data for our training set\n",
    "sm = SMOTE(random_state=42, n_jobs=-1)\n",
    "\n",
    "X_train_smote, y_train_smote = sm.fit_resample(X_train_sc, y_train)"
   ]
  },
  {
   "cell_type": "code",
   "execution_count": 18,
   "id": "827d5458-49b1-43b8-89d3-0b3feb0316ca",
   "metadata": {},
   "outputs": [
    {
     "data": {
      "text/plain": [
       "((4655066, 89), (4655066,))"
      ]
     },
     "execution_count": 18,
     "metadata": {},
     "output_type": "execute_result"
    }
   ],
   "source": [
    "X_train_smote.shape, y_train_smote.shape"
   ]
  },
  {
   "cell_type": "code",
   "execution_count": 19,
   "id": "c4044fa0-01f6-4783-a608-43354813c857",
   "metadata": {},
   "outputs": [
    {
     "data": {
      "text/plain": [
       "0    2327533\n",
       "1    2327533\n",
       "Name: is_fraud, dtype: int64"
      ]
     },
     "execution_count": 19,
     "metadata": {},
     "output_type": "execute_result"
    }
   ],
   "source": [
    "y_train_smote.value_counts()"
   ]
  },
  {
   "cell_type": "markdown",
   "id": "2e54fcb5-8003-49a7-a55d-e8ee2d846028",
   "metadata": {},
   "source": [
    "## Random Forest model"
   ]
  },
  {
   "cell_type": "code",
   "execution_count": 20,
   "id": "ee2c6b1b-fa4c-4606-9695-2b27ef5e8c06",
   "metadata": {},
   "outputs": [],
   "source": [
    "def weighted_recall_scorer(y_true, y_pred, beta=10, **kwargs):\n",
    "    \n",
    "    \"\"\"\n",
    "    Custom scoring function to prioritize recall for the minority class.\n",
    "    \n",
    "    Parameters: y_true(true target values), y_pred(predicted target values),\n",
    "                beta(weight of recall score)\n",
    "    \n",
    "    Returns: The fbeta-score of the positive class.\n",
    "    \"\"\"\n",
    "    # we only need the fbeta_score from the precision_recall_fscore_support function\n",
    "    # therefor we assign \"_, _,\" to denote we only need to return the fbeta_score\n",
    "    _, _, fbeta_score, _ = precision_recall_fscore_support(y_true, y_pred, \n",
    "                                                           beta=beta, pos_label=1)\n",
    "    return fbeta_score[1]\n",
    "\n",
    "custom_scorer = make_scorer(weighted_recall_scorer)"
   ]
  },
  {
   "cell_type": "code",
   "execution_count": 21,
   "id": "798c5174-19aa-4b0e-b706-4fa91750ed0e",
   "metadata": {},
   "outputs": [],
   "source": [
    "pipe_rf_cs = Pipeline([\n",
    "        ('scale', StandardScaler()),\n",
    "        ('sampling', SMOTE()),\n",
    "        ('rfc', RandomForestClassifier())\n",
    "    ])\n",
    "\n",
    "pipe_params_rf_cs = {\n",
    "     'sampling__sampling_strategy': ['minority'],\n",
    "     'sampling__k_neighbors': [15],\n",
    "     'rfc__max_depth': [20],\n",
    "}\n",
    "\n",
    "# pipe_params_rf_cs = {\n",
    "#      'sampling__sampling_strategy': ['minority', 'not minority', 'auto'],\n",
    "#      'sampling__k_neighbors': [9, 12, 15],\n",
    "#      'rfc__max_depth': [20, 50, 100],\n",
    "# }\n",
    "\n",
    "# Best params: \n",
    "# {'rfc__max_depth': 20,\n",
    "#  'sampling__k_neighbors': 15,\n",
    "#  'sampling__sampling_strategy': 'minority'}"
   ]
  },
  {
   "cell_type": "code",
   "execution_count": 22,
   "id": "23b9ad01-347a-4ab8-83dd-6d2b7a24123c",
   "metadata": {},
   "outputs": [
    {
     "data": {
      "text/plain": [
       "GridSearchCV(estimator=Pipeline(steps=[('scale', StandardScaler()),\n",
       "                                       ('sampling', SMOTE()),\n",
       "                                       ('rfc', RandomForestClassifier())]),\n",
       "             n_jobs=-1,\n",
       "             param_grid={'rfc__max_depth': [20], 'sampling__k_neighbors': [15],\n",
       "                         'sampling__sampling_strategy': ['minority']},\n",
       "             scoring=make_scorer(weighted_recall_scorer))"
      ]
     },
     "execution_count": 22,
     "metadata": {},
     "output_type": "execute_result"
    }
   ],
   "source": [
    "grid_rf_cs = GridSearchCV(pipe_rf_cs, pipe_params_rf_cs, n_jobs=-1, scoring=custom_scorer)\n",
    "grid_rf_cs.fit(X_train, y_train)"
   ]
  },
  {
   "cell_type": "code",
   "execution_count": 23,
   "id": "101f0b5c-4620-4eb9-966b-eeb6886654a9",
   "metadata": {},
   "outputs": [
    {
     "data": {
      "text/plain": [
       "(0.9952678307828569, 0.9721544195437668)"
      ]
     },
     "execution_count": 23,
     "metadata": {},
     "output_type": "execute_result"
    }
   ],
   "source": [
    "grid_rf_cs.score(X_train, y_train), grid_rf_cs.score(X_test, y_test)"
   ]
  },
  {
   "cell_type": "code",
   "execution_count": 24,
   "id": "24fc70db-b213-43c9-8d1a-d5ffc45210cf",
   "metadata": {},
   "outputs": [
    {
     "data": {
      "text/plain": [
       "{'rfc__max_depth': 20,\n",
       " 'sampling__k_neighbors': 15,\n",
       " 'sampling__sampling_strategy': 'minority'}"
      ]
     },
     "execution_count": 24,
     "metadata": {},
     "output_type": "execute_result"
    }
   ],
   "source": [
    "grid_rf_cs.best_params_"
   ]
  },
  {
   "cell_type": "code",
   "execution_count": 25,
   "id": "b55ef63a-0e4a-4650-817e-85e17bf23d5c",
   "metadata": {},
   "outputs": [],
   "source": [
    "grid_preds_rf_cs = grid_rf_cs.predict(X_test)"
   ]
  },
  {
   "cell_type": "code",
   "execution_count": 26,
   "id": "dc7cd9ec-ec78-463d-ab4f-34e3ed885d71",
   "metadata": {},
   "outputs": [
    {
     "name": "stdout",
     "output_type": "stream",
     "text": [
      "Accuracy score: 0.9993616514001369 \n",
      "\n",
      "----------------------------------------------------------------\n",
      "                Predicted_not_Fraud  Predicted_fraud\n",
      "not_fraud                    258488              127\n",
      "Actually_fraud                   39             1392 \n",
      "\n",
      "-----------------------------------------------------------------\n",
      "              precision    recall  f1-score   support\n",
      "\n",
      "           0       1.00      1.00      1.00    258615\n",
      "           1       0.92      0.97      0.94      1431\n",
      "\n",
      "    accuracy                           1.00    260046\n",
      "   macro avg       0.96      0.99      0.97    260046\n",
      "weighted avg       1.00      1.00      1.00    260046\n",
      "\n",
      "-----------------------------------------------------------------\n"
     ]
    }
   ],
   "source": [
    "metrics(y_test, grid_preds_rf_cs)"
   ]
  },
  {
   "cell_type": "markdown",
   "id": "77da2cd6-bfef-4147-bb53-8e728fde2476",
   "metadata": {},
   "source": [
    "## Final model evaluation"
   ]
  },
  {
   "cell_type": "code",
   "execution_count": 33,
   "id": "b6556c9e-2d43-456a-865d-d6f4e7b90909",
   "metadata": {},
   "outputs": [
    {
     "data": {
      "text/plain": [
       "Text(0.5, 1.0, 'Test')"
      ]
     },
     "execution_count": 33,
     "metadata": {},
     "output_type": "execute_result"
    },
    {
     "data": {
      "image/png": "[encoded data removed]",
      "text/plain": [
       "<Figure size 640x480 with 2 Axes>"
      ]
     },
     "metadata": {},
     "output_type": "display_data"
    }
   ],
   "source": [
    "ConfusionMatrixDisplay.from_estimator(grid_rf_cs, X_test, y_test, cmap='cividis', display_labels=['Not Fraud', 'Fraud'], colorbar=True)\n",
    "plt.title('Test')"
   ]
  },
  {
   "cell_type": "code",
   "execution_count": 28,
   "id": "0f3c80df-1380-46d4-b1c5-09df6ba767f7",
   "metadata": {},
   "outputs": [
    {
     "data": {
      "image/png": "[encoded data removed]",
      "text/plain": [
       "<Figure size 640x480 with 1 Axes>"
      ]
     },
     "metadata": {},
     "output_type": "display_data"
    }
   ],
   "source": [
    "# Create an ax object\n",
    "ax = plt.gca()\n",
    "\n",
    "# Use RocCurveDisplay for both estimators\n",
    "RocCurveDisplay.from_estimator(grid_rf_cs, X_test, y_test, \n",
    "                               ax=ax, name='Random Forest')\n",
    "\n",
    "# Add 'worst case scenario' line\n",
    "plt.plot([0,1], [0,1], label='no prediction value', \n",
    "         linestyle='--', color='gray')\n",
    "\n",
    "plt.title('Receiver Operating Characteristic Curve')\n",
    "plt.xlabel('False Positive Rate')\n",
    "plt.ylabel('True Positive Rate')\n",
    "# Necessary to label the baseline\n",
    "plt.legend();"
   ]
  },
  {
   "cell_type": "markdown",
   "id": "71da5854-e397-49bc-b59c-7e8e0acc919c",
   "metadata": {},
   "source": [
    "Our model improved in crucial performance metrics when tested on a large data set. Our recall score is up to 0.97, and we observe approximately 2% of false negatives in the testing set. In addition, our ROC curve indicates our model performs very well regarding its ability to distinguish between classes. With more time, we would run a full grid search and test multiple algorithms on the entire data set. Nonetheless, our model performs very well as currently implemented on the simulation-generated data. "
   ]
  },
  {
   "cell_type": "markdown",
   "id": "c5e75d95-81e9-425a-b7d5-a2044babec2d",
   "metadata": {},
   "source": [
    "# Summary and Recommendations"
   ]
  },
  {
   "cell_type": "markdown",
   "id": "31c65083-cd75-4285-a9ba-ddcc3d817d78",
   "metadata": {},
   "source": [
    "In this project, we leveraged a simulation-generated data to train and build a fraud detection model to protect consumers from credit card fraud. We analyzed the data and highlighted meaningful trends that related to predicting fraudulent activity. We engineered features to account for different consumer spending habits and calculation window sizes to reflect short and long term changes in spending habits, wWe built several classification models to evaluate model performance and address the challenges of highly imbalanced classes. We engineered several features and transformed the data when applicable to aid in model performance. The final model was a Random Forest algorithm which was nearly 99% accurate, with only 2% false negative predictions. We recommend implementing our algorithm to reduce future fraud and protect consumers. "
   ]
  }
 ],
 "metadata": {
  "kernelspec": {
   "display_name": "Python 3 (ipykernel)",
   "language": "python",
   "name": "python3"
  },
  "language_info": {
   "codemirror_mode": {
    "name": "ipython",
    "version": 3
   },
   "file_extension": ".py",
   "mimetype": "text/x-python",
   "name": "python",
   "nbconvert_exporter": "python",
   "pygments_lexer": "ipython3",
   "version": "3.9.13"
  }
 },
 "nbformat": 4,
 "nbformat_minor": 5
}
