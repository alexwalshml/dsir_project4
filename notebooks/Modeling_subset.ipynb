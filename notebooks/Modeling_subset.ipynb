{
 "cells": [
  {
   "cell_type": "markdown",
   "id": "8136bf3c-fe3c-4ab8-8b78-21bcf810d54b",
   "metadata": {},
   "source": [
    "<img src=\"http://imgur.com/1ZcRyrc.png\" style=\"float: left; margin: 15px; height: 80px\">\n",
    "\n",
    "# Project 4 Modeling"
   ]
  },
  {
   "cell_type": "markdown",
   "id": "c74a6ec8-5803-478c-a26b-1eb17c4668e5",
   "metadata": {},
   "source": [
    "This notebook covers our modeling sections where we will implement several classification algorithims and sampling techniques to evaluate model performance. We will analyze the results and discuss key classification metrics for fraud detection. Due to the size of our data and project time constraints, we will evaluate model performance on a subset of 100k data points. All of the analysis in this notebook is done leverging this subset. Based on our findings, we will select the best model to run on the entire, 2 million observation dataset in the final model notebook."
   ]
  },
  {
   "cell_type": "markdown",
   "id": "75f15a8c-e8f1-46c7-b565-7492791b6248",
   "metadata": {},
   "source": [
    "#### Model imports"
   ]
  },
  {
   "cell_type": "code",
   "execution_count": 69,
   "id": "eca74a82-ec5f-46d7-b8a4-38045a2b02a5",
   "metadata": {},
   "outputs": [],
   "source": [
    "import pandas as pd\n",
    "import numpy as np\n",
    "import matplotlib.pyplot as plt\n",
    "from sklearn.linear_model import LogisticRegression\n",
    "from sklearn.model_selection import train_test_split\n",
    "from sklearn.preprocessing import StandardScaler\n",
    "from sklearn.model_selection import GridSearchCV\n",
    "from sklearn.metrics import confusion_matrix, classification_report, \\\n",
    "accuracy_score\n",
    "from imblearn.over_sampling import SMOTE\n",
    "from imblearn.pipeline import Pipeline\n",
    "from sklearn.ensemble import AdaBoostClassifier, RandomForestClassifier\n",
    "from sklearn.metrics import (confusion_matrix, ConfusionMatrixDisplay,\n",
    "    classification_report, RocCurveDisplay)\n",
    "\n",
    "from sklearn.metrics import make_scorer, precision_recall_fscore_support\n",
    "\n",
    "import warnings\n",
    "warnings.filterwarnings('ignore')"
   ]
  },
  {
   "cell_type": "markdown",
   "id": "0a114bcf-34ec-4117-8148-6d6e7b3f6b9f",
   "metadata": {},
   "source": [
    "#### Read in preprocessed data"
   ]
  },
  {
   "cell_type": "code",
   "execution_count": 2,
   "id": "c807bdc2-ecb3-4b21-97e4-28c664118c90",
   "metadata": {},
   "outputs": [
    {
     "data": {
      "text/html": [
       "<div>\n",
       "<style scoped>\n",
       "    .dataframe tbody tr th:only-of-type {\n",
       "        vertical-align: middle;\n",
       "    }\n",
       "\n",
       "    .dataframe tbody tr th {\n",
       "        vertical-align: top;\n",
       "    }\n",
       "\n",
       "    .dataframe thead th {\n",
       "        text-align: right;\n",
       "    }\n",
       "</style>\n",
       "<table border=\"1\" class=\"dataframe\">\n",
       "  <thead>\n",
       "    <tr style=\"text-align: right;\">\n",
       "      <th></th>\n",
       "      <th>lat</th>\n",
       "      <th>long</th>\n",
       "      <th>amt</th>\n",
       "      <th>is_fraud</th>\n",
       "      <th>merch_lat</th>\n",
       "      <th>merch_long</th>\n",
       "      <th>timedelta</th>\n",
       "      <th>time</th>\n",
       "      <th>weekday</th>\n",
       "      <th>avg_long_rolling_10</th>\n",
       "      <th>...</th>\n",
       "      <th>category_misc_net_fraction_rolling_100</th>\n",
       "      <th>category_misc_pos_fraction_rolling_100</th>\n",
       "      <th>category_personal_care_fraction_rolling_100</th>\n",
       "      <th>category_shopping_net_fraction_rolling_100</th>\n",
       "      <th>category_shopping_pos_fraction_rolling_100</th>\n",
       "      <th>category_travel_fraction_rolling_100</th>\n",
       "      <th>thirty_day_avg_amt</th>\n",
       "      <th>total_daily_amount</th>\n",
       "      <th>total_daily_transactions</th>\n",
       "      <th>probability_density</th>\n",
       "    </tr>\n",
       "  </thead>\n",
       "  <tbody>\n",
       "    <tr>\n",
       "      <th>0</th>\n",
       "      <td>0.621990</td>\n",
       "      <td>-1.441024</td>\n",
       "      <td>18.24</td>\n",
       "      <td>0</td>\n",
       "      <td>0.621654</td>\n",
       "      <td>-1.428358</td>\n",
       "      <td>0</td>\n",
       "      <td>12960</td>\n",
       "      <td>1</td>\n",
       "      <td>-1.441024</td>\n",
       "      <td>...</td>\n",
       "      <td>0.0</td>\n",
       "      <td>0.0</td>\n",
       "      <td>0.0</td>\n",
       "      <td>0.0</td>\n",
       "      <td>0.0</td>\n",
       "      <td>0.0</td>\n",
       "      <td>18.24</td>\n",
       "      <td>18.24</td>\n",
       "      <td>1</td>\n",
       "      <td>2.098347e-110</td>\n",
       "    </tr>\n",
       "    <tr>\n",
       "      <th>1</th>\n",
       "      <td>0.770415</td>\n",
       "      <td>-1.801271</td>\n",
       "      <td>7.42</td>\n",
       "      <td>0</td>\n",
       "      <td>0.780922</td>\n",
       "      <td>-1.795226</td>\n",
       "      <td>0</td>\n",
       "      <td>23040</td>\n",
       "      <td>1</td>\n",
       "      <td>-1.801271</td>\n",
       "      <td>...</td>\n",
       "      <td>0.0</td>\n",
       "      <td>0.0</td>\n",
       "      <td>0.0</td>\n",
       "      <td>0.0</td>\n",
       "      <td>0.0</td>\n",
       "      <td>0.0</td>\n",
       "      <td>7.42</td>\n",
       "      <td>7.42</td>\n",
       "      <td>1</td>\n",
       "      <td>2.633248e-107</td>\n",
       "    </tr>\n",
       "    <tr>\n",
       "      <th>2</th>\n",
       "      <td>0.607542</td>\n",
       "      <td>-1.570962</td>\n",
       "      <td>82.07</td>\n",
       "      <td>0</td>\n",
       "      <td>0.602956</td>\n",
       "      <td>-1.553939</td>\n",
       "      <td>0</td>\n",
       "      <td>73440</td>\n",
       "      <td>5</td>\n",
       "      <td>-1.570962</td>\n",
       "      <td>...</td>\n",
       "      <td>0.0</td>\n",
       "      <td>0.0</td>\n",
       "      <td>0.0</td>\n",
       "      <td>0.0</td>\n",
       "      <td>0.0</td>\n",
       "      <td>0.0</td>\n",
       "      <td>82.07</td>\n",
       "      <td>82.07</td>\n",
       "      <td>1</td>\n",
       "      <td>2.161357e-98</td>\n",
       "    </tr>\n",
       "    <tr>\n",
       "      <th>3</th>\n",
       "      <td>0.800787</td>\n",
       "      <td>-1.664730</td>\n",
       "      <td>43.03</td>\n",
       "      <td>0</td>\n",
       "      <td>0.791665</td>\n",
       "      <td>-1.659873</td>\n",
       "      <td>0</td>\n",
       "      <td>10080</td>\n",
       "      <td>0</td>\n",
       "      <td>-1.664730</td>\n",
       "      <td>...</td>\n",
       "      <td>0.0</td>\n",
       "      <td>0.0</td>\n",
       "      <td>0.0</td>\n",
       "      <td>0.0</td>\n",
       "      <td>0.0</td>\n",
       "      <td>0.0</td>\n",
       "      <td>43.03</td>\n",
       "      <td>43.03</td>\n",
       "      <td>1</td>\n",
       "      <td>8.763737e-103</td>\n",
       "    </tr>\n",
       "    <tr>\n",
       "      <th>4</th>\n",
       "      <td>0.534614</td>\n",
       "      <td>-1.538661</td>\n",
       "      <td>80.40</td>\n",
       "      <td>0</td>\n",
       "      <td>0.519655</td>\n",
       "      <td>-1.521959</td>\n",
       "      <td>0</td>\n",
       "      <td>10080</td>\n",
       "      <td>0</td>\n",
       "      <td>-1.538661</td>\n",
       "      <td>...</td>\n",
       "      <td>0.0</td>\n",
       "      <td>0.0</td>\n",
       "      <td>0.0</td>\n",
       "      <td>0.0</td>\n",
       "      <td>0.0</td>\n",
       "      <td>0.0</td>\n",
       "      <td>80.40</td>\n",
       "      <td>80.40</td>\n",
       "      <td>1</td>\n",
       "      <td>4.077040e-105</td>\n",
       "    </tr>\n",
       "  </tbody>\n",
       "</table>\n",
       "<p>5 rows × 91 columns</p>\n",
       "</div>"
      ],
      "text/plain": [
       "        lat      long    amt  is_fraud  merch_lat  merch_long  timedelta  \\\n",
       "0  0.621990 -1.441024  18.24         0   0.621654   -1.428358          0   \n",
       "1  0.770415 -1.801271   7.42         0   0.780922   -1.795226          0   \n",
       "2  0.607542 -1.570962  82.07         0   0.602956   -1.553939          0   \n",
       "3  0.800787 -1.664730  43.03         0   0.791665   -1.659873          0   \n",
       "4  0.534614 -1.538661  80.40         0   0.519655   -1.521959          0   \n",
       "\n",
       "    time  weekday  avg_long_rolling_10  ...  \\\n",
       "0  12960        1            -1.441024  ...   \n",
       "1  23040        1            -1.801271  ...   \n",
       "2  73440        5            -1.570962  ...   \n",
       "3  10080        0            -1.664730  ...   \n",
       "4  10080        0            -1.538661  ...   \n",
       "\n",
       "   category_misc_net_fraction_rolling_100  \\\n",
       "0                                     0.0   \n",
       "1                                     0.0   \n",
       "2                                     0.0   \n",
       "3                                     0.0   \n",
       "4                                     0.0   \n",
       "\n",
       "   category_misc_pos_fraction_rolling_100  \\\n",
       "0                                     0.0   \n",
       "1                                     0.0   \n",
       "2                                     0.0   \n",
       "3                                     0.0   \n",
       "4                                     0.0   \n",
       "\n",
       "   category_personal_care_fraction_rolling_100  \\\n",
       "0                                          0.0   \n",
       "1                                          0.0   \n",
       "2                                          0.0   \n",
       "3                                          0.0   \n",
       "4                                          0.0   \n",
       "\n",
       "   category_shopping_net_fraction_rolling_100  \\\n",
       "0                                         0.0   \n",
       "1                                         0.0   \n",
       "2                                         0.0   \n",
       "3                                         0.0   \n",
       "4                                         0.0   \n",
       "\n",
       "   category_shopping_pos_fraction_rolling_100  \\\n",
       "0                                         0.0   \n",
       "1                                         0.0   \n",
       "2                                         0.0   \n",
       "3                                         0.0   \n",
       "4                                         0.0   \n",
       "\n",
       "   category_travel_fraction_rolling_100  thirty_day_avg_amt  \\\n",
       "0                                   0.0               18.24   \n",
       "1                                   0.0                7.42   \n",
       "2                                   0.0               82.07   \n",
       "3                                   0.0               43.03   \n",
       "4                                   0.0               80.40   \n",
       "\n",
       "   total_daily_amount  total_daily_transactions  probability_density  \n",
       "0               18.24                         1        2.098347e-110  \n",
       "1                7.42                         1        2.633248e-107  \n",
       "2               82.07                         1         2.161357e-98  \n",
       "3               43.03                         1        8.763737e-103  \n",
       "4               80.40                         1        4.077040e-105  \n",
       "\n",
       "[5 rows x 91 columns]"
      ]
     },
     "execution_count": 2,
     "metadata": {},
     "output_type": "execute_result"
    }
   ],
   "source": [
    "df = pd.read_csv('data/preprocessed_subsample_100k.csv')\n",
    "df.head()"
   ]
  },
  {
   "cell_type": "code",
   "execution_count": 3,
   "id": "c3de7f4b-a0a7-4b5a-9251-27a8834b5405",
   "metadata": {},
   "outputs": [
    {
     "data": {
      "text/plain": [
       "(100000, 91)"
      ]
     },
     "execution_count": 3,
     "metadata": {},
     "output_type": "execute_result"
    }
   ],
   "source": [
    "df.shape"
   ]
  },
  {
   "cell_type": "code",
   "execution_count": 4,
   "id": "43aafa98-e191-45e7-8679-7f51e79f7add",
   "metadata": {},
   "outputs": [],
   "source": [
    "# drop the probability density feature for now\n",
    "df.drop(['probability_density'], axis=1, inplace=True)"
   ]
  },
  {
   "cell_type": "code",
   "execution_count": 5,
   "id": "530ef490-5b5c-4843-ac6e-677aa5e9cb36",
   "metadata": {},
   "outputs": [
    {
     "data": {
      "text/plain": [
       "(100000, 90)"
      ]
     },
     "execution_count": 5,
     "metadata": {},
     "output_type": "execute_result"
    }
   ],
   "source": [
    "df.shape"
   ]
  },
  {
   "cell_type": "markdown",
   "id": "2517b878-eb3c-49e3-bf8f-a846a386f354",
   "metadata": {},
   "source": [
    "#### Set up our x and y"
   ]
  },
  {
   "cell_type": "code",
   "execution_count": 6,
   "id": "0f873c97-cf94-4cc2-8b08-c4b6171ed75b",
   "metadata": {},
   "outputs": [],
   "source": [
    "X = df.drop(['is_fraud'], axis=1)\n",
    "y = df['is_fraud']"
   ]
  },
  {
   "cell_type": "code",
   "execution_count": 7,
   "id": "f594b736-a3f3-4e63-8d0d-80adaefd936c",
   "metadata": {},
   "outputs": [
    {
     "data": {
      "text/plain": [
       "0        0\n",
       "1        0\n",
       "2        0\n",
       "3        0\n",
       "4        0\n",
       "        ..\n",
       "99995    0\n",
       "99996    0\n",
       "99997    0\n",
       "99998    0\n",
       "99999    0\n",
       "Name: is_fraud, Length: 100000, dtype: int64"
      ]
     },
     "execution_count": 7,
     "metadata": {},
     "output_type": "execute_result"
    }
   ],
   "source": [
    "y"
   ]
  },
  {
   "cell_type": "code",
   "execution_count": 8,
   "id": "8e673446-a3d8-444d-a9bf-b62d0646786f",
   "metadata": {},
   "outputs": [
    {
     "data": {
      "text/plain": [
       "0    99137\n",
       "1      863\n",
       "Name: is_fraud, dtype: int64"
      ]
     },
     "execution_count": 8,
     "metadata": {},
     "output_type": "execute_result"
    }
   ],
   "source": [
    "y.value_counts()"
   ]
  },
  {
   "cell_type": "code",
   "execution_count": 9,
   "id": "39b05635-5224-47ad-b654-8df2e2fab7ef",
   "metadata": {},
   "outputs": [
    {
     "data": {
      "text/plain": [
       "0    99.14\n",
       "1     0.86\n",
       "Name: is_fraud, dtype: float64"
      ]
     },
     "execution_count": 9,
     "metadata": {},
     "output_type": "execute_result"
    }
   ],
   "source": [
    "y.value_counts(normalize=True).mul(100).round(2)"
   ]
  },
  {
   "cell_type": "markdown",
   "id": "7537f189-7f07-4133-b0e2-b0e9336c97ee",
   "metadata": {},
   "source": [
    "### Train test split"
   ]
  },
  {
   "cell_type": "code",
   "execution_count": 10,
   "id": "6c14c8c7-16de-42a4-adaa-579479717d1c",
   "metadata": {},
   "outputs": [],
   "source": [
    "X_train, X_test, y_train, y_test = train_test_split(X, y, \n",
    "                                                    test_size = 0.1,\n",
    "                                                    random_state = 42, \n",
    "                                                    stratify = y)"
   ]
  },
  {
   "cell_type": "code",
   "execution_count": 11,
   "id": "58a5c111-d6bc-4d14-9167-dabfccdc7290",
   "metadata": {},
   "outputs": [
    {
     "name": "stdout",
     "output_type": "stream",
     "text": [
      "0    99.14\n",
      "1     0.86\n",
      "Name: is_fraud, dtype: float64\n",
      "0    89223\n",
      "1      777\n",
      "Name: is_fraud, dtype: int64\n"
     ]
    }
   ],
   "source": [
    "print(y_train.value_counts(normalize=True).mul(100).round(2))\n",
    "print(y_train.value_counts())"
   ]
  },
  {
   "cell_type": "markdown",
   "id": "e228e0bd-5bae-4a6c-aea8-888e6aa6eefa",
   "metadata": {},
   "source": [
    "### Scale our data"
   ]
  },
  {
   "cell_type": "code",
   "execution_count": 12,
   "id": "d77ae2a3-1a14-4075-b459-37a9732562c8",
   "metadata": {},
   "outputs": [],
   "source": [
    "# Scale our data...\n",
    "ss = StandardScaler()\n",
    "\n",
    "# Scaler fits or trains on the X_train only - does not see the\n",
    "# X_test (or imagined new data). \n",
    "X_train_sc = ss.fit_transform(X_train)\n",
    "\n",
    "# We take the scaling from X_train and apply that to the X_test \n",
    "X_test_sc = ss.transform(X_test)"
   ]
  },
  {
   "cell_type": "markdown",
   "id": "fd638a4b-8662-453f-8d2e-e000daec7b3b",
   "metadata": {},
   "source": [
    "### Logistic regression model without leverging class imbalance sampling techniques"
   ]
  },
  {
   "cell_type": "code",
   "execution_count": 13,
   "id": "99797873-3c46-4bd9-bff9-7583e82ad9f1",
   "metadata": {},
   "outputs": [
    {
     "data": {
      "text/plain": [
       "(0.9979, 0.9978)"
      ]
     },
     "execution_count": 13,
     "metadata": {},
     "output_type": "execute_result"
    }
   ],
   "source": [
    "lr = LogisticRegression()\n",
    "lr.fit(X_train_sc, y_train)\n",
    "lr.score(X_train_sc, y_train), lr.score(X_test_sc, y_test)"
   ]
  },
  {
   "cell_type": "code",
   "execution_count": 14,
   "id": "a9e1cfc2-eb77-4a4a-8d98-8855f893801a",
   "metadata": {},
   "outputs": [],
   "source": [
    "# leverage function from GA lesson on smote\n",
    "def metrics(y_test, y_predict):\n",
    "    print(f\"Accuracy score: {accuracy_score(y_test, y_predict)} \\n\")\n",
    "    print('----------------------------------------------------------------')\n",
    "    print(pd.DataFrame(confusion_matrix(y_test, y_predict), \n",
    "                            index=['not_fraud', 'Actually_fraud'], \n",
    "                            columns=['Predicted_not_Fraud', 'Predicted_fraud']), '\\n')\n",
    "    print('-----------------------------------------------------------------')\n",
    "    print(classification_report(y_test, y_predict))\n",
    "    print('-----------------------------------------------------------------')"
   ]
  },
  {
   "cell_type": "code",
   "execution_count": 15,
   "id": "84c6d7c1-364c-40ae-83d2-c7617e04832f",
   "metadata": {},
   "outputs": [],
   "source": [
    "y_preds = lr.predict(X_test_sc)"
   ]
  },
  {
   "cell_type": "code",
   "execution_count": 16,
   "id": "1449f006-9983-410f-8d10-fb84b2fd75e3",
   "metadata": {},
   "outputs": [
    {
     "data": {
      "text/plain": [
       "(0    9924\n",
       " 1      76\n",
       " dtype: int64,\n",
       " 0    9914\n",
       " 1      86\n",
       " Name: is_fraud, dtype: int64)"
      ]
     },
     "execution_count": 16,
     "metadata": {},
     "output_type": "execute_result"
    }
   ],
   "source": [
    "pd.Series(y_preds).value_counts(), y_test.value_counts()"
   ]
  },
  {
   "cell_type": "code",
   "execution_count": 17,
   "id": "654a6648-5e14-4d5a-ab2d-ccf5e8ea235a",
   "metadata": {},
   "outputs": [
    {
     "name": "stdout",
     "output_type": "stream",
     "text": [
      "Accuracy score: 0.9978 \n",
      "\n",
      "----------------------------------------------------------------\n",
      "                Predicted_not_Fraud  Predicted_fraud\n",
      "not_fraud                      9908                6\n",
      "Actually_fraud                   16               70 \n",
      "\n",
      "-----------------------------------------------------------------\n",
      "              precision    recall  f1-score   support\n",
      "\n",
      "           0       1.00      1.00      1.00      9914\n",
      "           1       0.92      0.81      0.86        86\n",
      "\n",
      "    accuracy                           1.00     10000\n",
      "   macro avg       0.96      0.91      0.93     10000\n",
      "weighted avg       1.00      1.00      1.00     10000\n",
      "\n",
      "-----------------------------------------------------------------\n"
     ]
    }
   ],
   "source": [
    "metrics(y_test, y_preds)"
   ]
  },
  {
   "cell_type": "markdown",
   "id": "8ccbec1b-87f3-4ef5-8232-61d9abc0d6df",
   "metadata": {},
   "source": [
    "We note our model performs well in terms of accuracy, however that is not a good indication of a useful model when dealing with highly imbalanced classes. We will use a Synthetic Minority Oversampling Technique aka SMOTE to address the issue with imbalanced classes. SMOTE is a data augmentation technique which selects instances of our minority class in the feature space at random. It selects a sample from the minority class and finds its k nearest neighbors, then it generates synthetic samples at a random point between the selected sample and its neighbors.  new The new synthetic samples are selected along the line between the selected sample and its nearest neighbors in the feature space."
   ]
  },
  {
   "cell_type": "markdown",
   "id": "656fee19-1706-4bfb-9c4e-49870310d295",
   "metadata": {},
   "source": []
  },
  {
   "cell_type": "markdown",
   "id": "f493baa5-ec45-4aa9-b236-58688c702295",
   "metadata": {},
   "source": [
    "### Logistic Regression gridsearch with SMOTE"
   ]
  },
  {
   "cell_type": "code",
   "execution_count": 18,
   "id": "d399ce27-2361-44e8-a9a9-f22a672129d2",
   "metadata": {},
   "outputs": [],
   "source": [
    "# Now we can create synthetic data for our training set\n",
    "sm = SMOTE(random_state=42, n_jobs=-1)\n",
    "\n",
    "X_train_smote, y_train_smote = sm.fit_resample(X_train_sc, y_train)"
   ]
  },
  {
   "cell_type": "code",
   "execution_count": 19,
   "id": "7b5192e4-ffeb-429b-8b25-f684f1ca3efb",
   "metadata": {},
   "outputs": [
    {
     "data": {
      "text/plain": [
       "((178446, 89), (178446,))"
      ]
     },
     "execution_count": 19,
     "metadata": {},
     "output_type": "execute_result"
    }
   ],
   "source": [
    "X_train_smote.shape, y_train_smote.shape"
   ]
  },
  {
   "cell_type": "code",
   "execution_count": 20,
   "id": "eaffca94-8ed4-44da-9db4-52f9ab9261ab",
   "metadata": {},
   "outputs": [
    {
     "data": {
      "text/plain": [
       "0    89223\n",
       "1    89223\n",
       "Name: is_fraud, dtype: int64"
      ]
     },
     "execution_count": 20,
     "metadata": {},
     "output_type": "execute_result"
    }
   ],
   "source": [
    "y_train_smote.value_counts()"
   ]
  },
  {
   "cell_type": "code",
   "execution_count": 21,
   "id": "996c8c2f-3aa5-418b-bb67-9c3d9a0a19e3",
   "metadata": {},
   "outputs": [],
   "source": [
    "pipe_lr = Pipeline([\n",
    "        ('scale', StandardScaler()),\n",
    "        ('sampling', SMOTE()),\n",
    "        ('logreg', LogisticRegression(max_iter=10000))\n",
    "    ])\n",
    "\n",
    "pipe_params_lr = {\n",
    "    'sampling__sampling_strategy': ['not minority'],\n",
    "    'sampling__k_neighbors': [3],\n",
    "    'logreg__C': [0.1]\n",
    "}\n",
    "\n",
    "\n",
    "# Best params from grid search below:\n",
    "# pipe_params = {\n",
    "#     'sampling__sampling_strategy': ['minority', 'not minority', 'auto'],\n",
    "#     'sampling__k_neighbors': [3, 5, 7],\n",
    "#     'logreg__C': [0.1, 0.5, 1]\n",
    "# }\n",
    "\n",
    "# {'logreg__C': 0.1,\n",
    "#  'sampling__k_neighbors': 3,\n",
    "#  'sampling__sampling_strategy': 'not minority'}"
   ]
  },
  {
   "cell_type": "markdown",
   "id": "20774bb0-8c92-4094-b7a1-828639cc21a9",
   "metadata": {},
   "source": [
    "We note due to time constraints, we conducted our gridsearch for all algorithms in this notebook with a subset of 100,000 samples to determine the best tuned hyperparameters. We used the best settings from the 100k sample on our complete data set with two million samples. With more, we would run another experimental design on the full data set to determine the best tuned hyper-parameters. The full experimental design tested is commented out in the code and the best settings are what we left when running the code as is."
   ]
  },
  {
   "cell_type": "code",
   "execution_count": 22,
   "id": "316cc27d-f2b6-4cca-afd1-dd43d947f0e8",
   "metadata": {},
   "outputs": [],
   "source": [
    "grid_lr = GridSearchCV(pipe_lr, pipe_params_lr, n_jobs=-1)"
   ]
  },
  {
   "cell_type": "code",
   "execution_count": 23,
   "id": "81ff1136-c2bf-42ce-9a53-34349bc2fa05",
   "metadata": {},
   "outputs": [
    {
     "data": {
      "text/plain": [
       "(0.9978888888888889, 0.9979)"
      ]
     },
     "execution_count": 23,
     "metadata": {},
     "output_type": "execute_result"
    }
   ],
   "source": [
    "grid_lr.fit(X_train, y_train)\n",
    "grid_lr.score(X_train, y_train), grid_lr.score(X_test, y_test)"
   ]
  },
  {
   "cell_type": "code",
   "execution_count": 24,
   "id": "cd8ca535-0095-472b-a518-921962aa8651",
   "metadata": {},
   "outputs": [
    {
     "data": {
      "text/plain": [
       "{'logreg__C': 0.1,\n",
       " 'sampling__k_neighbors': 3,\n",
       " 'sampling__sampling_strategy': 'not minority'}"
      ]
     },
     "execution_count": 24,
     "metadata": {},
     "output_type": "execute_result"
    }
   ],
   "source": [
    "grid_lr.best_params_"
   ]
  },
  {
   "cell_type": "code",
   "execution_count": 25,
   "id": "9bd7ecaf-3243-4fe5-81f1-da99b1f493e6",
   "metadata": {},
   "outputs": [
    {
     "name": "stdout",
     "output_type": "stream",
     "text": [
      "Accuracy score: 0.9979 \n",
      "\n",
      "----------------------------------------------------------------\n",
      "                Predicted_not_Fraud  Predicted_fraud\n",
      "not_fraud                      9908                6\n",
      "Actually_fraud                   15               71 \n",
      "\n",
      "-----------------------------------------------------------------\n",
      "              precision    recall  f1-score   support\n",
      "\n",
      "           0       1.00      1.00      1.00      9914\n",
      "           1       0.92      0.83      0.87        86\n",
      "\n",
      "    accuracy                           1.00     10000\n",
      "   macro avg       0.96      0.91      0.94     10000\n",
      "weighted avg       1.00      1.00      1.00     10000\n",
      "\n",
      "-----------------------------------------------------------------\n"
     ]
    }
   ],
   "source": [
    "grid_preds_lr = grid_lr.predict(X_test)\n",
    "metrics(y_test, grid_preds_lr)"
   ]
  },
  {
   "cell_type": "markdown",
   "id": "df0e64d6-fdc0-471a-b2d7-8530053db3ed",
   "metadata": {},
   "source": [
    "Leverging sklearns built in smote class, we see improved metrics in terms of a reduction in False negatives. We will use smote with a few more classificaiton algorithims and develop a custom scoring function to emphasis recall since we are concerned mostly with false negatives. Recall is a very important metric in highly imbalanced class problems such as fraud detection and will likely be used as a key indicator of model perfomrance.  Lastly, we will compare classification metrics to determine our final model"
   ]
  },
  {
   "cell_type": "markdown",
   "id": "09ef362c-bd52-44f6-a8cd-22e18986d689",
   "metadata": {},
   "source": [
    "# Random Forest grid search with SMOTE"
   ]
  },
  {
   "cell_type": "code",
   "execution_count": 29,
   "id": "5a1a59f1-f4f1-48a8-b48b-0441da44b368",
   "metadata": {},
   "outputs": [],
   "source": [
    "pipe_rf = Pipeline([\n",
    "        ('scale', StandardScaler()),\n",
    "        ('sampling', SMOTE()),\n",
    "        ('rfc', RandomForestClassifier())\n",
    "    ])\n",
    "\n",
    "pipe_params_rf = {\n",
    "     'sampling__sampling_strategy': ['not minority'],\n",
    "     'sampling__k_neighbors': [15],\n",
    "     'rfc__max_depth': [100]\n",
    "}\n",
    "\n",
    "\n",
    "# results from grid search below:\n",
    "# pipe_params_rf = {\n",
    "#      'sampling__sampling_strategy': ['not minority'],\n",
    "#      'sampling__k_neighbors': [15, 20, 25],\n",
    "#      'rfc__max_depth': [60, 100, 150]\n",
    "# }\n",
    "\n",
    "# Best params:\n",
    "# {'rfc__max_depth': 100,\n",
    "#  'sampling__k_neighbors': 15,\n",
    "#  'sampling__sampling_strategy': 'not minority'}"
   ]
  },
  {
   "cell_type": "code",
   "execution_count": 30,
   "id": "442cc9a2-27bf-46c2-9a6a-0f6b6bcf7a7b",
   "metadata": {},
   "outputs": [
    {
     "data": {
      "text/plain": [
       "(1.0, 0.9994)"
      ]
     },
     "execution_count": 30,
     "metadata": {},
     "output_type": "execute_result"
    }
   ],
   "source": [
    "grid_rf = GridSearchCV(pipe_rf, pipe_params_rf, n_jobs=-1)\n",
    "grid_rf.fit(X_train, y_train)\n",
    "grid_rf.score(X_train, y_train), grid_rf.score(X_test, y_test)"
   ]
  },
  {
   "cell_type": "code",
   "execution_count": 31,
   "id": "47d283b8-c95e-4bc6-a5b3-f18820a54b6b",
   "metadata": {},
   "outputs": [
    {
     "data": {
      "text/plain": [
       "{'rfc__max_depth': 100,\n",
       " 'sampling__k_neighbors': 15,\n",
       " 'sampling__sampling_strategy': 'not minority'}"
      ]
     },
     "execution_count": 31,
     "metadata": {},
     "output_type": "execute_result"
    }
   ],
   "source": [
    "grid_rf.best_params_"
   ]
  },
  {
   "cell_type": "code",
   "execution_count": 32,
   "id": "888d9dab-6ee5-43e3-b623-9704cf5f4f39",
   "metadata": {},
   "outputs": [],
   "source": [
    "grid_preds_rf = grid_rf.predict(X_test)"
   ]
  },
  {
   "cell_type": "code",
   "execution_count": 33,
   "id": "8892a505-2c51-4bdc-bee8-d1b726e1a848",
   "metadata": {},
   "outputs": [
    {
     "name": "stdout",
     "output_type": "stream",
     "text": [
      "Accuracy score: 0.9994 \n",
      "\n",
      "----------------------------------------------------------------\n",
      "                Predicted_not_Fraud  Predicted_fraud\n",
      "not_fraud                      9914                0\n",
      "Actually_fraud                    6               80 \n",
      "\n",
      "-----------------------------------------------------------------\n",
      "              precision    recall  f1-score   support\n",
      "\n",
      "           0       1.00      1.00      1.00      9914\n",
      "           1       1.00      0.93      0.96        86\n",
      "\n",
      "    accuracy                           1.00     10000\n",
      "   macro avg       1.00      0.97      0.98     10000\n",
      "weighted avg       1.00      1.00      1.00     10000\n",
      "\n",
      "-----------------------------------------------------------------\n"
     ]
    }
   ],
   "source": [
    "metrics(y_test, grid_preds_rf)"
   ]
  },
  {
   "cell_type": "markdown",
   "id": "bea17044-b02c-46d8-be1c-ccb1ed0d032d",
   "metadata": {},
   "source": [
    "Our Random Forest algorithim with smote performs relatively well. We observe no concern related to accurately classfying the majority class as not fraud. However, our recall score is 0.93 indicating we still perform well at correctly predicting fraud out of all possible fraud predictions. "
   ]
  },
  {
   "cell_type": "code",
   "execution_count": null,
   "id": "c66f5a6d-71f2-4670-a308-b01339e36c3a",
   "metadata": {},
   "outputs": [],
   "source": []
  },
  {
   "cell_type": "markdown",
   "id": "09d75682-3516-4d39-ae4d-5e67e28f33c4",
   "metadata": {},
   "source": [
    "### AdaBoost grid search with SMOTE"
   ]
  },
  {
   "cell_type": "code",
   "execution_count": 37,
   "id": "7d097db8-b2d3-4b0f-aae0-e3dcb1630d3e",
   "metadata": {},
   "outputs": [],
   "source": [
    "pipe_ab = Pipeline([\n",
    "        ('scale', StandardScaler()),\n",
    "        ('sampling', SMOTE()),\n",
    "        ('abc', AdaBoostClassifier(random_state=12))\n",
    "    ])"
   ]
  },
  {
   "cell_type": "code",
   "execution_count": 38,
   "id": "7b3db972-6d37-430a-82fc-e6b333e08ee7",
   "metadata": {},
   "outputs": [],
   "source": [
    "pipe_params_ab = {\n",
    "    'sampling__sampling_strategy': ['not minority'],\n",
    "    'sampling__k_neighbors': [3],\n",
    "    'abc__n_estimators': [100],\n",
    "}\n",
    "\n",
    "\n",
    "# Best params from grid search\n",
    "# pipe_params_ab = {\n",
    "#     'sampling__sampling_strategy': ['minority', 'not minority', 'auto'],\n",
    "#     'sampling__k_neighbors': [3, 5, 7],\n",
    "#     'abc__n_estimators': [100, 200, 2000],\n",
    "# }\n",
    "\n",
    "# {'abc__n_estimators': 2000,\n",
    "#  'sampling__k_neighbors': 3,\n",
    "#  'sampling__sampling_strategy': 'not minority'}"
   ]
  },
  {
   "cell_type": "code",
   "execution_count": 39,
   "id": "10fafdfa-c0af-43b9-96ca-b193e84ffdbe",
   "metadata": {},
   "outputs": [
    {
     "data": {
      "text/plain": [
       "GridSearchCV(estimator=Pipeline(steps=[('scale', StandardScaler()),\n",
       "                                       ('sampling', SMOTE()),\n",
       "                                       ('abc',\n",
       "                                        AdaBoostClassifier(random_state=12))]),\n",
       "             n_jobs=-1,\n",
       "             param_grid={'abc__n_estimators': [100],\n",
       "                         'sampling__k_neighbors': [3],\n",
       "                         'sampling__sampling_strategy': ['not minority']})"
      ]
     },
     "execution_count": 39,
     "metadata": {},
     "output_type": "execute_result"
    }
   ],
   "source": [
    "abc_gs = GridSearchCV(pipe_ab, pipe_params_ab, n_jobs=-1)\n",
    "abc_gs.fit(X_train, y_train)"
   ]
  },
  {
   "cell_type": "code",
   "execution_count": 40,
   "id": "a912b949-cf24-44e0-bcbc-1f8075e45ad4",
   "metadata": {},
   "outputs": [
    {
     "data": {
      "text/plain": [
       "(0.9995444444444445, 0.9989)"
      ]
     },
     "execution_count": 40,
     "metadata": {},
     "output_type": "execute_result"
    }
   ],
   "source": [
    "abc_gs.score(X_train, y_train), abc_gs.score(X_test, y_test)"
   ]
  },
  {
   "cell_type": "code",
   "execution_count": 41,
   "id": "777bd175-523b-4d62-90b0-232121ef3c74",
   "metadata": {},
   "outputs": [
    {
     "data": {
      "text/plain": [
       "{'abc__n_estimators': 100,\n",
       " 'sampling__k_neighbors': 3,\n",
       " 'sampling__sampling_strategy': 'not minority'}"
      ]
     },
     "execution_count": 41,
     "metadata": {},
     "output_type": "execute_result"
    }
   ],
   "source": [
    "abc_gs.best_params_"
   ]
  },
  {
   "cell_type": "code",
   "execution_count": 42,
   "id": "ecb419f2-a90b-4c60-8703-0f07bf29b82e",
   "metadata": {},
   "outputs": [
    {
     "name": "stdout",
     "output_type": "stream",
     "text": [
      "Accuracy score: 0.9989 \n",
      "\n",
      "----------------------------------------------------------------\n",
      "                Predicted_not_Fraud  Predicted_fraud\n",
      "not_fraud                      9909                5\n",
      "Actually_fraud                    6               80 \n",
      "\n",
      "-----------------------------------------------------------------\n",
      "              precision    recall  f1-score   support\n",
      "\n",
      "           0       1.00      1.00      1.00      9914\n",
      "           1       0.94      0.93      0.94        86\n",
      "\n",
      "    accuracy                           1.00     10000\n",
      "   macro avg       0.97      0.96      0.97     10000\n",
      "weighted avg       1.00      1.00      1.00     10000\n",
      "\n",
      "-----------------------------------------------------------------\n"
     ]
    }
   ],
   "source": [
    "grid_preds_ab = abc_gs.predict(X_test)\n",
    "metrics(y_test, grid_preds_ab)"
   ]
  },
  {
   "cell_type": "markdown",
   "id": "3413eedc-c171-4882-ba65-220eed2b4a29",
   "metadata": {},
   "source": [
    "Thus far, our adaBoost classifier performs slighlt better then random forest with respect to recall score. Next we will try implementing a custom scoring function to place a greater weight on recall and see how our models perform. "
   ]
  },
  {
   "cell_type": "code",
   "execution_count": null,
   "id": "464d0618-c5a8-499f-9166-c112c1247413",
   "metadata": {},
   "outputs": [],
   "source": []
  },
  {
   "cell_type": "markdown",
   "id": "7738b89c-dcf7-4a93-9966-cda0155c1fca",
   "metadata": {},
   "source": [
    "### Random forest with custom scoring function"
   ]
  },
  {
   "cell_type": "code",
   "execution_count": 71,
   "id": "baa416a8-1a6a-45e6-b1de-694b490eabbe",
   "metadata": {},
   "outputs": [],
   "source": [
    "def weighted_recall_scorer(y_true, y_pred, beta=10, **kwargs):\n",
    "    \n",
    "    \"\"\"\n",
    "    Custom scoring function to prioritize recall for the minority class.\n",
    "    \n",
    "    Parameters: y_true(true target values), y_pred(predicted target values),\n",
    "                beta(weight of recall score)\n",
    "    \n",
    "    Returns: The fbeta-score of the positive class.\n",
    "    \"\"\"\n",
    "    # we only need the fbeta_score from the precision_recall_fscore_support function\n",
    "    # therefor we assign \"_, _,\" to denote we only need to return the fbeta_score\n",
    "    _, _, fbeta_score, _ = precision_recall_fscore_support(y_true, y_pred, \n",
    "                                                           beta=beta, pos_label=1)\n",
    "    return fbeta_score[1]\n",
    "\n",
    "custom_scorer = make_scorer(weighted_recall_scorer)"
   ]
  },
  {
   "cell_type": "code",
   "execution_count": 72,
   "id": "5f86a353-2a16-450b-84ad-ce3c4edc0d4e",
   "metadata": {},
   "outputs": [],
   "source": [
    "pipe_rf_cs = Pipeline([\n",
    "        ('scale', StandardScaler()),\n",
    "        ('sampling', SMOTE()),\n",
    "        ('rfc', RandomForestClassifier())\n",
    "    ])\n",
    "\n",
    "pipe_params_rf_cs = {\n",
    "     'sampling__sampling_strategy': ['minority'],\n",
    "     'sampling__k_neighbors': [15],\n",
    "     'rfc__max_depth': [20],\n",
    "}\n",
    "\n",
    "# pipe_params_rf_cs = {\n",
    "#      'sampling__sampling_strategy': ['minority', 'not minority', 'auto'],\n",
    "#      'sampling__k_neighbors': [9, 12, 15],\n",
    "#      'rfc__max_depth': [20, 50, 100],\n",
    "# }\n",
    "\n",
    "# Best params: \n",
    "# {'rfc__max_depth': 20,\n",
    "#  'sampling__k_neighbors': 15,\n",
    "#  'sampling__sampling_strategy': 'minority'}"
   ]
  },
  {
   "cell_type": "code",
   "execution_count": 73,
   "id": "b2d1a63d-b6ed-4685-9450-092e7ab5a32b",
   "metadata": {},
   "outputs": [
    {
     "data": {
      "text/plain": [
       "GridSearchCV(estimator=Pipeline(steps=[('scale', StandardScaler()),\n",
       "                                       ('sampling', SMOTE()),\n",
       "                                       ('rfc', RandomForestClassifier())]),\n",
       "             n_jobs=-1,\n",
       "             param_grid={'rfc__max_depth': [20], 'sampling__k_neighbors': [15],\n",
       "                         'sampling__sampling_strategy': ['minority']},\n",
       "             scoring=make_scorer(weighted_recall_scorer))"
      ]
     },
     "execution_count": 73,
     "metadata": {},
     "output_type": "execute_result"
    }
   ],
   "source": [
    "grid_rf_cs = GridSearchCV(pipe_rf_cs, pipe_params_rf_cs, n_jobs=-1, scoring=custom_scorer)\n",
    "grid_rf_cs.fit(X_train, y_train)"
   ]
  },
  {
   "cell_type": "code",
   "execution_count": 74,
   "id": "17e6e76e-eaf2-4659-b20c-78e58763a300",
   "metadata": {},
   "outputs": [
    {
     "data": {
      "text/plain": [
       "(1.0, 0.9307683446607532)"
      ]
     },
     "execution_count": 74,
     "metadata": {},
     "output_type": "execute_result"
    }
   ],
   "source": [
    "grid_rf_cs.score(X_train, y_train), grid_rf_cs.score(X_test, y_test)"
   ]
  },
  {
   "cell_type": "code",
   "execution_count": 75,
   "id": "3aeff7ea-91c8-49dc-9395-8b94c819c637",
   "metadata": {},
   "outputs": [
    {
     "data": {
      "text/plain": [
       "{'rfc__max_depth': 20,\n",
       " 'sampling__k_neighbors': 15,\n",
       " 'sampling__sampling_strategy': 'minority'}"
      ]
     },
     "execution_count": 75,
     "metadata": {},
     "output_type": "execute_result"
    }
   ],
   "source": [
    "grid_rf_cs.best_params_"
   ]
  },
  {
   "cell_type": "code",
   "execution_count": 76,
   "id": "512ca047-2a6d-4d9e-ac6b-2aa3632c4bb3",
   "metadata": {},
   "outputs": [],
   "source": [
    "grid_preds_rf_cs = grid_rf_cs.predict(X_test)"
   ]
  },
  {
   "cell_type": "code",
   "execution_count": 77,
   "id": "29b8c0df-c977-4b07-ba7d-929b6e275c23",
   "metadata": {},
   "outputs": [
    {
     "name": "stdout",
     "output_type": "stream",
     "text": [
      "Accuracy score: 0.9993 \n",
      "\n",
      "----------------------------------------------------------------\n",
      "                Predicted_not_Fraud  Predicted_fraud\n",
      "not_fraud                      9913                1\n",
      "Actually_fraud                    6               80 \n",
      "\n",
      "-----------------------------------------------------------------\n",
      "              precision    recall  f1-score   support\n",
      "\n",
      "           0       1.00      1.00      1.00      9914\n",
      "           1       0.99      0.93      0.96        86\n",
      "\n",
      "    accuracy                           1.00     10000\n",
      "   macro avg       0.99      0.97      0.98     10000\n",
      "weighted avg       1.00      1.00      1.00     10000\n",
      "\n",
      "-----------------------------------------------------------------\n"
     ]
    }
   ],
   "source": [
    "metrics(y_test, grid_preds_rf_cs)"
   ]
  },
  {
   "cell_type": "markdown",
   "id": "8d8456db-692f-4a24-987a-a90d2a342486",
   "metadata": {},
   "source": [
    "The model performs very similiar similiar with or without the custom function that places great weight on recall. We did test several beta values and noticed 10 to be a good value, however with more time a more exhaustive experimental design can lead to better hyper parameter tuning."
   ]
  },
  {
   "cell_type": "markdown",
   "id": "6346dc6a-0126-4284-9309-2a3c2859b000",
   "metadata": {},
   "source": [
    "### ADaBoost with custom scoring function"
   ]
  },
  {
   "cell_type": "code",
   "execution_count": 53,
   "id": "3cb362aa-9e48-40c8-9f5b-dcd93d4dbee6",
   "metadata": {},
   "outputs": [],
   "source": [
    "pipe_ab_cs = Pipeline([\n",
    "        ('scale', StandardScaler()),\n",
    "        ('sampling', SMOTE()),\n",
    "        ('abc', AdaBoostClassifier(random_state=12))\n",
    "    ])\n",
    "\n",
    "pipe_params_ab_cs = {\n",
    "    'sampling__sampling_strategy': ['auto'],\n",
    "    'sampling__k_neighbors': [3],\n",
    "    'abc__n_estimators': [10],\n",
    "}\n",
    "\n",
    "\n",
    "# pipe_params_ab_cs = {\n",
    "#     'sampling__sampling_strategy': ['minority', 'not minority', 'auto'],\n",
    "#     'sampling__k_neighbors': [3, 5, 7],\n",
    "#     'abc__n_estimators': [10, 100, 200],\n",
    "# }\n",
    "\n",
    "# Best params from grid search\n",
    "# {'abc__n_estimators': 10,\n",
    "#  'sampling__k_neighbors': 3,\n",
    "#  'sampling__sampling_strategy': 'auto'}"
   ]
  },
  {
   "cell_type": "code",
   "execution_count": 54,
   "id": "4ec0e83f-d357-4a9a-954c-e4c32355e433",
   "metadata": {},
   "outputs": [],
   "source": [
    "abc_gs_cs = GridSearchCV(pipe_ab_cs, pipe_params_ab_cs, n_jobs=-1, scoring=custom_scorer)"
   ]
  },
  {
   "cell_type": "code",
   "execution_count": 55,
   "id": "0e4e377f-b864-456b-b6af-6504e3882c1d",
   "metadata": {},
   "outputs": [
    {
     "data": {
      "text/plain": [
       "GridSearchCV(estimator=Pipeline(steps=[('scale', StandardScaler()),\n",
       "                                       ('sampling', SMOTE()),\n",
       "                                       ('abc',\n",
       "                                        AdaBoostClassifier(random_state=12))]),\n",
       "             n_jobs=-1,\n",
       "             param_grid={'abc__n_estimators': [10, 100, 200],\n",
       "                         'sampling__k_neighbors': [3, 5, 7],\n",
       "                         'sampling__sampling_strategy': ['minority',\n",
       "                                                         'not minority',\n",
       "                                                         'auto']},\n",
       "             scoring=make_scorer(weighted_recall_scorer))"
      ]
     },
     "execution_count": 55,
     "metadata": {},
     "output_type": "execute_result"
    }
   ],
   "source": [
    "abc_gs_cs.fit(X_train, y_train)"
   ]
  },
  {
   "cell_type": "code",
   "execution_count": 56,
   "id": "16967a68-000f-4f12-8d15-21318d4d8851",
   "metadata": {},
   "outputs": [
    {
     "data": {
      "text/plain": [
       "(0.9676859628828648, 0.9415643474306501)"
      ]
     },
     "execution_count": 56,
     "metadata": {},
     "output_type": "execute_result"
    }
   ],
   "source": [
    "abc_gs_cs.score(X_train, y_train), abc_gs_cs.score(X_test, y_test)"
   ]
  },
  {
   "cell_type": "code",
   "execution_count": 57,
   "id": "7815a982-62ac-4957-851c-922a361e06d8",
   "metadata": {},
   "outputs": [
    {
     "data": {
      "text/plain": [
       "{'abc__n_estimators': 10,\n",
       " 'sampling__k_neighbors': 3,\n",
       " 'sampling__sampling_strategy': 'auto'}"
      ]
     },
     "execution_count": 57,
     "metadata": {},
     "output_type": "execute_result"
    }
   ],
   "source": [
    "abc_gs_cs.best_params_"
   ]
  },
  {
   "cell_type": "code",
   "execution_count": 58,
   "id": "03afc8e3-7e4d-4676-8ad4-a1b03a8dbe04",
   "metadata": {},
   "outputs": [
    {
     "name": "stdout",
     "output_type": "stream",
     "text": [
      "Accuracy score: 0.9882 \n",
      "\n",
      "----------------------------------------------------------------\n",
      "                Predicted_not_Fraud  Predicted_fraud\n",
      "not_fraud                      9800              114\n",
      "Actually_fraud                    4               82 \n",
      "\n",
      "-----------------------------------------------------------------\n",
      "              precision    recall  f1-score   support\n",
      "\n",
      "           0       1.00      0.99      0.99      9914\n",
      "           1       0.42      0.95      0.58        86\n",
      "\n",
      "    accuracy                           0.99     10000\n",
      "   macro avg       0.71      0.97      0.79     10000\n",
      "weighted avg       0.99      0.99      0.99     10000\n",
      "\n",
      "-----------------------------------------------------------------\n"
     ]
    }
   ],
   "source": [
    "grid_preds_ab_cs = abc_gs.predict(X_test)\n",
    "metrics(y_test, grid_preds_ab_cs)"
   ]
  },
  {
   "cell_type": "markdown",
   "id": "93ffcec5-be33-4662-a3fa-6adf946c2fa8",
   "metadata": {},
   "source": [
    "Our AdaBoost classifier outperforms our other algorithms with respect to recall score and reducing false negatives. However, there are substantially more false positives. In fraud detection, high recall scores and reducing false negatives is the highest priority, although too many false positives can also be problematic. We also note the Adaboost classifier takes substantially longer to run. We noticed slighlty better model performance by increasing the number estimators even higher, however did not have time to run the code longer and the performance gain was very minimal. "
   ]
  },
  {
   "cell_type": "markdown",
   "id": "ab893d83-9b61-44e4-b4bd-be0b3a503d1a",
   "metadata": {},
   "source": [
    "# Final Model selection and evaluation"
   ]
  },
  {
   "cell_type": "markdown",
   "id": "e6ad826e-8a75-481e-badc-d4745b113b56",
   "metadata": {},
   "source": [
    "Although all models performed relatively similiar we select the Random Forest algorithim using SMOTE and our custom scoring function placing a higher weight on recall score. The reason for this, is we believe with more time and new data, this model would be better suited for production. It runs substaintially faster then our AdaBoost model with nearly identifcal scores. "
   ]
  },
  {
   "cell_type": "code",
   "execution_count": 83,
   "id": "38c4e44c-57e1-4237-b958-7ec59c29e3f2",
   "metadata": {},
   "outputs": [
    {
     "data": {
      "text/plain": [
       "Text(0.5, 1.0, 'Test')"
      ]
     },
     "execution_count": 83,
     "metadata": {},
     "output_type": "execute_result"
    },
    {
     "data": {
      "image/png": "[encoded data removed]",
      "text/plain": [
       "<Figure size 640x480 with 1 Axes>"
      ]
     },
     "metadata": {},
     "output_type": "display_data"
    }
   ],
   "source": [
    "ConfusionMatrixDisplay.from_estimator(grid_rf_cs, X_test, y_test, cmap='viridis', display_labels=['Not Fraud', 'Fraud'], colorbar=False)\n",
    "plt.title('Test')"
   ]
  },
  {
   "cell_type": "code",
   "execution_count": 70,
   "id": "a58ec648-2b43-4b07-a77c-54661972c0c2",
   "metadata": {},
   "outputs": [
    {
     "data": {
      "image/png": "[encoded data removed]",
      "text/plain": [
       "<Figure size 640x480 with 1 Axes>"
      ]
     },
     "metadata": {},
     "output_type": "display_data"
    }
   ],
   "source": [
    "# Create an ax object\n",
    "ax = plt.gca()\n",
    "\n",
    "# Use RocCurveDisplay for both estimators\n",
    "RocCurveDisplay.from_estimator(grid_lr, X_test, y_test, \n",
    "                               ax=ax, name='logistic regression')\n",
    "RocCurveDisplay.from_estimator(grid_rf_cs, X_test, y_test, \n",
    "                               ax=ax, name='Random Forest')\n",
    "RocCurveDisplay.from_estimator(abc_gs, X_test, y_test, \n",
    "                               ax=ax, name='Ada Boost')\n",
    "\n",
    "# Add 'worst case scenario' line\n",
    "plt.plot([0,1], [0,1], label='no prediction value', \n",
    "         linestyle='--', color='gray')\n",
    "\n",
    "plt.title('Receiver Operating Characteristic Curve')\n",
    "plt.xlabel('False Positive Rate')\n",
    "plt.ylabel('True Positive Rate')\n",
    "# Necessary to label the baseline\n",
    "plt.legend();"
   ]
  },
  {
   "cell_type": "markdown",
   "id": "c4c07aa5-d03d-47af-a2d6-c5c435a5bef1",
   "metadata": {},
   "source": [
    "Our confusion matrix of our final model and ROC curve plots are highlighted above. The ROC curve can be misleading because we know accuracy is not a particular useful metric for fraud detection with highly imbalanced classes. Nonetheless, it still helps us visualize the best algorithm at seperating the majority(not fraud) and minority class(fraud) which is the algorithm with the most area under the curve. The confusion matrix highlights how of our 86 total fraud observations our best model misses six of them. Nearly 100% of time we correctly classify the majority class. While, the Ada Boost algorithm is slighlty better at predicting fraud, the Random forest algorithm virtually never missclassifies the majority class. We must also consider the impact to customers when their credit cards are frozen for legitime transcation which causes inconviences to exhisting customers. "
   ]
  },
  {
   "cell_type": "code",
   "execution_count": null,
   "id": "d690bd7e-21a1-4981-ac98-5c36506f857e",
   "metadata": {},
   "outputs": [],
   "source": []
  },
  {
   "cell_type": "markdown",
   "id": "e19bed0a-edde-4559-84ca-34c1150a520d",
   "metadata": {},
   "source": [
    "### Summary and Recommendations"
   ]
  },
  {
   "cell_type": "markdown",
   "id": "9677dc09-ff03-481f-9d12-8e890b26e8ba",
   "metadata": {},
   "source": [
    "In this project, we leveraged a simulation to generate useful data to train and build a fraud detection model to protect consumers from credit card fraud. \n",
    "We analyzed the data and highlighted meaningful trends from the data that related to predicting fraudulent activity. We built several classification models to evaluate model performance and address the challenges of highly imbalanced classes. We engineered several features and transformed the data when applicable to aid in model performance. The final model was a Random Forest algorithm which was nearly 99% accurate, and our model did not detect only 1% of all instances of fraud. We recommend implementing our algorithm to reduce future fraud and protect consumers. "
   ]
  },
  {
   "cell_type": "code",
   "execution_count": null,
   "id": "f83d70c6-62ff-4d2b-8889-0661d9c866fd",
   "metadata": {},
   "outputs": [],
   "source": []
  },
  {
   "cell_type": "code",
   "execution_count": null,
   "id": "d7b86cb4-b0e5-42c2-b048-16ea93610325",
   "metadata": {},
   "outputs": [],
   "source": []
  }
 ],
 "metadata": {
  "kernelspec": {
   "display_name": "Python 3 (ipykernel)",
   "language": "python",
   "name": "python3"
  },
  "language_info": {
   "codemirror_mode": {
    "name": "ipython",
    "version": 3
   },
   "file_extension": ".py",
   "mimetype": "text/x-python",
   "name": "python",
   "nbconvert_exporter": "python",
   "pygments_lexer": "ipython3",
   "version": "3.9.13"
  }
 },
 "nbformat": 4,
 "nbformat_minor": 5
}
