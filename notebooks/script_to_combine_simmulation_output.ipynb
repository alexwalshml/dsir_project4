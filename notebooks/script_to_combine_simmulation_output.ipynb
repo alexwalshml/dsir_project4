{
 "cells": [
  {
   "cell_type": "code",
   "execution_count": 21,
   "id": "2c862f16-65b6-4d43-9739-015d86d081f6",
   "metadata": {},
   "outputs": [],
   "source": [
    "import os\n",
    "import pandas as pd"
   ]
  },
  {
   "cell_type": "code",
   "execution_count": 23,
   "id": "fa20a7ce-ad8e-4fe7-ab6b-443c03d98506",
   "metadata": {},
   "outputs": [],
   "source": [
    "list1 = os.listdir('data2/')"
   ]
  },
  {
   "cell_type": "code",
   "execution_count": 24,
   "id": "470e641e-18a0-4b4c-bf9f-c6a73dbc9502",
   "metadata": {},
   "outputs": [
    {
     "data": {
      "text/plain": [
       "['adults_2550_female_rural_0000-0299.csv',\n",
       " 'adults_2550_female_rural_0300-0599.csv',\n",
       " 'adults_2550_female_rural_0600-0899.csv',\n",
       " 'adults_2550_female_rural_0900-1199.csv',\n",
       " 'adults_2550_female_rural_1200-1499.csv',\n",
       " 'adults_2550_female_urban_0000-0299.csv',\n",
       " 'adults_2550_female_urban_0300-0599.csv',\n",
       " 'adults_2550_female_urban_0600-0899.csv',\n",
       " 'adults_2550_female_urban_0900-1199.csv',\n",
       " 'adults_2550_female_urban_1200-1499.csv',\n",
       " 'adults_2550_male_rural_0000-0299.csv',\n",
       " 'adults_2550_male_rural_0300-0599.csv',\n",
       " 'adults_2550_male_rural_0600-0899.csv',\n",
       " 'adults_2550_male_rural_0900-1199.csv',\n",
       " 'adults_2550_male_rural_1200-1499.csv',\n",
       " 'adults_2550_male_urban_0000-0299.csv',\n",
       " 'adults_2550_male_urban_0300-0599.csv',\n",
       " 'adults_2550_male_urban_0600-0899.csv',\n",
       " 'adults_2550_male_urban_0900-1199.csv',\n",
       " 'adults_2550_male_urban_1200-1499.csv',\n",
       " 'adults_50up_female_rural_0000-0299.csv',\n",
       " 'adults_50up_female_rural_0300-0599.csv',\n",
       " 'adults_50up_female_rural_0600-0899.csv',\n",
       " 'adults_50up_female_rural_0900-1199.csv',\n",
       " 'adults_50up_female_rural_1200-1499.csv',\n",
       " 'adults_50up_female_urban_0000-0299.csv',\n",
       " 'adults_50up_female_urban_0300-0599.csv',\n",
       " 'adults_50up_female_urban_0600-0899.csv',\n",
       " 'adults_50up_female_urban_0900-1199.csv',\n",
       " 'adults_50up_female_urban_1200-1499.csv',\n",
       " 'adults_50up_male_rural_0000-0299.csv',\n",
       " 'adults_50up_male_rural_0300-0599.csv',\n",
       " 'adults_50up_male_rural_0600-0899.csv',\n",
       " 'adults_50up_male_rural_0900-1199.csv',\n",
       " 'adults_50up_male_rural_1200-1499.csv',\n",
       " 'adults_50up_male_urban_0000-0299.csv',\n",
       " 'adults_50up_male_urban_0300-0599.csv',\n",
       " 'adults_50up_male_urban_0600-0899.csv',\n",
       " 'adults_50up_male_urban_0900-1199.csv',\n",
       " 'adults_50up_male_urban_1200-1499.csv',\n",
       " 'customers.csv',\n",
       " 'young_adults_female_rural_0000-0299.csv',\n",
       " 'young_adults_female_rural_0300-0599.csv',\n",
       " 'young_adults_female_rural_0600-0899.csv',\n",
       " 'young_adults_female_rural_0900-1199.csv',\n",
       " 'young_adults_female_rural_1200-1499.csv',\n",
       " 'young_adults_female_urban_0000-0299.csv',\n",
       " 'young_adults_female_urban_0300-0599.csv',\n",
       " 'young_adults_female_urban_0600-0899.csv',\n",
       " 'young_adults_female_urban_0900-1199.csv',\n",
       " 'young_adults_female_urban_1200-1499.csv',\n",
       " 'young_adults_male_rural_0000-0299.csv',\n",
       " 'young_adults_male_rural_0300-0599.csv',\n",
       " 'young_adults_male_rural_0600-0899.csv',\n",
       " 'young_adults_male_rural_0900-1199.csv',\n",
       " 'young_adults_male_rural_1200-1499.csv',\n",
       " 'young_adults_male_urban_0000-0299.csv',\n",
       " 'young_adults_male_urban_0300-0599.csv',\n",
       " 'young_adults_male_urban_0600-0899.csv',\n",
       " 'young_adults_male_urban_0900-1199.csv',\n",
       " 'young_adults_male_urban_1200-1499.csv']"
      ]
     },
     "execution_count": 24,
     "metadata": {},
     "output_type": "execute_result"
    }
   ],
   "source": [
    "list1"
   ]
  },
  {
   "cell_type": "code",
   "execution_count": 30,
   "id": "c9ef79fe-2b08-40f6-8125-48dbaa65d299",
   "metadata": {},
   "outputs": [],
   "source": [
    "list_to_remove = ['.ipynb_checkpoints','customers.csv','merchants.csv']\n",
    "\n",
    "for item in list_to_remove:\n",
    "    list1.remove(item)"
   ]
  },
  {
   "cell_type": "code",
   "execution_count": 31,
   "id": "fb8ff017-69f6-41b9-bd8f-48f4af4575ea",
   "metadata": {},
   "outputs": [],
   "source": [
    "data = pd.concat([pd.read_csv('data2/'+file,sep = \"|\") for file in list1])\n",
    "## Now we have a list of data frames."
   ]
  },
  {
   "cell_type": "code",
   "execution_count": 33,
   "id": "4880b77f-3c36-41de-a71c-9fe4b91fcc51",
   "metadata": {},
   "outputs": [
    {
     "data": {
      "text/plain": [
       "(2600454, 26)"
      ]
     },
     "execution_count": 33,
     "metadata": {},
     "output_type": "execute_result"
    }
   ],
   "source": [
    "data.shape"
   ]
  },
  {
   "cell_type": "code",
   "execution_count": 34,
   "id": "d010906e-ce43-4f26-b345-30945c56697e",
   "metadata": {},
   "outputs": [],
   "source": [
    "data.to_csv('fraud_records.csv',index=False)"
   ]
  }
 ],
 "metadata": {
  "kernelspec": {
   "display_name": "Python 3 (ipykernel)",
   "language": "python",
   "name": "python3"
  },
  "language_info": {
   "codemirror_mode": {
    "name": "ipython",
    "version": 3
   },
   "file_extension": ".py",
   "mimetype": "text/x-python",
   "name": "python",
   "nbconvert_exporter": "python",
   "pygments_lexer": "ipython3",
   "version": "3.9.13"
  }
 },
 "nbformat": 4,
 "nbformat_minor": 5
}
