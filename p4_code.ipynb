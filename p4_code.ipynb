{
 "cells": [
  {
   "cell_type": "markdown",
   "id": "9a9ed529-e2db-4faf-b71d-683d1552b2bb",
   "metadata": {},
   "source": [
    "<img src=\"http://imgur.com/1ZcRyrc.png\" style=\"float: left; margin: 15px; height: 80px\">\n",
    "\n",
    "# Project 4 Fraud Analysis"
   ]
  },
  {
   "cell_type": "markdown",
   "id": "8cab40b1-4dc4-482f-844f-f7fa029e76f3",
   "metadata": {},
   "source": [
    "# Problem Statement\n",
    "\n",
    "Nearly half of all Americans experienced some form of fraudulent charges in 2021, according to the security.org annual Fraud report. As society moves increasingly towards a cashless society every year, we must continue to advance our ability to detect fraud and protect consumers. Unfortunately, credit card fraud poses a significant challenge for classification algorithms as the classes are typically heavily imbalanced. For this project, we analyze simulated credit card fraud data and aim to build a model that can accurately detect fraud.\n",
    "\n",
    "To do this our project will complete the following steps:\n",
    "1) We clean the data, conduct exploratory data analysis, preprocess and engineer features for our regression model.\n",
    "2) After testing several modeling strategies, we evaluate our model assumptions and choose an approach that will lead to the most accurate performance.\n",
    "3) We present our findings to the business, highlighting our model's accuracy in predicting price and the features that will likely have the most negative impact on price. "
   ]
  },
  {
   "cell_type": "markdown",
   "id": "8dbaaf81-17f1-4ab8-abfd-47e53d65e860",
   "metadata": {},
   "source": [
    "##### Imports for model"
   ]
  },
  {
   "cell_type": "code",
   "execution_count": 1,
   "id": "789fbaa1-7c6d-4eb2-bb52-7e914788b7b0",
   "metadata": {},
   "outputs": [],
   "source": [
    "import numpy as np\n",
    "import pandas as pd \n",
    "import matplotlib.pyplot as plt\n",
    "import scipy.stats as stats\n",
    "import matplotlib\n",
    "import seaborn as sns\n",
    "\n",
    "import statsmodels.api as sm\n",
    "from statsmodels.stats.outliers_influence import variance_inflation_factor\n",
    "\n",
    "import sys\n",
    "\n",
    "if not sys.warnoptions:\n",
    "    import warnings\n",
    "    warnings.simplefilter(\"ignore\")"
   ]
  },
  {
   "cell_type": "markdown",
   "id": "f48cbcd7-da83-4e84-b4a3-30b534b65327",
   "metadata": {},
   "source": [
    "##### Read in the data"
   ]
  },
  {
   "cell_type": "code",
   "execution_count": 2,
   "id": "cdaa1d99-dac5-484e-8831-fe030fbab7a6",
   "metadata": {},
   "outputs": [],
   "source": [
    "df = pd.read_csv('data/fraud_records.csv')"
   ]
  },
  {
   "cell_type": "markdown",
   "id": "3750cb68-d703-442d-92f8-1bce0e653091",
   "metadata": {},
   "source": [
    "# Data Cleaning"
   ]
  },
  {
   "cell_type": "markdown",
   "id": "926f8fcf-949e-4e79-9446-9758ddc8c421",
   "metadata": {},
   "source": [
    "##### Data cleaning will consist of the following:\n",
    "    1) visually inspecting the data and converting column names\n",
    "    2) Checking and correcting missing data\n",
    "    3) converting data to correct data types"
   ]
  },
  {
   "cell_type": "code",
   "execution_count": 3,
   "id": "2a34f130-be9b-4e34-be37-40aa95d51148",
   "metadata": {},
   "outputs": [
    {
     "data": {
      "text/html": [
       "<div>\n",
       "<style scoped>\n",
       "    .dataframe tbody tr th:only-of-type {\n",
       "        vertical-align: middle;\n",
       "    }\n",
       "\n",
       "    .dataframe tbody tr th {\n",
       "        vertical-align: top;\n",
       "    }\n",
       "\n",
       "    .dataframe thead th {\n",
       "        text-align: right;\n",
       "    }\n",
       "</style>\n",
       "<table border=\"1\" class=\"dataframe\">\n",
       "  <thead>\n",
       "    <tr style=\"text-align: right;\">\n",
       "      <th></th>\n",
       "      <th>ssn</th>\n",
       "      <th>cc_num</th>\n",
       "      <th>first</th>\n",
       "      <th>last</th>\n",
       "      <th>gender</th>\n",
       "      <th>street</th>\n",
       "      <th>city</th>\n",
       "      <th>state</th>\n",
       "      <th>zip</th>\n",
       "      <th>lat</th>\n",
       "      <th>...</th>\n",
       "      <th>trans_num</th>\n",
       "      <th>trans_date</th>\n",
       "      <th>trans_time</th>\n",
       "      <th>unix_time</th>\n",
       "      <th>category</th>\n",
       "      <th>amt</th>\n",
       "      <th>is_fraud</th>\n",
       "      <th>merchant</th>\n",
       "      <th>merch_lat</th>\n",
       "      <th>merch_long</th>\n",
       "    </tr>\n",
       "  </thead>\n",
       "  <tbody>\n",
       "    <tr>\n",
       "      <th>0</th>\n",
       "      <td>697-93-1877</td>\n",
       "      <td>4514627048281480</td>\n",
       "      <td>Lisa</td>\n",
       "      <td>Hernandez</td>\n",
       "      <td>F</td>\n",
       "      <td>809 Burns Creek</td>\n",
       "      <td>Hunter</td>\n",
       "      <td>NY</td>\n",
       "      <td>12442</td>\n",
       "      <td>42.2333</td>\n",
       "      <td>...</td>\n",
       "      <td>b40239817d29f8c5894c6d1f4dbf570c</td>\n",
       "      <td>2021-05-17</td>\n",
       "      <td>01:48:07</td>\n",
       "      <td>1621230487</td>\n",
       "      <td>shopping_net</td>\n",
       "      <td>9.85</td>\n",
       "      <td>1</td>\n",
       "      <td>fraud_Gleason-Macejkovic</td>\n",
       "      <td>41.546458</td>\n",
       "      <td>-74.233147</td>\n",
       "    </tr>\n",
       "    <tr>\n",
       "      <th>1</th>\n",
       "      <td>697-93-1877</td>\n",
       "      <td>4514627048281480</td>\n",
       "      <td>Lisa</td>\n",
       "      <td>Hernandez</td>\n",
       "      <td>F</td>\n",
       "      <td>809 Burns Creek</td>\n",
       "      <td>Hunter</td>\n",
       "      <td>NY</td>\n",
       "      <td>12442</td>\n",
       "      <td>42.2333</td>\n",
       "      <td>...</td>\n",
       "      <td>25ab96365ed24c301c72501a3b44a4e5</td>\n",
       "      <td>2021-05-17</td>\n",
       "      <td>00:29:09</td>\n",
       "      <td>1621225749</td>\n",
       "      <td>shopping_net</td>\n",
       "      <td>339.71</td>\n",
       "      <td>1</td>\n",
       "      <td>fraud_Mohr-Bayer</td>\n",
       "      <td>42.939539</td>\n",
       "      <td>-74.797924</td>\n",
       "    </tr>\n",
       "    <tr>\n",
       "      <th>2</th>\n",
       "      <td>697-93-1877</td>\n",
       "      <td>4514627048281480</td>\n",
       "      <td>Lisa</td>\n",
       "      <td>Hernandez</td>\n",
       "      <td>F</td>\n",
       "      <td>809 Burns Creek</td>\n",
       "      <td>Hunter</td>\n",
       "      <td>NY</td>\n",
       "      <td>12442</td>\n",
       "      <td>42.2333</td>\n",
       "      <td>...</td>\n",
       "      <td>40f714fb0545f2749b0d2ee7a1b3fc9c</td>\n",
       "      <td>2021-05-17</td>\n",
       "      <td>00:07:04</td>\n",
       "      <td>1621224424</td>\n",
       "      <td>misc_net</td>\n",
       "      <td>828.05</td>\n",
       "      <td>1</td>\n",
       "      <td>fraud_Hayes, Marquardt and Dibbert</td>\n",
       "      <td>42.674467</td>\n",
       "      <td>-74.741182</td>\n",
       "    </tr>\n",
       "    <tr>\n",
       "      <th>3</th>\n",
       "      <td>697-93-1877</td>\n",
       "      <td>4514627048281480</td>\n",
       "      <td>Lisa</td>\n",
       "      <td>Hernandez</td>\n",
       "      <td>F</td>\n",
       "      <td>809 Burns Creek</td>\n",
       "      <td>Hunter</td>\n",
       "      <td>NY</td>\n",
       "      <td>12442</td>\n",
       "      <td>42.2333</td>\n",
       "      <td>...</td>\n",
       "      <td>d15c033672074d31913e11e977d0bd3d</td>\n",
       "      <td>2021-05-17</td>\n",
       "      <td>00:39:00</td>\n",
       "      <td>1621226340</td>\n",
       "      <td>misc_net</td>\n",
       "      <td>776.30</td>\n",
       "      <td>1</td>\n",
       "      <td>fraud_Tillman, Fritsch and Schmitt</td>\n",
       "      <td>42.855690</td>\n",
       "      <td>-73.934155</td>\n",
       "    </tr>\n",
       "    <tr>\n",
       "      <th>4</th>\n",
       "      <td>697-93-1877</td>\n",
       "      <td>4514627048281480</td>\n",
       "      <td>Lisa</td>\n",
       "      <td>Hernandez</td>\n",
       "      <td>F</td>\n",
       "      <td>809 Burns Creek</td>\n",
       "      <td>Hunter</td>\n",
       "      <td>NY</td>\n",
       "      <td>12442</td>\n",
       "      <td>42.2333</td>\n",
       "      <td>...</td>\n",
       "      <td>54a97de986d96d2fe27975f5a418a98d</td>\n",
       "      <td>2021-05-17</td>\n",
       "      <td>03:27:08</td>\n",
       "      <td>1621236428</td>\n",
       "      <td>grocery_pos</td>\n",
       "      <td>1049.03</td>\n",
       "      <td>1</td>\n",
       "      <td>fraud_Stracke-Lemke</td>\n",
       "      <td>43.125025</td>\n",
       "      <td>-73.805859</td>\n",
       "    </tr>\n",
       "  </tbody>\n",
       "</table>\n",
       "<p>5 rows × 26 columns</p>\n",
       "</div>"
      ],
      "text/plain": [
       "           ssn            cc_num first       last gender           street  \\\n",
       "0  697-93-1877  4514627048281480  Lisa  Hernandez      F  809 Burns Creek   \n",
       "1  697-93-1877  4514627048281480  Lisa  Hernandez      F  809 Burns Creek   \n",
       "2  697-93-1877  4514627048281480  Lisa  Hernandez      F  809 Burns Creek   \n",
       "3  697-93-1877  4514627048281480  Lisa  Hernandez      F  809 Burns Creek   \n",
       "4  697-93-1877  4514627048281480  Lisa  Hernandez      F  809 Burns Creek   \n",
       "\n",
       "     city state    zip      lat  ...                         trans_num  \\\n",
       "0  Hunter    NY  12442  42.2333  ...  b40239817d29f8c5894c6d1f4dbf570c   \n",
       "1  Hunter    NY  12442  42.2333  ...  25ab96365ed24c301c72501a3b44a4e5   \n",
       "2  Hunter    NY  12442  42.2333  ...  40f714fb0545f2749b0d2ee7a1b3fc9c   \n",
       "3  Hunter    NY  12442  42.2333  ...  d15c033672074d31913e11e977d0bd3d   \n",
       "4  Hunter    NY  12442  42.2333  ...  54a97de986d96d2fe27975f5a418a98d   \n",
       "\n",
       "   trans_date trans_time   unix_time      category      amt is_fraud  \\\n",
       "0  2021-05-17   01:48:07  1621230487  shopping_net     9.85        1   \n",
       "1  2021-05-17   00:29:09  1621225749  shopping_net   339.71        1   \n",
       "2  2021-05-17   00:07:04  1621224424      misc_net   828.05        1   \n",
       "3  2021-05-17   00:39:00  1621226340      misc_net   776.30        1   \n",
       "4  2021-05-17   03:27:08  1621236428   grocery_pos  1049.03        1   \n",
       "\n",
       "                             merchant  merch_lat  merch_long  \n",
       "0            fraud_Gleason-Macejkovic  41.546458  -74.233147  \n",
       "1                    fraud_Mohr-Bayer  42.939539  -74.797924  \n",
       "2  fraud_Hayes, Marquardt and Dibbert  42.674467  -74.741182  \n",
       "3  fraud_Tillman, Fritsch and Schmitt  42.855690  -73.934155  \n",
       "4                 fraud_Stracke-Lemke  43.125025  -73.805859  \n",
       "\n",
       "[5 rows x 26 columns]"
      ]
     },
     "execution_count": 3,
     "metadata": {},
     "output_type": "execute_result"
    }
   ],
   "source": [
    "df.head()"
   ]
  },
  {
   "cell_type": "code",
   "execution_count": 3,
   "id": "3631ec7a-0ead-42cb-a015-80b5e5963898",
   "metadata": {},
   "outputs": [
    {
     "data": {
      "text/html": [
       "<div>\n",
       "<style scoped>\n",
       "    .dataframe tbody tr th:only-of-type {\n",
       "        vertical-align: middle;\n",
       "    }\n",
       "\n",
       "    .dataframe tbody tr th {\n",
       "        vertical-align: top;\n",
       "    }\n",
       "\n",
       "    .dataframe thead th {\n",
       "        text-align: right;\n",
       "    }\n",
       "</style>\n",
       "<table border=\"1\" class=\"dataframe\">\n",
       "  <thead>\n",
       "    <tr style=\"text-align: right;\">\n",
       "      <th></th>\n",
       "      <th>Unnamed: 0</th>\n",
       "      <th>trans_date_trans_time</th>\n",
       "      <th>cc_num</th>\n",
       "      <th>merchant</th>\n",
       "      <th>category</th>\n",
       "      <th>amt</th>\n",
       "      <th>first</th>\n",
       "      <th>last</th>\n",
       "      <th>gender</th>\n",
       "      <th>street</th>\n",
       "      <th>...</th>\n",
       "      <th>lat</th>\n",
       "      <th>long</th>\n",
       "      <th>city_pop</th>\n",
       "      <th>job</th>\n",
       "      <th>dob</th>\n",
       "      <th>trans_num</th>\n",
       "      <th>unix_time</th>\n",
       "      <th>merch_lat</th>\n",
       "      <th>merch_long</th>\n",
       "      <th>is_fraud</th>\n",
       "    </tr>\n",
       "  </thead>\n",
       "  <tbody>\n",
       "    <tr>\n",
       "      <th>0</th>\n",
       "      <td>0</td>\n",
       "      <td>2019-01-01 00:00:18</td>\n",
       "      <td>2703186189652095</td>\n",
       "      <td>fraud_Rippin, Kub and Mann</td>\n",
       "      <td>misc_net</td>\n",
       "      <td>4.97</td>\n",
       "      <td>Jennifer</td>\n",
       "      <td>Banks</td>\n",
       "      <td>F</td>\n",
       "      <td>561 Perry Cove</td>\n",
       "      <td>...</td>\n",
       "      <td>36.0788</td>\n",
       "      <td>-81.1781</td>\n",
       "      <td>3495</td>\n",
       "      <td>Psychologist, counselling</td>\n",
       "      <td>1988-03-09</td>\n",
       "      <td>0b242abb623afc578575680df30655b9</td>\n",
       "      <td>1325376018</td>\n",
       "      <td>36.011293</td>\n",
       "      <td>-82.048315</td>\n",
       "      <td>0</td>\n",
       "    </tr>\n",
       "    <tr>\n",
       "      <th>1</th>\n",
       "      <td>1</td>\n",
       "      <td>2019-01-01 00:00:44</td>\n",
       "      <td>630423337322</td>\n",
       "      <td>fraud_Heller, Gutmann and Zieme</td>\n",
       "      <td>grocery_pos</td>\n",
       "      <td>107.23</td>\n",
       "      <td>Stephanie</td>\n",
       "      <td>Gill</td>\n",
       "      <td>F</td>\n",
       "      <td>43039 Riley Greens Suite 393</td>\n",
       "      <td>...</td>\n",
       "      <td>48.8878</td>\n",
       "      <td>-118.2105</td>\n",
       "      <td>149</td>\n",
       "      <td>Special educational needs teacher</td>\n",
       "      <td>1978-06-21</td>\n",
       "      <td>1f76529f8574734946361c461b024d99</td>\n",
       "      <td>1325376044</td>\n",
       "      <td>49.159047</td>\n",
       "      <td>-118.186462</td>\n",
       "      <td>0</td>\n",
       "    </tr>\n",
       "    <tr>\n",
       "      <th>2</th>\n",
       "      <td>2</td>\n",
       "      <td>2019-01-01 00:00:51</td>\n",
       "      <td>38859492057661</td>\n",
       "      <td>fraud_Lind-Buckridge</td>\n",
       "      <td>entertainment</td>\n",
       "      <td>220.11</td>\n",
       "      <td>Edward</td>\n",
       "      <td>Sanchez</td>\n",
       "      <td>M</td>\n",
       "      <td>594 White Dale Suite 530</td>\n",
       "      <td>...</td>\n",
       "      <td>42.1808</td>\n",
       "      <td>-112.2620</td>\n",
       "      <td>4154</td>\n",
       "      <td>Nature conservation officer</td>\n",
       "      <td>1962-01-19</td>\n",
       "      <td>a1a22d70485983eac12b5b88dad1cf95</td>\n",
       "      <td>1325376051</td>\n",
       "      <td>43.150704</td>\n",
       "      <td>-112.154481</td>\n",
       "      <td>0</td>\n",
       "    </tr>\n",
       "    <tr>\n",
       "      <th>3</th>\n",
       "      <td>3</td>\n",
       "      <td>2019-01-01 00:01:16</td>\n",
       "      <td>3534093764340240</td>\n",
       "      <td>fraud_Kutch, Hermiston and Farrell</td>\n",
       "      <td>gas_transport</td>\n",
       "      <td>45.00</td>\n",
       "      <td>Jeremy</td>\n",
       "      <td>White</td>\n",
       "      <td>M</td>\n",
       "      <td>9443 Cynthia Court Apt. 038</td>\n",
       "      <td>...</td>\n",
       "      <td>46.2306</td>\n",
       "      <td>-112.1138</td>\n",
       "      <td>1939</td>\n",
       "      <td>Patent attorney</td>\n",
       "      <td>1967-01-12</td>\n",
       "      <td>6b849c168bdad6f867558c3793159a81</td>\n",
       "      <td>1325376076</td>\n",
       "      <td>47.034331</td>\n",
       "      <td>-112.561071</td>\n",
       "      <td>0</td>\n",
       "    </tr>\n",
       "    <tr>\n",
       "      <th>4</th>\n",
       "      <td>4</td>\n",
       "      <td>2019-01-01 00:03:06</td>\n",
       "      <td>375534208663984</td>\n",
       "      <td>fraud_Keeling-Crist</td>\n",
       "      <td>misc_pos</td>\n",
       "      <td>41.96</td>\n",
       "      <td>Tyler</td>\n",
       "      <td>Garcia</td>\n",
       "      <td>M</td>\n",
       "      <td>408 Bradley Rest</td>\n",
       "      <td>...</td>\n",
       "      <td>38.4207</td>\n",
       "      <td>-79.4629</td>\n",
       "      <td>99</td>\n",
       "      <td>Dance movement psychotherapist</td>\n",
       "      <td>1986-03-28</td>\n",
       "      <td>a41d7549acf90789359a9aa5346dcb46</td>\n",
       "      <td>1325376186</td>\n",
       "      <td>38.674999</td>\n",
       "      <td>-78.632459</td>\n",
       "      <td>0</td>\n",
       "    </tr>\n",
       "  </tbody>\n",
       "</table>\n",
       "<p>5 rows × 23 columns</p>\n",
       "</div>"
      ],
      "text/plain": [
       "   Unnamed: 0 trans_date_trans_time            cc_num  \\\n",
       "0           0   2019-01-01 00:00:18  2703186189652095   \n",
       "1           1   2019-01-01 00:00:44      630423337322   \n",
       "2           2   2019-01-01 00:00:51    38859492057661   \n",
       "3           3   2019-01-01 00:01:16  3534093764340240   \n",
       "4           4   2019-01-01 00:03:06   375534208663984   \n",
       "\n",
       "                             merchant       category     amt      first  \\\n",
       "0          fraud_Rippin, Kub and Mann       misc_net    4.97   Jennifer   \n",
       "1     fraud_Heller, Gutmann and Zieme    grocery_pos  107.23  Stephanie   \n",
       "2                fraud_Lind-Buckridge  entertainment  220.11     Edward   \n",
       "3  fraud_Kutch, Hermiston and Farrell  gas_transport   45.00     Jeremy   \n",
       "4                 fraud_Keeling-Crist       misc_pos   41.96      Tyler   \n",
       "\n",
       "      last gender                        street  ...      lat      long  \\\n",
       "0    Banks      F                561 Perry Cove  ...  36.0788  -81.1781   \n",
       "1     Gill      F  43039 Riley Greens Suite 393  ...  48.8878 -118.2105   \n",
       "2  Sanchez      M      594 White Dale Suite 530  ...  42.1808 -112.2620   \n",
       "3    White      M   9443 Cynthia Court Apt. 038  ...  46.2306 -112.1138   \n",
       "4   Garcia      M              408 Bradley Rest  ...  38.4207  -79.4629   \n",
       "\n",
       "   city_pop                                job         dob  \\\n",
       "0      3495          Psychologist, counselling  1988-03-09   \n",
       "1       149  Special educational needs teacher  1978-06-21   \n",
       "2      4154        Nature conservation officer  1962-01-19   \n",
       "3      1939                    Patent attorney  1967-01-12   \n",
       "4        99     Dance movement psychotherapist  1986-03-28   \n",
       "\n",
       "                          trans_num   unix_time  merch_lat  merch_long  \\\n",
       "0  0b242abb623afc578575680df30655b9  1325376018  36.011293  -82.048315   \n",
       "1  1f76529f8574734946361c461b024d99  1325376044  49.159047 -118.186462   \n",
       "2  a1a22d70485983eac12b5b88dad1cf95  1325376051  43.150704 -112.154481   \n",
       "3  6b849c168bdad6f867558c3793159a81  1325376076  47.034331 -112.561071   \n",
       "4  a41d7549acf90789359a9aa5346dcb46  1325376186  38.674999  -78.632459   \n",
       "\n",
       "   is_fraud  \n",
       "0         0  \n",
       "1         0  \n",
       "2         0  \n",
       "3         0  \n",
       "4         0  \n",
       "\n",
       "[5 rows x 23 columns]"
      ]
     },
     "execution_count": 3,
     "metadata": {},
     "output_type": "execute_result"
    }
   ],
   "source": [
    "df_train.head()"
   ]
  },
  {
   "cell_type": "code",
   "execution_count": 4,
   "id": "e6981e9b-e7a2-40de-85c1-bd7bbabd6d10",
   "metadata": {},
   "outputs": [
    {
     "data": {
      "text/plain": [
       "Index(['ssn', 'cc_num', 'first', 'last', 'gender', 'street', 'city', 'state',\n",
       "       'zip', 'lat', 'long', 'city_pop', 'job', 'dob', 'acct_num', 'profile',\n",
       "       'trans_num', 'trans_date', 'trans_time', 'unix_time', 'category', 'amt',\n",
       "       'is_fraud', 'merchant', 'merch_lat', 'merch_long'],\n",
       "      dtype='object')"
      ]
     },
     "execution_count": 4,
     "metadata": {},
     "output_type": "execute_result"
    }
   ],
   "source": [
    "df.columns"
   ]
  },
  {
   "cell_type": "code",
   "execution_count": 5,
   "id": "f9a7e58f-3329-47b0-a35d-fd37784d92af",
   "metadata": {},
   "outputs": [
    {
     "data": {
      "text/plain": [
       "(2600454, 26)"
      ]
     },
     "execution_count": 5,
     "metadata": {},
     "output_type": "execute_result"
    }
   ],
   "source": [
    "df.shape"
   ]
  },
  {
   "cell_type": "code",
   "execution_count": 6,
   "id": "f0f2670a-c0e3-4010-a185-7c4b3e2c0b71",
   "metadata": {},
   "outputs": [
    {
     "data": {
      "text/plain": [
       "1496"
      ]
     },
     "execution_count": 6,
     "metadata": {},
     "output_type": "execute_result"
    }
   ],
   "source": [
    "len(pd.unique(df['cc_num']))"
   ]
  },
  {
   "cell_type": "markdown",
   "id": "0b09bf5b-599b-40a3-98af-2498cddcc596",
   "metadata": {},
   "source": [
    "#### Check for missing values"
   ]
  },
  {
   "cell_type": "code",
   "execution_count": 7,
   "id": "42168fcf-62ea-4fb3-a37d-ccc1b8c96f07",
   "metadata": {},
   "outputs": [
    {
     "data": {
      "text/plain": [
       "Series([], dtype: int64)"
      ]
     },
     "execution_count": 7,
     "metadata": {},
     "output_type": "execute_result"
    }
   ],
   "source": [
    "# check train nulls\n",
    "df.isnull().sum().sort_values(ascending = False).loc[lambda x: x> 0]"
   ]
  },
  {
   "cell_type": "code",
   "execution_count": 8,
   "id": "0235a332-8bfc-48fc-b0d3-017fcf513ce5",
   "metadata": {},
   "outputs": [
    {
     "data": {
      "text/plain": [
       "ssn              1496\n",
       "cc_num           1496\n",
       "first             423\n",
       "last              606\n",
       "gender              2\n",
       "street           1496\n",
       "city             1000\n",
       "state              51\n",
       "zip              1403\n",
       "lat              1396\n",
       "long             1400\n",
       "city_pop         1077\n",
       "job               571\n",
       "dob              1448\n",
       "acct_num         1496\n",
       "profile            12\n",
       "trans_num     2600454\n",
       "trans_date        730\n",
       "trans_time      86400\n",
       "unix_time     2497514\n",
       "category           14\n",
       "amt             71066\n",
       "is_fraud            2\n",
       "merchant          693\n",
       "merch_lat     2405096\n",
       "merch_long    2514269\n",
       "dtype: int64"
      ]
     },
     "execution_count": 8,
     "metadata": {},
     "output_type": "execute_result"
    }
   ],
   "source": [
    "df.nunique()"
   ]
  },
  {
   "cell_type": "markdown",
   "id": "55faece9-38e9-4ed5-97d1-5ce1c73d7e92",
   "metadata": {},
   "source": [
    "We adjust our transaction data time column to be in the proper form for subsquent analysis."
   ]
  },
  {
   "cell_type": "markdown",
   "id": "05623178-5973-493e-a30e-dde83a2b9362",
   "metadata": {},
   "source": [
    "### Check data types"
   ]
  },
  {
   "cell_type": "code",
   "execution_count": 11,
   "id": "ca8462e3-356a-46e2-94b7-3aff57acf3fc",
   "metadata": {},
   "outputs": [
    {
     "name": "stdout",
     "output_type": "stream",
     "text": [
      "<class 'pandas.core.frame.DataFrame'>\n",
      "RangeIndex: 2600454 entries, 0 to 2600453\n",
      "Data columns (total 26 columns):\n",
      " #   Column      Dtype  \n",
      "---  ------      -----  \n",
      " 0   ssn         object \n",
      " 1   cc_num      int64  \n",
      " 2   first       object \n",
      " 3   last        object \n",
      " 4   gender      object \n",
      " 5   street      object \n",
      " 6   city        object \n",
      " 7   state       object \n",
      " 8   zip         int64  \n",
      " 9   lat         float64\n",
      " 10  long        float64\n",
      " 11  city_pop    int64  \n",
      " 12  job         object \n",
      " 13  dob         object \n",
      " 14  acct_num    int64  \n",
      " 15  profile     object \n",
      " 16  trans_num   object \n",
      " 17  trans_date  object \n",
      " 18  trans_time  object \n",
      " 19  unix_time   int64  \n",
      " 20  category    object \n",
      " 21  amt         float64\n",
      " 22  is_fraud    int64  \n",
      " 23  merchant    object \n",
      " 24  merch_lat   float64\n",
      " 25  merch_long  float64\n",
      "dtypes: float64(5), int64(6), object(15)\n",
      "memory usage: 515.8+ MB\n"
     ]
    }
   ],
   "source": [
    "df.info()"
   ]
  },
  {
   "cell_type": "markdown",
   "id": "7fe42111-c551-458a-b10f-1b74fdad741f",
   "metadata": {},
   "source": [
    "Our data types are the correct type at this point in our analysis. After conducting EDA, we may choose to tranform the data and will need to consider changing the data types of categorical variables."
   ]
  },
  {
   "cell_type": "markdown",
   "id": "6facf831-5f88-41ac-b925-2aebb547d428",
   "metadata": {},
   "source": [
    "# Exploratory Data Analysis"
   ]
  },
  {
   "cell_type": "markdown",
   "id": "884a6740-986f-431a-8988-7b3d6b9d82db",
   "metadata": {},
   "source": [
    "#### Our EDA section covers\n",
    "    1) Examining summary statistics\n",
    "    2) Outlier analysis\n",
    "    3) Examining distributions to inform our modeling approach"
   ]
  },
  {
   "cell_type": "code",
   "execution_count": 12,
   "id": "5267cc6b-eb7e-4dc0-9a89-21a51272ffa9",
   "metadata": {},
   "outputs": [
    {
     "data": {
      "text/html": [
       "<div>\n",
       "<style scoped>\n",
       "    .dataframe tbody tr th:only-of-type {\n",
       "        vertical-align: middle;\n",
       "    }\n",
       "\n",
       "    .dataframe tbody tr th {\n",
       "        vertical-align: top;\n",
       "    }\n",
       "\n",
       "    .dataframe thead th {\n",
       "        text-align: right;\n",
       "    }\n",
       "</style>\n",
       "<table border=\"1\" class=\"dataframe\">\n",
       "  <thead>\n",
       "    <tr style=\"text-align: right;\">\n",
       "      <th></th>\n",
       "      <th>count</th>\n",
       "      <th>mean</th>\n",
       "      <th>std</th>\n",
       "      <th>min</th>\n",
       "      <th>25%</th>\n",
       "      <th>50%</th>\n",
       "      <th>75%</th>\n",
       "      <th>max</th>\n",
       "    </tr>\n",
       "  </thead>\n",
       "  <tbody>\n",
       "    <tr>\n",
       "      <th>cc_num</th>\n",
       "      <td>2600454.0</td>\n",
       "      <td>3.419284e+17</td>\n",
       "      <td>1.191885e+18</td>\n",
       "      <td>6.040192e+10</td>\n",
       "      <td>1.800021e+14</td>\n",
       "      <td>3.520510e+15</td>\n",
       "      <td>4.599997e+15</td>\n",
       "      <td>4.986227e+18</td>\n",
       "    </tr>\n",
       "    <tr>\n",
       "      <th>zip</th>\n",
       "      <td>2600454.0</td>\n",
       "      <td>5.158671e+04</td>\n",
       "      <td>2.985793e+04</td>\n",
       "      <td>1.060000e+03</td>\n",
       "      <td>2.761700e+04</td>\n",
       "      <td>4.905800e+04</td>\n",
       "      <td>7.824900e+04</td>\n",
       "      <td>9.980100e+04</td>\n",
       "    </tr>\n",
       "    <tr>\n",
       "      <th>lat</th>\n",
       "      <td>2600454.0</td>\n",
       "      <td>3.793976e+01</td>\n",
       "      <td>5.332446e+00</td>\n",
       "      <td>1.955060e+01</td>\n",
       "      <td>3.408120e+01</td>\n",
       "      <td>3.892020e+01</td>\n",
       "      <td>4.143350e+01</td>\n",
       "      <td>6.491090e+01</td>\n",
       "    </tr>\n",
       "    <tr>\n",
       "      <th>long</th>\n",
       "      <td>2600454.0</td>\n",
       "      <td>-9.251659e+01</td>\n",
       "      <td>1.691037e+01</td>\n",
       "      <td>-1.581781e+02</td>\n",
       "      <td>-9.864330e+01</td>\n",
       "      <td>-8.779140e+01</td>\n",
       "      <td>-8.002880e+01</td>\n",
       "      <td>-6.841210e+01</td>\n",
       "    </tr>\n",
       "    <tr>\n",
       "      <th>city_pop</th>\n",
       "      <td>2600454.0</td>\n",
       "      <td>3.092740e+05</td>\n",
       "      <td>5.834907e+05</td>\n",
       "      <td>2.620000e+02</td>\n",
       "      <td>1.751200e+04</td>\n",
       "      <td>6.526100e+04</td>\n",
       "      <td>2.509750e+05</td>\n",
       "      <td>2.906700e+06</td>\n",
       "    </tr>\n",
       "    <tr>\n",
       "      <th>acct_num</th>\n",
       "      <td>2600454.0</td>\n",
       "      <td>5.130132e+11</td>\n",
       "      <td>2.894180e+11</td>\n",
       "      <td>1.896309e+09</td>\n",
       "      <td>2.687536e+11</td>\n",
       "      <td>5.127099e+11</td>\n",
       "      <td>7.830663e+11</td>\n",
       "      <td>9.993899e+11</td>\n",
       "    </tr>\n",
       "    <tr>\n",
       "      <th>unix_time</th>\n",
       "      <td>2600454.0</td>\n",
       "      <td>1.642717e+09</td>\n",
       "      <td>1.821444e+07</td>\n",
       "      <td>1.609477e+09</td>\n",
       "      <td>1.627067e+09</td>\n",
       "      <td>1.641116e+09</td>\n",
       "      <td>1.658630e+09</td>\n",
       "      <td>1.672549e+09</td>\n",
       "    </tr>\n",
       "    <tr>\n",
       "      <th>amt</th>\n",
       "      <td>2600454.0</td>\n",
       "      <td>7.085574e+01</td>\n",
       "      <td>1.715623e+02</td>\n",
       "      <td>1.000000e+00</td>\n",
       "      <td>9.060000e+00</td>\n",
       "      <td>4.428000e+01</td>\n",
       "      <td>8.173000e+01</td>\n",
       "      <td>2.828574e+04</td>\n",
       "    </tr>\n",
       "    <tr>\n",
       "      <th>is_fraud</th>\n",
       "      <td>2600454.0</td>\n",
       "      <td>5.501347e-03</td>\n",
       "      <td>7.396678e-02</td>\n",
       "      <td>0.000000e+00</td>\n",
       "      <td>0.000000e+00</td>\n",
       "      <td>0.000000e+00</td>\n",
       "      <td>0.000000e+00</td>\n",
       "      <td>1.000000e+00</td>\n",
       "    </tr>\n",
       "    <tr>\n",
       "      <th>merch_lat</th>\n",
       "      <td>2600454.0</td>\n",
       "      <td>3.793978e+01</td>\n",
       "      <td>5.363163e+00</td>\n",
       "      <td>1.855151e+01</td>\n",
       "      <td>3.424879e+01</td>\n",
       "      <td>3.886738e+01</td>\n",
       "      <td>4.142172e+01</td>\n",
       "      <td>6.591033e+01</td>\n",
       "    </tr>\n",
       "    <tr>\n",
       "      <th>merch_long</th>\n",
       "      <td>2600454.0</td>\n",
       "      <td>-9.251665e+01</td>\n",
       "      <td>1.692042e+01</td>\n",
       "      <td>-1.591777e+02</td>\n",
       "      <td>-9.909776e+01</td>\n",
       "      <td>-8.771153e+01</td>\n",
       "      <td>-7.970615e+01</td>\n",
       "      <td>-6.741229e+01</td>\n",
       "    </tr>\n",
       "  </tbody>\n",
       "</table>\n",
       "</div>"
      ],
      "text/plain": [
       "                count          mean           std           min           25%  \\\n",
       "cc_num      2600454.0  3.419284e+17  1.191885e+18  6.040192e+10  1.800021e+14   \n",
       "zip         2600454.0  5.158671e+04  2.985793e+04  1.060000e+03  2.761700e+04   \n",
       "lat         2600454.0  3.793976e+01  5.332446e+00  1.955060e+01  3.408120e+01   \n",
       "long        2600454.0 -9.251659e+01  1.691037e+01 -1.581781e+02 -9.864330e+01   \n",
       "city_pop    2600454.0  3.092740e+05  5.834907e+05  2.620000e+02  1.751200e+04   \n",
       "acct_num    2600454.0  5.130132e+11  2.894180e+11  1.896309e+09  2.687536e+11   \n",
       "unix_time   2600454.0  1.642717e+09  1.821444e+07  1.609477e+09  1.627067e+09   \n",
       "amt         2600454.0  7.085574e+01  1.715623e+02  1.000000e+00  9.060000e+00   \n",
       "is_fraud    2600454.0  5.501347e-03  7.396678e-02  0.000000e+00  0.000000e+00   \n",
       "merch_lat   2600454.0  3.793978e+01  5.363163e+00  1.855151e+01  3.424879e+01   \n",
       "merch_long  2600454.0 -9.251665e+01  1.692042e+01 -1.591777e+02 -9.909776e+01   \n",
       "\n",
       "                     50%           75%           max  \n",
       "cc_num      3.520510e+15  4.599997e+15  4.986227e+18  \n",
       "zip         4.905800e+04  7.824900e+04  9.980100e+04  \n",
       "lat         3.892020e+01  4.143350e+01  6.491090e+01  \n",
       "long       -8.779140e+01 -8.002880e+01 -6.841210e+01  \n",
       "city_pop    6.526100e+04  2.509750e+05  2.906700e+06  \n",
       "acct_num    5.127099e+11  7.830663e+11  9.993899e+11  \n",
       "unix_time   1.641116e+09  1.658630e+09  1.672549e+09  \n",
       "amt         4.428000e+01  8.173000e+01  2.828574e+04  \n",
       "is_fraud    0.000000e+00  0.000000e+00  1.000000e+00  \n",
       "merch_lat   3.886738e+01  4.142172e+01  6.591033e+01  \n",
       "merch_long -8.771153e+01 -7.970615e+01 -6.741229e+01  "
      ]
     },
     "execution_count": 12,
     "metadata": {},
     "output_type": "execute_result"
    }
   ],
   "source": [
    "df.describe().T"
   ]
  },
  {
   "cell_type": "code",
   "execution_count": 13,
   "id": "ca6993f7-9dbb-473e-ba32-7335f230ab91",
   "metadata": {},
   "outputs": [
    {
     "data": {
      "text/plain": [
       "0    2586148\n",
       "1      14306\n",
       "Name: is_fraud, dtype: int64"
      ]
     },
     "execution_count": 13,
     "metadata": {},
     "output_type": "execute_result"
    }
   ],
   "source": [
    "df.is_fraud.value_counts()"
   ]
  },
  {
   "cell_type": "code",
   "execution_count": 14,
   "id": "4cad2be1-6b27-4495-82f2-e6d62ec95fe8",
   "metadata": {},
   "outputs": [
    {
     "data": {
      "text/plain": [
       "0    99.45\n",
       "1     0.55\n",
       "Name: is_fraud, dtype: float64"
      ]
     },
     "execution_count": 14,
     "metadata": {},
     "output_type": "execute_result"
    }
   ],
   "source": [
    "df.is_fraud.value_counts(normalize=True).mul(100).round(2)"
   ]
  },
  {
   "cell_type": "markdown",
   "id": "39e0bbb8-f993-4f50-abab-c9a26a895d45",
   "metadata": {},
   "source": [
    "#### We note highly imbalanced classes, which is a common challange of fraud detection problems."
   ]
  },
  {
   "cell_type": "code",
   "execution_count": 15,
   "id": "4bd9ef28-c433-4a3b-8413-86aca4fb2e81",
   "metadata": {},
   "outputs": [
    {
     "data": {
      "text/plain": [
       "<Figure size 1000x800 with 0 Axes>"
      ]
     },
     "metadata": {},
     "output_type": "display_data"
    },
    {
     "data": {
      "image/png": "[encoded data removed]",
      "text/plain": [
       "<Figure size 500x500 with 1 Axes>"
      ]
     },
     "metadata": {},
     "output_type": "display_data"
    }
   ],
   "source": [
    "plt.figure(figsize=(10,8));\n",
    "sns.displot(df['is_fraud']).set(title = 'Target  Distribution', \n",
    "                                                   xlabel='is_fraud', \n",
    "                                                   ylabel='Count');"
   ]
  },
  {
   "cell_type": "markdown",
   "id": "1c94c253-c395-4b0e-b8f3-67fe13abc468",
   "metadata": {},
   "source": [
    "## Drop duplicates"
   ]
  },
  {
   "cell_type": "code",
   "execution_count": 16,
   "id": "ae6f1b50-a6b8-49a4-a57b-c96ad0bafc98",
   "metadata": {},
   "outputs": [
    {
     "data": {
      "text/plain": [
       "(2600454, 26)"
      ]
     },
     "execution_count": 16,
     "metadata": {},
     "output_type": "execute_result"
    }
   ],
   "source": [
    "df.shape"
   ]
  },
  {
   "cell_type": "code",
   "execution_count": 17,
   "id": "bb82e420-a34e-488d-a22c-5a13963f5836",
   "metadata": {},
   "outputs": [],
   "source": [
    "df.drop_duplicates(inplace=True)"
   ]
  },
  {
   "cell_type": "code",
   "execution_count": 19,
   "id": "8e945ee3-11f5-4575-a7c1-547896df608f",
   "metadata": {},
   "outputs": [
    {
     "data": {
      "text/plain": [
       "(2600454, 26)"
      ]
     },
     "execution_count": 19,
     "metadata": {},
     "output_type": "execute_result"
    }
   ],
   "source": [
    "df.shape"
   ]
  },
  {
   "cell_type": "markdown",
   "id": "b705f041-c2be-4da9-b117-808aa74b94cb",
   "metadata": {},
   "source": [
    "### Examine box plots"
   ]
  },
  {
   "cell_type": "code",
   "execution_count": 20,
   "id": "a429ec75-a96f-469b-997b-8c1c2df72f65",
   "metadata": {},
   "outputs": [],
   "source": [
    "num_cols = df.select_dtypes([np.int64,np.float64]).columns"
   ]
  },
  {
   "cell_type": "code",
   "execution_count": 21,
   "id": "6da4a149-d439-4bd5-9c7e-dc064bca4007",
   "metadata": {},
   "outputs": [
    {
     "data": {
      "image/png": "[encoded data removed]",
      "text/plain": [
       "<Figure size 1600x2500 with 12 Axes>"
      ]
     },
     "metadata": {},
     "output_type": "display_data"
    }
   ],
   "source": [
    "def get_boxplots(dataset, columns_list, rows, cols, suptitle):\n",
    "    fig, axs = plt.subplots(rows, cols, sharey=True, figsize=(16,25))\n",
    "    fig.suptitle(suptitle,y=1, size=25)\n",
    "    axs = axs.flatten()\n",
    "    for i, data in enumerate(columns_list):\n",
    "        sns.boxplot(data=dataset[data], orient='h', ax=axs[i])\n",
    "        axs[i].set_title(data + ', skewness is: '+str(round(dataset[data].skew(axis = 0, skipna = True),2)))\n",
    "        \n",
    "get_boxplots(dataset=df, columns_list=num_cols, rows=4, cols=3, suptitle='Numeric Variable Boxplots')\n",
    "plt.tight_layout()"
   ]
  },
  {
   "cell_type": "markdown",
   "id": "e84ec5ec-0695-41d9-a4bd-d310d89a0a42",
   "metadata": {},
   "source": [
    "### Examine correlationss"
   ]
  },
  {
   "cell_type": "code",
   "execution_count": 22,
   "id": "d0d0832e-292c-498b-9e40-1d9e16d5e425",
   "metadata": {},
   "outputs": [
    {
     "data": {
      "text/plain": [
       "unix_time    -0.009710\n",
       "acct_num     -0.002885\n",
       "lat          -0.002774\n",
       "merch_lat    -0.002620\n",
       "long         -0.000313\n",
       "merch_long   -0.000311\n",
       "zip           0.000729\n",
       "city_pop      0.001152\n",
       "cc_num        0.002369\n",
       "amt           0.200836\n",
       "is_fraud      1.000000\n",
       "Name: is_fraud, dtype: float64"
      ]
     },
     "execution_count": 22,
     "metadata": {},
     "output_type": "execute_result"
    }
   ],
   "source": [
    "df.corr()['is_fraud'].sort_values()"
   ]
  },
  {
   "cell_type": "code",
   "execution_count": 23,
   "id": "b7192679-e378-43ec-b906-2c8909621838",
   "metadata": {},
   "outputs": [
    {
     "data": {
      "text/plain": [
       "<AxesSubplot:>"
      ]
     },
     "execution_count": 23,
     "metadata": {},
     "output_type": "execute_result"
    },
    {
     "data": {
      "image/png": "[encoded data removed]",
      "text/plain": [
       "<Figure size 1500x1000 with 2 Axes>"
      ]
     },
     "metadata": {},
     "output_type": "display_data"
    }
   ],
   "source": [
    "# Establish size of figure.\n",
    "plt.figure(figsize=(15,10))\n",
    "\n",
    "# Get correlation of variables.\n",
    "corr = df.corr()\n",
    "\n",
    "# Set up mask to be \"True\" in the upper triangle.\n",
    "mask = np.zeros_like(corr)\n",
    "mask[np.triu_indices_from(mask)] = True\n",
    "\n",
    "# Plot our correlation heatmap, while masking the upper triangle to be white.\n",
    "sns.heatmap(corr, mask = mask, \n",
    "            square = True, annot = True,\n",
    "           cmap = 'mako')"
   ]
  },
  {
   "cell_type": "markdown",
   "id": "69b5b0a0-615e-4c43-ae0e-208cad43f497",
   "metadata": {},
   "source": [
    "### Discuss heat map"
   ]
  },
  {
   "cell_type": "code",
   "execution_count": 24,
   "id": "0b0fef74-b8fc-4a7d-a375-e327927020fd",
   "metadata": {},
   "outputs": [
    {
     "data": {
      "image/png": "[encoded data removed]",
      "text/plain": [
       "<Figure size 1500x800 with 1 Axes>"
      ]
     },
     "metadata": {},
     "output_type": "display_data"
    }
   ],
   "source": [
    "plt.figure(figsize=(15,8))\n",
    "d = df.corr()['is_fraud'][:-1].abs().sort_values().plot(kind='bar',\n",
    "                                                              title='Most important features')\n",
    "plt.show()"
   ]
  },
  {
   "cell_type": "markdown",
   "id": "559ceeb5-d465-45ea-a420-574e4782213d",
   "metadata": {},
   "source": [
    "### Feature distribution"
   ]
  },
  {
   "cell_type": "code",
   "execution_count": 26,
   "id": "f651575e-f837-47f7-ae76-506e71d8fb47",
   "metadata": {},
   "outputs": [],
   "source": [
    "import numpy as np\n",
    "import pandas as pd\n",
    "import matplotlib.pyplot as plt\n",
    "\n",
    "def distribution_plots(df, columns):\n",
    "    n = len(columns)\n",
    "    if n>11:\n",
    "        print(\"Error: Number of columns exceeds limit of 9 columns\")\n",
    "        return\n",
    "    rows, cols = np.int(np.ceil(n/3)), 3\n",
    "    fig, axes = plt.subplots(nrows=rows, ncols=cols, figsize=(13,8))\n",
    "    for i, column in enumerate(columns):\n",
    "        ax = axes.flat[i]\n",
    "        ax.hist(df[column], bins=60, linewidth=0.5, edgecolor=\"white\")\n",
    "        ax.set_title(f\"{column} distribution\")\n",
    "    plt.tight_layout()\n",
    "    plt.show()\n"
   ]
  },
  {
   "cell_type": "code",
   "execution_count": 27,
   "id": "c86cc39e-2ee4-4adb-9688-bb07b2110c1e",
   "metadata": {},
   "outputs": [
    {
     "data": {
      "image/png": "[encoded data removed]",
      "text/plain": [
       "<Figure size 1300x800 with 12 Axes>"
      ]
     },
     "metadata": {},
     "output_type": "display_data"
    }
   ],
   "source": [
    "columns = list(df.columns)\n",
    "distribution_plots(df, num_cols)"
   ]
  },
  {
   "cell_type": "markdown",
   "id": "27d8d93b-0e80-42eb-879e-19f2013f46bf",
   "metadata": {},
   "source": [
    "### Outlier analysis: TBD"
   ]
  },
  {
   "cell_type": "code",
   "execution_count": 28,
   "id": "39ad4b82-2ff3-41e9-8e1b-10cb863f9f17",
   "metadata": {},
   "outputs": [
    {
     "data": {
      "text/plain": [
       "Index(['ssn', 'cc_num', 'first', 'last', 'gender', 'street', 'city', 'state',\n",
       "       'zip', 'lat', 'long', 'city_pop', 'job', 'dob', 'acct_num', 'profile',\n",
       "       'trans_num', 'trans_date', 'trans_time', 'unix_time', 'category', 'amt',\n",
       "       'is_fraud', 'merchant', 'merch_lat', 'merch_long'],\n",
       "      dtype='object')"
      ]
     },
     "execution_count": 28,
     "metadata": {},
     "output_type": "execute_result"
    }
   ],
   "source": [
    "df.columns"
   ]
  },
  {
   "cell_type": "code",
   "execution_count": 31,
   "id": "b39d259e-f8ed-4911-a7e5-cc043f6a37fd",
   "metadata": {},
   "outputs": [],
   "source": [
    "# def find_outliers(df, columns):\n",
    "#     outliers_count = 0\n",
    "#     outlier_indices = []\n",
    "#     for col in columns:\n",
    "#         q1 = df[col].quantile(0.25)\n",
    "#         q3 = df[col].quantile(0.75)\n",
    "#         iqr = q3 - q1\n",
    "#         lower_bound = q1 - (1.5 * iqr)\n",
    "#         upper_bound = q3 + (1.5 * iqr)\n",
    "#         outlier_col = df[(df[col] < lower_bound) | (df[col] > upper_bound)]\n",
    "#         outlier_indices.extend(outlier_col.index)\n",
    "#         outliers_count += outlier_col.shape[0]\n",
    "#     outlier_indices = list(set(outlier_indices))\n",
    "#     return outliers_count, outlier_indices\n",
    "\n",
    "# outliers_count, outlier_indices = find_outliers(df, num_cols)\n",
    "# print(outliers_count)\n",
    "# outliers_count/df_train.shape[0]"
   ]
  },
  {
   "cell_type": "code",
   "execution_count": null,
   "id": "c5350ad9-b77d-40a9-bf56-12822af484e2",
   "metadata": {},
   "outputs": [],
   "source": []
  },
  {
   "cell_type": "markdown",
   "id": "0d8bbac7-cb97-4939-81ed-2b922520d085",
   "metadata": {},
   "source": [
    "## Examine relationships of different featuers"
   ]
  },
  {
   "cell_type": "code",
   "execution_count": 30,
   "id": "bba45e28-8c80-452a-8796-6c9a737b3d81",
   "metadata": {},
   "outputs": [],
   "source": [
    "def count_fraud_values(df, column):\n",
    "    fraud_df = df[df['is_fraud'] == 1]\n",
    "    value_counts = fraud_df[column].value_counts()\n",
    "    return value_counts"
   ]
  },
  {
   "cell_type": "code",
   "execution_count": 31,
   "id": "76c48bbc-a3fd-468e-a9d2-5e793b3fa404",
   "metadata": {},
   "outputs": [
    {
     "data": {
      "text/plain": [
       "M    7315\n",
       "F    6991\n",
       "Name: gender, dtype: int64"
      ]
     },
     "execution_count": 31,
     "metadata": {},
     "output_type": "execute_result"
    }
   ],
   "source": [
    "count_fraud_values(df, 'gender')"
   ]
  },
  {
   "cell_type": "code",
   "execution_count": null,
   "id": "be9c8f38-93aa-4f94-82b1-018ec4a3a14d",
   "metadata": {},
   "outputs": [],
   "source": [
    "# def fraud_distribution(df, column):\n",
    "#     \"\"\"\n",
    "#     Input dataframe and column of interest. The function returns distribution information \n",
    "#     the column of interest.\n",
    "#     \"\"\"\n",
    "#     df_col = df[[column,'trans_num']].groupby([column]).count().reset_index()\n",
    "#     df_col.columns = [column, column+'_count']\n",
    "\n",
    "#     #creating the column-fraud distribution\n",
    "#     df_fraud_col = df[[column, 'trans_num', 'is_fraud']].groupby([column,'is_fraud']).count().reset_index()\n",
    "#     df_fraud_col.columns = [column, 'is_fraud', 'Transaction count']\n",
    "\n",
    "#     df_fraud_col = df_fraud_col.merge(df_col[[column, column+'_count']], how='inner', on=column)\n",
    "\n",
    "#     df_fraud_col['Transaction percentage'] = (df_fraud_col['Transaction count']/df_fraud_col[column+'_count'])*100\n",
    "\n",
    "#     return df_fraud_col\n",
    "\n",
    "# df_gender = df_train.groupby('gender')['trans_num'].agg('count').reset_index()\n",
    "# df_gender.columns = ['gender', 'count']\n",
    "\n",
    "\n",
    "# df_fraud_gender = df_train.groupby(['gender','is_fraud'])['trans_num'].agg('count').reset_index()\n",
    "# df_fraud_gender.columns = ['gender', 'is_fraud', 'transaction_count']\n",
    "\n",
    "# df_fraud_gender = df_fraud_gender.merge(df_gender[['gender', 'count']], how='inner', on='gender')\n",
    "\n",
    "# df_fraud_gender['transaction_percent'] = (df_fraud_gender['transaction_count']/df_fraud_gender['count'])*100"
   ]
  },
  {
   "cell_type": "code",
   "execution_count": 32,
   "id": "8bb14788-c620-43cb-be1d-0adc07a13504",
   "metadata": {},
   "outputs": [],
   "source": [
    "def fraud_distribution_v3(df, column):\n",
    "    \"\"\"\n",
    "    Input dataframe and column of interest. The function returns distribution information \n",
    "    the column of interest.\n",
    "    \"\"\"\n",
    "    df_col = df[[column,'trans_num']].groupby([column]).agg({'trans_num':'count'}).reset_index()\n",
    "    df_col.columns = [column, column+'_count']\n",
    "\n",
    "    df_fraud_col = df[[column, 'trans_num',\n",
    "                       'is_fraud']].groupby([column, \n",
    "                                             'is_fraud']).agg({'trans_num':'count'}).reset_index()\n",
    "    df_fraud_col.columns = [column, 'is_fraud', 'transaction_count']\n",
    "    df_fraud_col = df_fraud_col.merge(df_col, how='inner', on=column)\n",
    "    df_fraud_col['transaction_percent'] = round(\\\n",
    "                                        (df_fraud_col['transaction_count']/df_fraud_col[column+'_count'])*100, 2)\n",
    "    df_fraud_col = df_fraud_col.reindex(columns=[column,'transaction_count', column+'_count', 'transaction_percent', 'is_fraud'])\n",
    "    return df_fraud_col"
   ]
  },
  {
   "cell_type": "code",
   "execution_count": 33,
   "id": "55fd40ef-f9a1-4f2d-93d3-6597b7245bd9",
   "metadata": {},
   "outputs": [
    {
     "data": {
      "text/html": [
       "<div>\n",
       "<style scoped>\n",
       "    .dataframe tbody tr th:only-of-type {\n",
       "        vertical-align: middle;\n",
       "    }\n",
       "\n",
       "    .dataframe tbody tr th {\n",
       "        vertical-align: top;\n",
       "    }\n",
       "\n",
       "    .dataframe thead th {\n",
       "        text-align: right;\n",
       "    }\n",
       "</style>\n",
       "<table border=\"1\" class=\"dataframe\">\n",
       "  <thead>\n",
       "    <tr style=\"text-align: right;\">\n",
       "      <th></th>\n",
       "      <th>gender</th>\n",
       "      <th>transaction_count</th>\n",
       "      <th>gender_count</th>\n",
       "      <th>transaction_percent</th>\n",
       "      <th>is_fraud</th>\n",
       "    </tr>\n",
       "  </thead>\n",
       "  <tbody>\n",
       "    <tr>\n",
       "      <th>0</th>\n",
       "      <td>F</td>\n",
       "      <td>1315303</td>\n",
       "      <td>1322294</td>\n",
       "      <td>99.47</td>\n",
       "      <td>0</td>\n",
       "    </tr>\n",
       "    <tr>\n",
       "      <th>1</th>\n",
       "      <td>F</td>\n",
       "      <td>6991</td>\n",
       "      <td>1322294</td>\n",
       "      <td>0.53</td>\n",
       "      <td>1</td>\n",
       "    </tr>\n",
       "    <tr>\n",
       "      <th>2</th>\n",
       "      <td>M</td>\n",
       "      <td>1270845</td>\n",
       "      <td>1278160</td>\n",
       "      <td>99.43</td>\n",
       "      <td>0</td>\n",
       "    </tr>\n",
       "    <tr>\n",
       "      <th>3</th>\n",
       "      <td>M</td>\n",
       "      <td>7315</td>\n",
       "      <td>1278160</td>\n",
       "      <td>0.57</td>\n",
       "      <td>1</td>\n",
       "    </tr>\n",
       "  </tbody>\n",
       "</table>\n",
       "</div>"
      ],
      "text/plain": [
       "  gender  transaction_count  gender_count  transaction_percent  is_fraud\n",
       "0      F            1315303       1322294                99.47         0\n",
       "1      F               6991       1322294                 0.53         1\n",
       "2      M            1270845       1278160                99.43         0\n",
       "3      M               7315       1278160                 0.57         1"
      ]
     },
     "execution_count": 33,
     "metadata": {},
     "output_type": "execute_result"
    }
   ],
   "source": [
    "fraud_distribution_v3(df, 'gender')"
   ]
  },
  {
   "cell_type": "markdown",
   "id": "b0d538fa-1e3b-4028-b823-ed515e6a1cef",
   "metadata": {},
   "source": [
    "We observe approximately the same number of fraud transaction for both genders. Hwoever, the proprtion of males commiting fraud is higher than females."
   ]
  },
  {
   "cell_type": "code",
   "execution_count": 34,
   "id": "47d906e5-5a52-41df-947e-fe97e0fb2462",
   "metadata": {},
   "outputs": [
    {
     "data": {
      "text/plain": [
       "Index(['ssn', 'cc_num', 'first', 'last', 'gender', 'street', 'city', 'state',\n",
       "       'zip', 'lat', 'long', 'city_pop', 'job', 'dob', 'acct_num', 'profile',\n",
       "       'trans_num', 'trans_date', 'trans_time', 'unix_time', 'category', 'amt',\n",
       "       'is_fraud', 'merchant', 'merch_lat', 'merch_long'],\n",
       "      dtype='object')"
      ]
     },
     "execution_count": 34,
     "metadata": {},
     "output_type": "execute_result"
    }
   ],
   "source": [
    "df.columns"
   ]
  },
  {
   "cell_type": "code",
   "execution_count": 35,
   "id": "d7477bde-f062-42f8-8bff-08b605164bf4",
   "metadata": {},
   "outputs": [
    {
     "data": {
      "text/html": [
       "<div>\n",
       "<style scoped>\n",
       "    .dataframe tbody tr th:only-of-type {\n",
       "        vertical-align: middle;\n",
       "    }\n",
       "\n",
       "    .dataframe tbody tr th {\n",
       "        vertical-align: top;\n",
       "    }\n",
       "\n",
       "    .dataframe thead th {\n",
       "        text-align: right;\n",
       "    }\n",
       "</style>\n",
       "<table border=\"1\" class=\"dataframe\">\n",
       "  <thead>\n",
       "    <tr style=\"text-align: right;\">\n",
       "      <th></th>\n",
       "      <th>state</th>\n",
       "      <th>transaction_count</th>\n",
       "      <th>state_count</th>\n",
       "      <th>transaction_percent</th>\n",
       "      <th>is_fraud</th>\n",
       "    </tr>\n",
       "  </thead>\n",
       "  <tbody>\n",
       "    <tr>\n",
       "      <th>101</th>\n",
       "      <td>WY</td>\n",
       "      <td>25</td>\n",
       "      <td>1480</td>\n",
       "      <td>1.69</td>\n",
       "      <td>1</td>\n",
       "    </tr>\n",
       "    <tr>\n",
       "      <th>65</th>\n",
       "      <td>NM</td>\n",
       "      <td>78</td>\n",
       "      <td>5900</td>\n",
       "      <td>1.32</td>\n",
       "      <td>1</td>\n",
       "    </tr>\n",
       "    <tr>\n",
       "      <th>17</th>\n",
       "      <td>DE</td>\n",
       "      <td>38</td>\n",
       "      <td>5131</td>\n",
       "      <td>0.74</td>\n",
       "      <td>1</td>\n",
       "    </tr>\n",
       "    <tr>\n",
       "      <th>97</th>\n",
       "      <td>WI</td>\n",
       "      <td>352</td>\n",
       "      <td>49778</td>\n",
       "      <td>0.71</td>\n",
       "      <td>1</td>\n",
       "    </tr>\n",
       "    <tr>\n",
       "      <th>3</th>\n",
       "      <td>AL</td>\n",
       "      <td>198</td>\n",
       "      <td>28582</td>\n",
       "      <td>0.69</td>\n",
       "      <td>1</td>\n",
       "    </tr>\n",
       "    <tr>\n",
       "      <th>75</th>\n",
       "      <td>OR</td>\n",
       "      <td>162</td>\n",
       "      <td>23440</td>\n",
       "      <td>0.69</td>\n",
       "      <td>1</td>\n",
       "    </tr>\n",
       "    <tr>\n",
       "      <th>39</th>\n",
       "      <td>MA</td>\n",
       "      <td>297</td>\n",
       "      <td>43935</td>\n",
       "      <td>0.68</td>\n",
       "      <td>1</td>\n",
       "    </tr>\n",
       "    <tr>\n",
       "      <th>89</th>\n",
       "      <td>UT</td>\n",
       "      <td>173</td>\n",
       "      <td>25611</td>\n",
       "      <td>0.68</td>\n",
       "      <td>1</td>\n",
       "    </tr>\n",
       "    <tr>\n",
       "      <th>41</th>\n",
       "      <td>MD</td>\n",
       "      <td>172</td>\n",
       "      <td>25627</td>\n",
       "      <td>0.67</td>\n",
       "      <td>1</td>\n",
       "    </tr>\n",
       "    <tr>\n",
       "      <th>91</th>\n",
       "      <td>VA</td>\n",
       "      <td>284</td>\n",
       "      <td>43889</td>\n",
       "      <td>0.65</td>\n",
       "      <td>1</td>\n",
       "    </tr>\n",
       "  </tbody>\n",
       "</table>\n",
       "</div>"
      ],
      "text/plain": [
       "    state  transaction_count  state_count  transaction_percent  is_fraud\n",
       "101    WY                 25         1480                 1.69         1\n",
       "65     NM                 78         5900                 1.32         1\n",
       "17     DE                 38         5131                 0.74         1\n",
       "97     WI                352        49778                 0.71         1\n",
       "3      AL                198        28582                 0.69         1\n",
       "75     OR                162        23440                 0.69         1\n",
       "39     MA                297        43935                 0.68         1\n",
       "89     UT                173        25611                 0.68         1\n",
       "41     MD                172        25627                 0.67         1\n",
       "91     VA                284        43889                 0.65         1"
      ]
     },
     "execution_count": 35,
     "metadata": {},
     "output_type": "execute_result"
    }
   ],
   "source": [
    "df_fraud_state = fraud_distribution_v3(df, 'state')\n",
    "df_fraud_state[df_fraud_state['is_fraud'] == 1].sort_values(by='transaction_percent',\n",
    "                                                            ascending=False).head(10)"
   ]
  },
  {
   "cell_type": "markdown",
   "id": "f84409d9-b14a-4525-9e79-eeda063e0f57",
   "metadata": {},
   "source": [
    "Discussion here based on new data"
   ]
  },
  {
   "cell_type": "code",
   "execution_count": 36,
   "id": "c4c7ebca-cd31-48c5-b2ff-740bc114f605",
   "metadata": {},
   "outputs": [
    {
     "data": {
      "text/html": [
       "<div>\n",
       "<style scoped>\n",
       "    .dataframe tbody tr th:only-of-type {\n",
       "        vertical-align: middle;\n",
       "    }\n",
       "\n",
       "    .dataframe tbody tr th {\n",
       "        vertical-align: top;\n",
       "    }\n",
       "\n",
       "    .dataframe thead th {\n",
       "        text-align: right;\n",
       "    }\n",
       "</style>\n",
       "<table border=\"1\" class=\"dataframe\">\n",
       "  <thead>\n",
       "    <tr style=\"text-align: right;\">\n",
       "      <th></th>\n",
       "      <th>category</th>\n",
       "      <th>transaction_count</th>\n",
       "      <th>category_count</th>\n",
       "      <th>transaction_percent</th>\n",
       "      <th>is_fraud</th>\n",
       "    </tr>\n",
       "  </thead>\n",
       "  <tbody>\n",
       "    <tr>\n",
       "      <th>23</th>\n",
       "      <td>shopping_net</td>\n",
       "      <td>3299</td>\n",
       "      <td>191216</td>\n",
       "      <td>1.73</td>\n",
       "      <td>1</td>\n",
       "    </tr>\n",
       "    <tr>\n",
       "      <th>17</th>\n",
       "      <td>misc_net</td>\n",
       "      <td>1871</td>\n",
       "      <td>118834</td>\n",
       "      <td>1.57</td>\n",
       "      <td>1</td>\n",
       "    </tr>\n",
       "    <tr>\n",
       "      <th>9</th>\n",
       "      <td>grocery_pos</td>\n",
       "      <td>3357</td>\n",
       "      <td>243242</td>\n",
       "      <td>1.38</td>\n",
       "      <td>1</td>\n",
       "    </tr>\n",
       "    <tr>\n",
       "      <th>25</th>\n",
       "      <td>shopping_pos</td>\n",
       "      <td>1645</td>\n",
       "      <td>257109</td>\n",
       "      <td>0.64</td>\n",
       "      <td>1</td>\n",
       "    </tr>\n",
       "    <tr>\n",
       "      <th>5</th>\n",
       "      <td>gas_transport</td>\n",
       "      <td>1158</td>\n",
       "      <td>225837</td>\n",
       "      <td>0.51</td>\n",
       "      <td>1</td>\n",
       "    </tr>\n",
       "    <tr>\n",
       "      <th>27</th>\n",
       "      <td>travel</td>\n",
       "      <td>242</td>\n",
       "      <td>82890</td>\n",
       "      <td>0.29</td>\n",
       "      <td>1</td>\n",
       "    </tr>\n",
       "    <tr>\n",
       "      <th>19</th>\n",
       "      <td>misc_pos</td>\n",
       "      <td>452</td>\n",
       "      <td>170388</td>\n",
       "      <td>0.27</td>\n",
       "      <td>1</td>\n",
       "    </tr>\n",
       "    <tr>\n",
       "      <th>1</th>\n",
       "      <td>entertainment</td>\n",
       "      <td>412</td>\n",
       "      <td>189692</td>\n",
       "      <td>0.22</td>\n",
       "      <td>1</td>\n",
       "    </tr>\n",
       "    <tr>\n",
       "      <th>7</th>\n",
       "      <td>grocery_net</td>\n",
       "      <td>231</td>\n",
       "      <td>109691</td>\n",
       "      <td>0.21</td>\n",
       "      <td>1</td>\n",
       "    </tr>\n",
       "    <tr>\n",
       "      <th>21</th>\n",
       "      <td>personal_care</td>\n",
       "      <td>355</td>\n",
       "      <td>183951</td>\n",
       "      <td>0.19</td>\n",
       "      <td>1</td>\n",
       "    </tr>\n",
       "  </tbody>\n",
       "</table>\n",
       "</div>"
      ],
      "text/plain": [
       "         category  transaction_count  category_count  transaction_percent  \\\n",
       "23   shopping_net               3299          191216                 1.73   \n",
       "17       misc_net               1871          118834                 1.57   \n",
       "9     grocery_pos               3357          243242                 1.38   \n",
       "25   shopping_pos               1645          257109                 0.64   \n",
       "5   gas_transport               1158          225837                 0.51   \n",
       "27         travel                242           82890                 0.29   \n",
       "19       misc_pos                452          170388                 0.27   \n",
       "1   entertainment                412          189692                 0.22   \n",
       "7     grocery_net                231          109691                 0.21   \n",
       "21  personal_care                355          183951                 0.19   \n",
       "\n",
       "    is_fraud  \n",
       "23         1  \n",
       "17         1  \n",
       "9          1  \n",
       "25         1  \n",
       "5          1  \n",
       "27         1  \n",
       "19         1  \n",
       "1          1  \n",
       "7          1  \n",
       "21         1  "
      ]
     },
     "execution_count": 36,
     "metadata": {},
     "output_type": "execute_result"
    }
   ],
   "source": [
    "df_fraud_category = fraud_distribution_v3(df, 'category')\n",
    "df_fraud_category[df_fraud_category['is_fraud'] == 1].sort_values(by='transaction_percent',\n",
    "                                                            ascending=False).head(10)"
   ]
  },
  {
   "cell_type": "markdown",
   "id": "b9a637dd-fee6-44f2-93dc-a91041f9f9fb",
   "metadata": {},
   "source": [
    "Discussion here based on new data"
   ]
  },
  {
   "cell_type": "code",
   "execution_count": 37,
   "id": "8fbec8e5-ff71-48fd-9932-61872b6f1e9a",
   "metadata": {},
   "outputs": [
    {
     "data": {
      "text/html": [
       "<div>\n",
       "<style scoped>\n",
       "    .dataframe tbody tr th:only-of-type {\n",
       "        vertical-align: middle;\n",
       "    }\n",
       "\n",
       "    .dataframe tbody tr th {\n",
       "        vertical-align: top;\n",
       "    }\n",
       "\n",
       "    .dataframe thead th {\n",
       "        text-align: right;\n",
       "    }\n",
       "</style>\n",
       "<table border=\"1\" class=\"dataframe\">\n",
       "  <thead>\n",
       "    <tr style=\"text-align: right;\">\n",
       "      <th></th>\n",
       "      <th>merchant</th>\n",
       "      <th>transaction_count</th>\n",
       "      <th>merchant_count</th>\n",
       "      <th>transaction_percent</th>\n",
       "      <th>is_fraud</th>\n",
       "    </tr>\n",
       "  </thead>\n",
       "  <tbody>\n",
       "    <tr>\n",
       "      <th>471</th>\n",
       "      <td>fraud_Hayes, Marquardt and Dibbert</td>\n",
       "      <td>58</td>\n",
       "      <td>2394</td>\n",
       "      <td>2.42</td>\n",
       "      <td>1</td>\n",
       "    </tr>\n",
       "    <tr>\n",
       "      <th>387</th>\n",
       "      <td>fraud_Gleason-Macejkovic</td>\n",
       "      <td>87</td>\n",
       "      <td>3867</td>\n",
       "      <td>2.25</td>\n",
       "      <td>1</td>\n",
       "    </tr>\n",
       "    <tr>\n",
       "      <th>345</th>\n",
       "      <td>fraud_Ferry, Lynch and Kautzer</td>\n",
       "      <td>54</td>\n",
       "      <td>2431</td>\n",
       "      <td>2.22</td>\n",
       "      <td>1</td>\n",
       "    </tr>\n",
       "    <tr>\n",
       "      <th>543</th>\n",
       "      <td>fraud_Huel-Langworth</td>\n",
       "      <td>51</td>\n",
       "      <td>2357</td>\n",
       "      <td>2.16</td>\n",
       "      <td>1</td>\n",
       "    </tr>\n",
       "    <tr>\n",
       "      <th>145</th>\n",
       "      <td>fraud_Boyer-Reichert</td>\n",
       "      <td>82</td>\n",
       "      <td>3849</td>\n",
       "      <td>2.13</td>\n",
       "      <td>1</td>\n",
       "    </tr>\n",
       "    <tr>\n",
       "      <th>785</th>\n",
       "      <td>fraud_Little, Gutmann and Lynch</td>\n",
       "      <td>84</td>\n",
       "      <td>3957</td>\n",
       "      <td>2.12</td>\n",
       "      <td>1</td>\n",
       "    </tr>\n",
       "    <tr>\n",
       "      <th>1247</th>\n",
       "      <td>fraud_Tillman, Fritsch and Schmitt</td>\n",
       "      <td>50</td>\n",
       "      <td>2378</td>\n",
       "      <td>2.10</td>\n",
       "      <td>1</td>\n",
       "    </tr>\n",
       "    <tr>\n",
       "      <th>513</th>\n",
       "      <td>fraud_Hills-Witting</td>\n",
       "      <td>83</td>\n",
       "      <td>3999</td>\n",
       "      <td>2.08</td>\n",
       "      <td>1</td>\n",
       "    </tr>\n",
       "    <tr>\n",
       "      <th>1121</th>\n",
       "      <td>fraud_Schmitt Ltd</td>\n",
       "      <td>49</td>\n",
       "      <td>2367</td>\n",
       "      <td>2.07</td>\n",
       "      <td>1</td>\n",
       "    </tr>\n",
       "    <tr>\n",
       "      <th>73</th>\n",
       "      <td>fraud_Bednar Group</td>\n",
       "      <td>49</td>\n",
       "      <td>2402</td>\n",
       "      <td>2.04</td>\n",
       "      <td>1</td>\n",
       "    </tr>\n",
       "  </tbody>\n",
       "</table>\n",
       "</div>"
      ],
      "text/plain": [
       "                                merchant  transaction_count  merchant_count  \\\n",
       "471   fraud_Hayes, Marquardt and Dibbert                 58            2394   \n",
       "387             fraud_Gleason-Macejkovic                 87            3867   \n",
       "345       fraud_Ferry, Lynch and Kautzer                 54            2431   \n",
       "543                 fraud_Huel-Langworth                 51            2357   \n",
       "145                 fraud_Boyer-Reichert                 82            3849   \n",
       "785      fraud_Little, Gutmann and Lynch                 84            3957   \n",
       "1247  fraud_Tillman, Fritsch and Schmitt                 50            2378   \n",
       "513                  fraud_Hills-Witting                 83            3999   \n",
       "1121                   fraud_Schmitt Ltd                 49            2367   \n",
       "73                    fraud_Bednar Group                 49            2402   \n",
       "\n",
       "      transaction_percent  is_fraud  \n",
       "471                  2.42         1  \n",
       "387                  2.25         1  \n",
       "345                  2.22         1  \n",
       "543                  2.16         1  \n",
       "145                  2.13         1  \n",
       "785                  2.12         1  \n",
       "1247                 2.10         1  \n",
       "513                  2.08         1  \n",
       "1121                 2.07         1  \n",
       "73                   2.04         1  "
      ]
     },
     "execution_count": 37,
     "metadata": {},
     "output_type": "execute_result"
    }
   ],
   "source": [
    "df_fraud_merchant = fraud_distribution_v3(df, 'merchant')\n",
    "df_fraud_merchant[df_fraud_merchant['is_fraud'] == 1].sort_values(by='transaction_percent',\n",
    "                                                            ascending=False).head(10)"
   ]
  },
  {
   "cell_type": "markdown",
   "id": "5449513c-0cba-4e1a-a0d9-5b8267f55115",
   "metadata": {},
   "source": [
    "Discussion here based on new data"
   ]
  },
  {
   "cell_type": "code",
   "execution_count": 38,
   "id": "194da13c-ab2a-4d29-b831-0426dde2bfb0",
   "metadata": {},
   "outputs": [
    {
     "data": {
      "text/html": [
       "<div>\n",
       "<style scoped>\n",
       "    .dataframe tbody tr th:only-of-type {\n",
       "        vertical-align: middle;\n",
       "    }\n",
       "\n",
       "    .dataframe tbody tr th {\n",
       "        vertical-align: top;\n",
       "    }\n",
       "\n",
       "    .dataframe thead th {\n",
       "        text-align: right;\n",
       "    }\n",
       "</style>\n",
       "<table border=\"1\" class=\"dataframe\">\n",
       "  <thead>\n",
       "    <tr style=\"text-align: right;\">\n",
       "      <th></th>\n",
       "      <th>job</th>\n",
       "      <th>transaction_count</th>\n",
       "      <th>job_count</th>\n",
       "      <th>transaction_percent</th>\n",
       "      <th>is_fraud</th>\n",
       "    </tr>\n",
       "  </thead>\n",
       "  <tbody>\n",
       "    <tr>\n",
       "      <th>644</th>\n",
       "      <td>Medical illustrator</td>\n",
       "      <td>12</td>\n",
       "      <td>12</td>\n",
       "      <td>100.0</td>\n",
       "      <td>1</td>\n",
       "    </tr>\n",
       "    <tr>\n",
       "      <th>240</th>\n",
       "      <td>Conference centre manager</td>\n",
       "      <td>16</td>\n",
       "      <td>16</td>\n",
       "      <td>100.0</td>\n",
       "      <td>1</td>\n",
       "    </tr>\n",
       "    <tr>\n",
       "      <th>852</th>\n",
       "      <td>Radiation protection practitioner</td>\n",
       "      <td>11</td>\n",
       "      <td>11</td>\n",
       "      <td>100.0</td>\n",
       "      <td>1</td>\n",
       "    </tr>\n",
       "    <tr>\n",
       "      <th>1031</th>\n",
       "      <td>Technical brewer</td>\n",
       "      <td>12</td>\n",
       "      <td>12</td>\n",
       "      <td>100.0</td>\n",
       "      <td>1</td>\n",
       "    </tr>\n",
       "    <tr>\n",
       "      <th>738</th>\n",
       "      <td>Pension scheme manager</td>\n",
       "      <td>8</td>\n",
       "      <td>8</td>\n",
       "      <td>100.0</td>\n",
       "      <td>1</td>\n",
       "    </tr>\n",
       "    <tr>\n",
       "      <th>673</th>\n",
       "      <td>Museum/gallery conservator</td>\n",
       "      <td>7</td>\n",
       "      <td>7</td>\n",
       "      <td>100.0</td>\n",
       "      <td>1</td>\n",
       "    </tr>\n",
       "    <tr>\n",
       "      <th>1046</th>\n",
       "      <td>Therapeutic radiographer</td>\n",
       "      <td>9</td>\n",
       "      <td>9</td>\n",
       "      <td>100.0</td>\n",
       "      <td>1</td>\n",
       "    </tr>\n",
       "    <tr>\n",
       "      <th>741</th>\n",
       "      <td>Personnel officer</td>\n",
       "      <td>12</td>\n",
       "      <td>12</td>\n",
       "      <td>100.0</td>\n",
       "      <td>1</td>\n",
       "    </tr>\n",
       "    <tr>\n",
       "      <th>643</th>\n",
       "      <td>Mechanical engineer</td>\n",
       "      <td>8</td>\n",
       "      <td>8</td>\n",
       "      <td>100.0</td>\n",
       "      <td>1</td>\n",
       "    </tr>\n",
       "    <tr>\n",
       "      <th>137</th>\n",
       "      <td>Buyer, retail</td>\n",
       "      <td>10</td>\n",
       "      <td>10</td>\n",
       "      <td>100.0</td>\n",
       "      <td>1</td>\n",
       "    </tr>\n",
       "  </tbody>\n",
       "</table>\n",
       "</div>"
      ],
      "text/plain": [
       "                                    job  transaction_count  job_count  \\\n",
       "644                 Medical illustrator                 12         12   \n",
       "240           Conference centre manager                 16         16   \n",
       "852   Radiation protection practitioner                 11         11   \n",
       "1031                   Technical brewer                 12         12   \n",
       "738              Pension scheme manager                  8          8   \n",
       "673          Museum/gallery conservator                  7          7   \n",
       "1046           Therapeutic radiographer                  9          9   \n",
       "741                   Personnel officer                 12         12   \n",
       "643                 Mechanical engineer                  8          8   \n",
       "137                       Buyer, retail                 10         10   \n",
       "\n",
       "      transaction_percent  is_fraud  \n",
       "644                 100.0         1  \n",
       "240                 100.0         1  \n",
       "852                 100.0         1  \n",
       "1031                100.0         1  \n",
       "738                 100.0         1  \n",
       "673                 100.0         1  \n",
       "1046                100.0         1  \n",
       "741                 100.0         1  \n",
       "643                 100.0         1  \n",
       "137                 100.0         1  "
      ]
     },
     "execution_count": 38,
     "metadata": {},
     "output_type": "execute_result"
    }
   ],
   "source": [
    "df_fraud_job = fraud_distribution_v3(df, 'job')\n",
    "df_fraud_job[df_fraud_job['is_fraud'] == 1].sort_values(by='transaction_percent',\n",
    "                                                            ascending=False).head(10)"
   ]
  },
  {
   "cell_type": "markdown",
   "id": "0f833da8-a9f4-4077-ba90-ecd47aae8e4f",
   "metadata": {},
   "source": [
    "Discussion here based on new data"
   ]
  },
  {
   "cell_type": "code",
   "execution_count": null,
   "id": "e3825f71-ad33-46fd-a0a4-92de15275577",
   "metadata": {},
   "outputs": [],
   "source": []
  },
  {
   "cell_type": "code",
   "execution_count": null,
   "id": "5ed54c27-37e7-42da-917d-fa4db3fcaead",
   "metadata": {},
   "outputs": [],
   "source": []
  },
  {
   "cell_type": "code",
   "execution_count": null,
   "id": "68036b9d-9712-4922-8255-b026487ee97b",
   "metadata": {},
   "outputs": [],
   "source": []
  }
 ],
 "metadata": {
  "kernelspec": {
   "display_name": "Python 3 (ipykernel)",
   "language": "python",
   "name": "python3"
  },
  "language_info": {
   "codemirror_mode": {
    "name": "ipython",
    "version": 3
   },
   "file_extension": ".py",
   "mimetype": "text/x-python",
   "name": "python",
   "nbconvert_exporter": "python",
   "pygments_lexer": "ipython3",
   "version": "3.9.13"
  }
 },
 "nbformat": 4,
 "nbformat_minor": 5
}
