{
 "cells": [
  {
   "cell_type": "markdown",
   "id": "9a9ed529-e2db-4faf-b71d-683d1552b2bb",
   "metadata": {},
   "source": [
    "<img src=\"http://imgur.com/1ZcRyrc.png\" style=\"float: left; margin: 15px; height: 80px\">\n",
    "\n",
    "# Project 4 Fraud Analysis"
   ]
  },
  {
   "cell_type": "markdown",
   "id": "8cab40b1-4dc4-482f-844f-f7fa029e76f3",
   "metadata": {},
   "source": [
    "# Problem Statement\n",
    "\n",
    "Nearly half of all Americans experienced some form of fraudulent charges in 2021, according to the security.org annual Fraud report. As society moves increasingly towards a cashless society every year, we must continue to advance our ability to detect fraud and protect consumers. Unfortunately, credit card fraud poses a significant challenge for classification algorithms as the classes are typically heavily imbalanced. For this project, we analyze simulated credit card fraud data and aim to build a model that can accurately detect fraud.\n",
    "\n",
    "To do this our project will complete the following steps:\n",
    "1) We clean the data, conduct exploratory data analysis, preprocess and engineer features for our regression model.\n",
    "2) After testing several modeling strategies, we evaluate our model assumptions and choose an approach that will lead to the most accurate performance.\n",
    "3) We present our findings to the business, highlighting our model's accuracy in predicting price and the features that will likely have the most negative impact on price. "
   ]
  },
  {
   "cell_type": "markdown",
   "id": "8dbaaf81-17f1-4ab8-abfd-47e53d65e860",
   "metadata": {},
   "source": [
    "##### Imports for model"
   ]
  },
  {
   "cell_type": "code",
   "execution_count": 1,
   "id": "789fbaa1-7c6d-4eb2-bb52-7e914788b7b0",
   "metadata": {},
   "outputs": [],
   "source": [
    "import numpy as np\n",
    "import pandas as pd \n",
    "import matplotlib.pyplot as plt\n",
    "import scipy.stats as stats\n",
    "import matplotlib\n",
    "import seaborn as sns\n",
    "\n",
    "import statsmodels.api as sm\n",
    "from statsmodels.stats.outliers_influence import variance_inflation_factor\n",
    "\n",
    "import sys\n",
    "\n",
    "if not sys.warnoptions:\n",
    "    import warnings\n",
    "    warnings.simplefilter(\"ignore\")"
   ]
  },
  {
   "cell_type": "markdown",
   "id": "f48cbcd7-da83-4e84-b4a3-30b534b65327",
   "metadata": {},
   "source": [
    "##### Read in the data"
   ]
  },
  {
   "cell_type": "code",
   "execution_count": 2,
   "id": "5741432d-69bd-43d0-855d-23b1143c4225",
   "metadata": {},
   "outputs": [],
   "source": [
    "df_train = pd.read_csv('data/fraudTrain.csv')\n",
    "df_test = pd.read_csv('data/fraudTest.csv')"
   ]
  },
  {
   "cell_type": "markdown",
   "id": "3750cb68-d703-442d-92f8-1bce0e653091",
   "metadata": {},
   "source": [
    "# Data Cleaning"
   ]
  },
  {
   "cell_type": "markdown",
   "id": "926f8fcf-949e-4e79-9446-9758ddc8c421",
   "metadata": {},
   "source": [
    "##### Data cleaning will consist of the following:\n",
    "    1) visually inspecting the data and converting column names\n",
    "    2) Checking and correcting missing data\n",
    "    3) converting data to correct data types"
   ]
  },
  {
   "cell_type": "code",
   "execution_count": 3,
   "id": "3631ec7a-0ead-42cb-a015-80b5e5963898",
   "metadata": {},
   "outputs": [
    {
     "data": {
      "text/html": [
       "<div>\n",
       "<style scoped>\n",
       "    .dataframe tbody tr th:only-of-type {\n",
       "        vertical-align: middle;\n",
       "    }\n",
       "\n",
       "    .dataframe tbody tr th {\n",
       "        vertical-align: top;\n",
       "    }\n",
       "\n",
       "    .dataframe thead th {\n",
       "        text-align: right;\n",
       "    }\n",
       "</style>\n",
       "<table border=\"1\" class=\"dataframe\">\n",
       "  <thead>\n",
       "    <tr style=\"text-align: right;\">\n",
       "      <th></th>\n",
       "      <th>Unnamed: 0</th>\n",
       "      <th>trans_date_trans_time</th>\n",
       "      <th>cc_num</th>\n",
       "      <th>merchant</th>\n",
       "      <th>category</th>\n",
       "      <th>amt</th>\n",
       "      <th>first</th>\n",
       "      <th>last</th>\n",
       "      <th>gender</th>\n",
       "      <th>street</th>\n",
       "      <th>...</th>\n",
       "      <th>lat</th>\n",
       "      <th>long</th>\n",
       "      <th>city_pop</th>\n",
       "      <th>job</th>\n",
       "      <th>dob</th>\n",
       "      <th>trans_num</th>\n",
       "      <th>unix_time</th>\n",
       "      <th>merch_lat</th>\n",
       "      <th>merch_long</th>\n",
       "      <th>is_fraud</th>\n",
       "    </tr>\n",
       "  </thead>\n",
       "  <tbody>\n",
       "    <tr>\n",
       "      <th>0</th>\n",
       "      <td>0</td>\n",
       "      <td>2019-01-01 00:00:18</td>\n",
       "      <td>2703186189652095</td>\n",
       "      <td>fraud_Rippin, Kub and Mann</td>\n",
       "      <td>misc_net</td>\n",
       "      <td>4.97</td>\n",
       "      <td>Jennifer</td>\n",
       "      <td>Banks</td>\n",
       "      <td>F</td>\n",
       "      <td>561 Perry Cove</td>\n",
       "      <td>...</td>\n",
       "      <td>36.0788</td>\n",
       "      <td>-81.1781</td>\n",
       "      <td>3495</td>\n",
       "      <td>Psychologist, counselling</td>\n",
       "      <td>1988-03-09</td>\n",
       "      <td>0b242abb623afc578575680df30655b9</td>\n",
       "      <td>1325376018</td>\n",
       "      <td>36.011293</td>\n",
       "      <td>-82.048315</td>\n",
       "      <td>0</td>\n",
       "    </tr>\n",
       "    <tr>\n",
       "      <th>1</th>\n",
       "      <td>1</td>\n",
       "      <td>2019-01-01 00:00:44</td>\n",
       "      <td>630423337322</td>\n",
       "      <td>fraud_Heller, Gutmann and Zieme</td>\n",
       "      <td>grocery_pos</td>\n",
       "      <td>107.23</td>\n",
       "      <td>Stephanie</td>\n",
       "      <td>Gill</td>\n",
       "      <td>F</td>\n",
       "      <td>43039 Riley Greens Suite 393</td>\n",
       "      <td>...</td>\n",
       "      <td>48.8878</td>\n",
       "      <td>-118.2105</td>\n",
       "      <td>149</td>\n",
       "      <td>Special educational needs teacher</td>\n",
       "      <td>1978-06-21</td>\n",
       "      <td>1f76529f8574734946361c461b024d99</td>\n",
       "      <td>1325376044</td>\n",
       "      <td>49.159047</td>\n",
       "      <td>-118.186462</td>\n",
       "      <td>0</td>\n",
       "    </tr>\n",
       "    <tr>\n",
       "      <th>2</th>\n",
       "      <td>2</td>\n",
       "      <td>2019-01-01 00:00:51</td>\n",
       "      <td>38859492057661</td>\n",
       "      <td>fraud_Lind-Buckridge</td>\n",
       "      <td>entertainment</td>\n",
       "      <td>220.11</td>\n",
       "      <td>Edward</td>\n",
       "      <td>Sanchez</td>\n",
       "      <td>M</td>\n",
       "      <td>594 White Dale Suite 530</td>\n",
       "      <td>...</td>\n",
       "      <td>42.1808</td>\n",
       "      <td>-112.2620</td>\n",
       "      <td>4154</td>\n",
       "      <td>Nature conservation officer</td>\n",
       "      <td>1962-01-19</td>\n",
       "      <td>a1a22d70485983eac12b5b88dad1cf95</td>\n",
       "      <td>1325376051</td>\n",
       "      <td>43.150704</td>\n",
       "      <td>-112.154481</td>\n",
       "      <td>0</td>\n",
       "    </tr>\n",
       "    <tr>\n",
       "      <th>3</th>\n",
       "      <td>3</td>\n",
       "      <td>2019-01-01 00:01:16</td>\n",
       "      <td>3534093764340240</td>\n",
       "      <td>fraud_Kutch, Hermiston and Farrell</td>\n",
       "      <td>gas_transport</td>\n",
       "      <td>45.00</td>\n",
       "      <td>Jeremy</td>\n",
       "      <td>White</td>\n",
       "      <td>M</td>\n",
       "      <td>9443 Cynthia Court Apt. 038</td>\n",
       "      <td>...</td>\n",
       "      <td>46.2306</td>\n",
       "      <td>-112.1138</td>\n",
       "      <td>1939</td>\n",
       "      <td>Patent attorney</td>\n",
       "      <td>1967-01-12</td>\n",
       "      <td>6b849c168bdad6f867558c3793159a81</td>\n",
       "      <td>1325376076</td>\n",
       "      <td>47.034331</td>\n",
       "      <td>-112.561071</td>\n",
       "      <td>0</td>\n",
       "    </tr>\n",
       "    <tr>\n",
       "      <th>4</th>\n",
       "      <td>4</td>\n",
       "      <td>2019-01-01 00:03:06</td>\n",
       "      <td>375534208663984</td>\n",
       "      <td>fraud_Keeling-Crist</td>\n",
       "      <td>misc_pos</td>\n",
       "      <td>41.96</td>\n",
       "      <td>Tyler</td>\n",
       "      <td>Garcia</td>\n",
       "      <td>M</td>\n",
       "      <td>408 Bradley Rest</td>\n",
       "      <td>...</td>\n",
       "      <td>38.4207</td>\n",
       "      <td>-79.4629</td>\n",
       "      <td>99</td>\n",
       "      <td>Dance movement psychotherapist</td>\n",
       "      <td>1986-03-28</td>\n",
       "      <td>a41d7549acf90789359a9aa5346dcb46</td>\n",
       "      <td>1325376186</td>\n",
       "      <td>38.674999</td>\n",
       "      <td>-78.632459</td>\n",
       "      <td>0</td>\n",
       "    </tr>\n",
       "  </tbody>\n",
       "</table>\n",
       "<p>5 rows × 23 columns</p>\n",
       "</div>"
      ],
      "text/plain": [
       "   Unnamed: 0 trans_date_trans_time            cc_num  \\\n",
       "0           0   2019-01-01 00:00:18  2703186189652095   \n",
       "1           1   2019-01-01 00:00:44      630423337322   \n",
       "2           2   2019-01-01 00:00:51    38859492057661   \n",
       "3           3   2019-01-01 00:01:16  3534093764340240   \n",
       "4           4   2019-01-01 00:03:06   375534208663984   \n",
       "\n",
       "                             merchant       category     amt      first  \\\n",
       "0          fraud_Rippin, Kub and Mann       misc_net    4.97   Jennifer   \n",
       "1     fraud_Heller, Gutmann and Zieme    grocery_pos  107.23  Stephanie   \n",
       "2                fraud_Lind-Buckridge  entertainment  220.11     Edward   \n",
       "3  fraud_Kutch, Hermiston and Farrell  gas_transport   45.00     Jeremy   \n",
       "4                 fraud_Keeling-Crist       misc_pos   41.96      Tyler   \n",
       "\n",
       "      last gender                        street  ...      lat      long  \\\n",
       "0    Banks      F                561 Perry Cove  ...  36.0788  -81.1781   \n",
       "1     Gill      F  43039 Riley Greens Suite 393  ...  48.8878 -118.2105   \n",
       "2  Sanchez      M      594 White Dale Suite 530  ...  42.1808 -112.2620   \n",
       "3    White      M   9443 Cynthia Court Apt. 038  ...  46.2306 -112.1138   \n",
       "4   Garcia      M              408 Bradley Rest  ...  38.4207  -79.4629   \n",
       "\n",
       "   city_pop                                job         dob  \\\n",
       "0      3495          Psychologist, counselling  1988-03-09   \n",
       "1       149  Special educational needs teacher  1978-06-21   \n",
       "2      4154        Nature conservation officer  1962-01-19   \n",
       "3      1939                    Patent attorney  1967-01-12   \n",
       "4        99     Dance movement psychotherapist  1986-03-28   \n",
       "\n",
       "                          trans_num   unix_time  merch_lat  merch_long  \\\n",
       "0  0b242abb623afc578575680df30655b9  1325376018  36.011293  -82.048315   \n",
       "1  1f76529f8574734946361c461b024d99  1325376044  49.159047 -118.186462   \n",
       "2  a1a22d70485983eac12b5b88dad1cf95  1325376051  43.150704 -112.154481   \n",
       "3  6b849c168bdad6f867558c3793159a81  1325376076  47.034331 -112.561071   \n",
       "4  a41d7549acf90789359a9aa5346dcb46  1325376186  38.674999  -78.632459   \n",
       "\n",
       "   is_fraud  \n",
       "0         0  \n",
       "1         0  \n",
       "2         0  \n",
       "3         0  \n",
       "4         0  \n",
       "\n",
       "[5 rows x 23 columns]"
      ]
     },
     "execution_count": 3,
     "metadata": {},
     "output_type": "execute_result"
    }
   ],
   "source": [
    "df_train.head()"
   ]
  },
  {
   "cell_type": "code",
   "execution_count": 4,
   "id": "e6981e9b-e7a2-40de-85c1-bd7bbabd6d10",
   "metadata": {},
   "outputs": [
    {
     "data": {
      "text/plain": [
       "Index(['Unnamed: 0', 'trans_date_trans_time', 'cc_num', 'merchant', 'category',\n",
       "       'amt', 'first', 'last', 'gender', 'street', 'city', 'state', 'zip',\n",
       "       'lat', 'long', 'city_pop', 'job', 'dob', 'trans_num', 'unix_time',\n",
       "       'merch_lat', 'merch_long', 'is_fraud'],\n",
       "      dtype='object')"
      ]
     },
     "execution_count": 4,
     "metadata": {},
     "output_type": "execute_result"
    }
   ],
   "source": [
    "df_train.columns"
   ]
  },
  {
   "cell_type": "code",
   "execution_count": 87,
   "id": "f9a7e58f-3329-47b0-a35d-fd37784d92af",
   "metadata": {},
   "outputs": [
    {
     "data": {
      "text/plain": [
       "(1296675, 23)"
      ]
     },
     "execution_count": 87,
     "metadata": {},
     "output_type": "execute_result"
    }
   ],
   "source": [
    "df_train.shape"
   ]
  },
  {
   "cell_type": "code",
   "execution_count": 85,
   "id": "f0f2670a-c0e3-4010-a185-7c4b3e2c0b71",
   "metadata": {},
   "outputs": [
    {
     "data": {
      "text/plain": [
       "983"
      ]
     },
     "execution_count": 85,
     "metadata": {},
     "output_type": "execute_result"
    }
   ],
   "source": [
    "len(pd.unique(df_train['cc_num']))"
   ]
  },
  {
   "cell_type": "code",
   "execution_count": 89,
   "id": "bba7a00d-0802-4768-b736-ee4f06ae2926",
   "metadata": {},
   "outputs": [
    {
     "data": {
      "text/html": [
       "<div>\n",
       "<style scoped>\n",
       "    .dataframe tbody tr th:only-of-type {\n",
       "        vertical-align: middle;\n",
       "    }\n",
       "\n",
       "    .dataframe tbody tr th {\n",
       "        vertical-align: top;\n",
       "    }\n",
       "\n",
       "    .dataframe thead th {\n",
       "        text-align: right;\n",
       "    }\n",
       "</style>\n",
       "<table border=\"1\" class=\"dataframe\">\n",
       "  <thead>\n",
       "    <tr style=\"text-align: right;\">\n",
       "      <th></th>\n",
       "      <th>Unnamed: 0</th>\n",
       "      <th>trans_date_trans_time</th>\n",
       "      <th>cc_num</th>\n",
       "      <th>merchant</th>\n",
       "      <th>category</th>\n",
       "      <th>amt</th>\n",
       "      <th>first</th>\n",
       "      <th>last</th>\n",
       "      <th>gender</th>\n",
       "      <th>street</th>\n",
       "      <th>...</th>\n",
       "      <th>lat</th>\n",
       "      <th>long</th>\n",
       "      <th>city_pop</th>\n",
       "      <th>job</th>\n",
       "      <th>dob</th>\n",
       "      <th>trans_num</th>\n",
       "      <th>unix_time</th>\n",
       "      <th>merch_lat</th>\n",
       "      <th>merch_long</th>\n",
       "      <th>is_fraud</th>\n",
       "    </tr>\n",
       "  </thead>\n",
       "  <tbody>\n",
       "    <tr>\n",
       "      <th>0</th>\n",
       "      <td>0</td>\n",
       "      <td>2019-01-01 00:00:18</td>\n",
       "      <td>2703186189652095</td>\n",
       "      <td>fraud_Rippin, Kub and Mann</td>\n",
       "      <td>misc_net</td>\n",
       "      <td>4.97</td>\n",
       "      <td>Jennifer</td>\n",
       "      <td>Banks</td>\n",
       "      <td>F</td>\n",
       "      <td>561 Perry Cove</td>\n",
       "      <td>...</td>\n",
       "      <td>36.0788</td>\n",
       "      <td>-81.1781</td>\n",
       "      <td>3495</td>\n",
       "      <td>Psychologist, counselling</td>\n",
       "      <td>1988-03-09</td>\n",
       "      <td>0b242abb623afc578575680df30655b9</td>\n",
       "      <td>1325376018</td>\n",
       "      <td>36.011293</td>\n",
       "      <td>-82.048315</td>\n",
       "      <td>0</td>\n",
       "    </tr>\n",
       "    <tr>\n",
       "      <th>1</th>\n",
       "      <td>1</td>\n",
       "      <td>2019-01-01 00:00:44</td>\n",
       "      <td>630423337322</td>\n",
       "      <td>fraud_Heller, Gutmann and Zieme</td>\n",
       "      <td>grocery_pos</td>\n",
       "      <td>107.23</td>\n",
       "      <td>Stephanie</td>\n",
       "      <td>Gill</td>\n",
       "      <td>F</td>\n",
       "      <td>43039 Riley Greens Suite 393</td>\n",
       "      <td>...</td>\n",
       "      <td>48.8878</td>\n",
       "      <td>-118.2105</td>\n",
       "      <td>149</td>\n",
       "      <td>Special educational needs teacher</td>\n",
       "      <td>1978-06-21</td>\n",
       "      <td>1f76529f8574734946361c461b024d99</td>\n",
       "      <td>1325376044</td>\n",
       "      <td>49.159047</td>\n",
       "      <td>-118.186462</td>\n",
       "      <td>0</td>\n",
       "    </tr>\n",
       "    <tr>\n",
       "      <th>2</th>\n",
       "      <td>2</td>\n",
       "      <td>2019-01-01 00:00:51</td>\n",
       "      <td>38859492057661</td>\n",
       "      <td>fraud_Lind-Buckridge</td>\n",
       "      <td>entertainment</td>\n",
       "      <td>220.11</td>\n",
       "      <td>Edward</td>\n",
       "      <td>Sanchez</td>\n",
       "      <td>M</td>\n",
       "      <td>594 White Dale Suite 530</td>\n",
       "      <td>...</td>\n",
       "      <td>42.1808</td>\n",
       "      <td>-112.2620</td>\n",
       "      <td>4154</td>\n",
       "      <td>Nature conservation officer</td>\n",
       "      <td>1962-01-19</td>\n",
       "      <td>a1a22d70485983eac12b5b88dad1cf95</td>\n",
       "      <td>1325376051</td>\n",
       "      <td>43.150704</td>\n",
       "      <td>-112.154481</td>\n",
       "      <td>0</td>\n",
       "    </tr>\n",
       "    <tr>\n",
       "      <th>3</th>\n",
       "      <td>3</td>\n",
       "      <td>2019-01-01 00:01:16</td>\n",
       "      <td>3534093764340240</td>\n",
       "      <td>fraud_Kutch, Hermiston and Farrell</td>\n",
       "      <td>gas_transport</td>\n",
       "      <td>45.00</td>\n",
       "      <td>Jeremy</td>\n",
       "      <td>White</td>\n",
       "      <td>M</td>\n",
       "      <td>9443 Cynthia Court Apt. 038</td>\n",
       "      <td>...</td>\n",
       "      <td>46.2306</td>\n",
       "      <td>-112.1138</td>\n",
       "      <td>1939</td>\n",
       "      <td>Patent attorney</td>\n",
       "      <td>1967-01-12</td>\n",
       "      <td>6b849c168bdad6f867558c3793159a81</td>\n",
       "      <td>1325376076</td>\n",
       "      <td>47.034331</td>\n",
       "      <td>-112.561071</td>\n",
       "      <td>0</td>\n",
       "    </tr>\n",
       "    <tr>\n",
       "      <th>4</th>\n",
       "      <td>4</td>\n",
       "      <td>2019-01-01 00:03:06</td>\n",
       "      <td>375534208663984</td>\n",
       "      <td>fraud_Keeling-Crist</td>\n",
       "      <td>misc_pos</td>\n",
       "      <td>41.96</td>\n",
       "      <td>Tyler</td>\n",
       "      <td>Garcia</td>\n",
       "      <td>M</td>\n",
       "      <td>408 Bradley Rest</td>\n",
       "      <td>...</td>\n",
       "      <td>38.4207</td>\n",
       "      <td>-79.4629</td>\n",
       "      <td>99</td>\n",
       "      <td>Dance movement psychotherapist</td>\n",
       "      <td>1986-03-28</td>\n",
       "      <td>a41d7549acf90789359a9aa5346dcb46</td>\n",
       "      <td>1325376186</td>\n",
       "      <td>38.674999</td>\n",
       "      <td>-78.632459</td>\n",
       "      <td>0</td>\n",
       "    </tr>\n",
       "  </tbody>\n",
       "</table>\n",
       "<p>5 rows × 23 columns</p>\n",
       "</div>"
      ],
      "text/plain": [
       "   Unnamed: 0 trans_date_trans_time            cc_num  \\\n",
       "0           0   2019-01-01 00:00:18  2703186189652095   \n",
       "1           1   2019-01-01 00:00:44      630423337322   \n",
       "2           2   2019-01-01 00:00:51    38859492057661   \n",
       "3           3   2019-01-01 00:01:16  3534093764340240   \n",
       "4           4   2019-01-01 00:03:06   375534208663984   \n",
       "\n",
       "                             merchant       category     amt      first  \\\n",
       "0          fraud_Rippin, Kub and Mann       misc_net    4.97   Jennifer   \n",
       "1     fraud_Heller, Gutmann and Zieme    grocery_pos  107.23  Stephanie   \n",
       "2                fraud_Lind-Buckridge  entertainment  220.11     Edward   \n",
       "3  fraud_Kutch, Hermiston and Farrell  gas_transport   45.00     Jeremy   \n",
       "4                 fraud_Keeling-Crist       misc_pos   41.96      Tyler   \n",
       "\n",
       "      last gender                        street  ...      lat      long  \\\n",
       "0    Banks      F                561 Perry Cove  ...  36.0788  -81.1781   \n",
       "1     Gill      F  43039 Riley Greens Suite 393  ...  48.8878 -118.2105   \n",
       "2  Sanchez      M      594 White Dale Suite 530  ...  42.1808 -112.2620   \n",
       "3    White      M   9443 Cynthia Court Apt. 038  ...  46.2306 -112.1138   \n",
       "4   Garcia      M              408 Bradley Rest  ...  38.4207  -79.4629   \n",
       "\n",
       "   city_pop                                job         dob  \\\n",
       "0      3495          Psychologist, counselling  1988-03-09   \n",
       "1       149  Special educational needs teacher  1978-06-21   \n",
       "2      4154        Nature conservation officer  1962-01-19   \n",
       "3      1939                    Patent attorney  1967-01-12   \n",
       "4        99     Dance movement psychotherapist  1986-03-28   \n",
       "\n",
       "                          trans_num   unix_time  merch_lat  merch_long  \\\n",
       "0  0b242abb623afc578575680df30655b9  1325376018  36.011293  -82.048315   \n",
       "1  1f76529f8574734946361c461b024d99  1325376044  49.159047 -118.186462   \n",
       "2  a1a22d70485983eac12b5b88dad1cf95  1325376051  43.150704 -112.154481   \n",
       "3  6b849c168bdad6f867558c3793159a81  1325376076  47.034331 -112.561071   \n",
       "4  a41d7549acf90789359a9aa5346dcb46  1325376186  38.674999  -78.632459   \n",
       "\n",
       "   is_fraud  \n",
       "0         0  \n",
       "1         0  \n",
       "2         0  \n",
       "3         0  \n",
       "4         0  \n",
       "\n",
       "[5 rows x 23 columns]"
      ]
     },
     "execution_count": 89,
     "metadata": {},
     "output_type": "execute_result"
    }
   ],
   "source": [
    "df_train.head()"
   ]
  },
  {
   "cell_type": "code",
   "execution_count": 5,
   "id": "a9d4d47a-addf-43d4-bdf8-51c11dc4f334",
   "metadata": {},
   "outputs": [
    {
     "data": {
      "text/plain": [
       "((1296675, 23), (555719, 23))"
      ]
     },
     "execution_count": 5,
     "metadata": {},
     "output_type": "execute_result"
    }
   ],
   "source": [
    "df_train.shape, df_test.shape"
   ]
  },
  {
   "cell_type": "markdown",
   "id": "12917bc2-9616-4c35-b080-ee6200296059",
   "metadata": {},
   "source": [
    "#### Verify columns are the same for train and test data"
   ]
  },
  {
   "cell_type": "code",
   "execution_count": 6,
   "id": "e089142a-4653-4829-9e89-65d0a369d0d8",
   "metadata": {},
   "outputs": [
    {
     "data": {
      "text/plain": [
       "set()"
      ]
     },
     "execution_count": 6,
     "metadata": {},
     "output_type": "execute_result"
    }
   ],
   "source": [
    "set(df_train.columns) - set(df_test.columns)"
   ]
  },
  {
   "cell_type": "markdown",
   "id": "0b09bf5b-599b-40a3-98af-2498cddcc596",
   "metadata": {},
   "source": [
    "#### Check for missing values"
   ]
  },
  {
   "cell_type": "code",
   "execution_count": 7,
   "id": "42168fcf-62ea-4fb3-a37d-ccc1b8c96f07",
   "metadata": {},
   "outputs": [
    {
     "data": {
      "text/plain": [
       "Series([], dtype: int64)"
      ]
     },
     "execution_count": 7,
     "metadata": {},
     "output_type": "execute_result"
    }
   ],
   "source": [
    "# check train nulls\n",
    "df_train.isnull().sum().sort_values(ascending = False).loc[lambda x: x> 0]"
   ]
  },
  {
   "cell_type": "code",
   "execution_count": 8,
   "id": "a63ff07b-30c3-4757-bc7b-89f59d4ea209",
   "metadata": {},
   "outputs": [
    {
     "data": {
      "text/plain": [
       "Series([], dtype: int64)"
      ]
     },
     "execution_count": 8,
     "metadata": {},
     "output_type": "execute_result"
    }
   ],
   "source": [
    "# check Test nulls\n",
    "df_test.isnull().sum().sort_values(ascending = False).loc[lambda x: x>0]"
   ]
  },
  {
   "cell_type": "code",
   "execution_count": 9,
   "id": "0235a332-8bfc-48fc-b0d3-017fcf513ce5",
   "metadata": {},
   "outputs": [
    {
     "data": {
      "text/plain": [
       "Unnamed: 0               1296675\n",
       "trans_date_trans_time    1274791\n",
       "cc_num                       983\n",
       "merchant                     693\n",
       "category                      14\n",
       "amt                        52928\n",
       "first                        352\n",
       "last                         481\n",
       "gender                         2\n",
       "street                       983\n",
       "city                         894\n",
       "state                         51\n",
       "zip                          970\n",
       "lat                          968\n",
       "long                         969\n",
       "city_pop                     879\n",
       "job                          494\n",
       "dob                          968\n",
       "trans_num                1296675\n",
       "unix_time                1274823\n",
       "merch_lat                1247805\n",
       "merch_long               1275745\n",
       "is_fraud                       2\n",
       "dtype: int64"
      ]
     },
     "execution_count": 9,
     "metadata": {},
     "output_type": "execute_result"
    }
   ],
   "source": [
    "df_train.nunique()"
   ]
  },
  {
   "cell_type": "markdown",
   "id": "55faece9-38e9-4ed5-97d1-5ce1c73d7e92",
   "metadata": {},
   "source": [
    "We adjust our transaction data time column to be in the proper form for subsquent analysis."
   ]
  },
  {
   "cell_type": "code",
   "execution_count": 10,
   "id": "c2c82037-d279-4cfb-8cd2-9f015813e34b",
   "metadata": {},
   "outputs": [
    {
     "data": {
      "text/html": [
       "<div>\n",
       "<style scoped>\n",
       "    .dataframe tbody tr th:only-of-type {\n",
       "        vertical-align: middle;\n",
       "    }\n",
       "\n",
       "    .dataframe tbody tr th {\n",
       "        vertical-align: top;\n",
       "    }\n",
       "\n",
       "    .dataframe thead th {\n",
       "        text-align: right;\n",
       "    }\n",
       "</style>\n",
       "<table border=\"1\" class=\"dataframe\">\n",
       "  <thead>\n",
       "    <tr style=\"text-align: right;\">\n",
       "      <th></th>\n",
       "      <th>Unnamed: 0</th>\n",
       "      <th>trans_date_trans_time</th>\n",
       "      <th>cc_num</th>\n",
       "      <th>merchant</th>\n",
       "      <th>category</th>\n",
       "      <th>amt</th>\n",
       "      <th>first</th>\n",
       "      <th>last</th>\n",
       "      <th>gender</th>\n",
       "      <th>street</th>\n",
       "      <th>...</th>\n",
       "      <th>lat</th>\n",
       "      <th>long</th>\n",
       "      <th>city_pop</th>\n",
       "      <th>job</th>\n",
       "      <th>dob</th>\n",
       "      <th>trans_num</th>\n",
       "      <th>unix_time</th>\n",
       "      <th>merch_lat</th>\n",
       "      <th>merch_long</th>\n",
       "      <th>is_fraud</th>\n",
       "    </tr>\n",
       "  </thead>\n",
       "  <tbody>\n",
       "    <tr>\n",
       "      <th>0</th>\n",
       "      <td>0</td>\n",
       "      <td>2019-01-01 00:00:18</td>\n",
       "      <td>2703186189652095</td>\n",
       "      <td>fraud_Rippin, Kub and Mann</td>\n",
       "      <td>misc_net</td>\n",
       "      <td>4.97</td>\n",
       "      <td>Jennifer</td>\n",
       "      <td>Banks</td>\n",
       "      <td>F</td>\n",
       "      <td>561 Perry Cove</td>\n",
       "      <td>...</td>\n",
       "      <td>36.0788</td>\n",
       "      <td>-81.1781</td>\n",
       "      <td>3495</td>\n",
       "      <td>Psychologist, counselling</td>\n",
       "      <td>1988-03-09</td>\n",
       "      <td>0b242abb623afc578575680df30655b9</td>\n",
       "      <td>1325376018</td>\n",
       "      <td>36.011293</td>\n",
       "      <td>-82.048315</td>\n",
       "      <td>0</td>\n",
       "    </tr>\n",
       "    <tr>\n",
       "      <th>1</th>\n",
       "      <td>1</td>\n",
       "      <td>2019-01-01 00:00:44</td>\n",
       "      <td>630423337322</td>\n",
       "      <td>fraud_Heller, Gutmann and Zieme</td>\n",
       "      <td>grocery_pos</td>\n",
       "      <td>107.23</td>\n",
       "      <td>Stephanie</td>\n",
       "      <td>Gill</td>\n",
       "      <td>F</td>\n",
       "      <td>43039 Riley Greens Suite 393</td>\n",
       "      <td>...</td>\n",
       "      <td>48.8878</td>\n",
       "      <td>-118.2105</td>\n",
       "      <td>149</td>\n",
       "      <td>Special educational needs teacher</td>\n",
       "      <td>1978-06-21</td>\n",
       "      <td>1f76529f8574734946361c461b024d99</td>\n",
       "      <td>1325376044</td>\n",
       "      <td>49.159047</td>\n",
       "      <td>-118.186462</td>\n",
       "      <td>0</td>\n",
       "    </tr>\n",
       "    <tr>\n",
       "      <th>2</th>\n",
       "      <td>2</td>\n",
       "      <td>2019-01-01 00:00:51</td>\n",
       "      <td>38859492057661</td>\n",
       "      <td>fraud_Lind-Buckridge</td>\n",
       "      <td>entertainment</td>\n",
       "      <td>220.11</td>\n",
       "      <td>Edward</td>\n",
       "      <td>Sanchez</td>\n",
       "      <td>M</td>\n",
       "      <td>594 White Dale Suite 530</td>\n",
       "      <td>...</td>\n",
       "      <td>42.1808</td>\n",
       "      <td>-112.2620</td>\n",
       "      <td>4154</td>\n",
       "      <td>Nature conservation officer</td>\n",
       "      <td>1962-01-19</td>\n",
       "      <td>a1a22d70485983eac12b5b88dad1cf95</td>\n",
       "      <td>1325376051</td>\n",
       "      <td>43.150704</td>\n",
       "      <td>-112.154481</td>\n",
       "      <td>0</td>\n",
       "    </tr>\n",
       "    <tr>\n",
       "      <th>3</th>\n",
       "      <td>3</td>\n",
       "      <td>2019-01-01 00:01:16</td>\n",
       "      <td>3534093764340240</td>\n",
       "      <td>fraud_Kutch, Hermiston and Farrell</td>\n",
       "      <td>gas_transport</td>\n",
       "      <td>45.00</td>\n",
       "      <td>Jeremy</td>\n",
       "      <td>White</td>\n",
       "      <td>M</td>\n",
       "      <td>9443 Cynthia Court Apt. 038</td>\n",
       "      <td>...</td>\n",
       "      <td>46.2306</td>\n",
       "      <td>-112.1138</td>\n",
       "      <td>1939</td>\n",
       "      <td>Patent attorney</td>\n",
       "      <td>1967-01-12</td>\n",
       "      <td>6b849c168bdad6f867558c3793159a81</td>\n",
       "      <td>1325376076</td>\n",
       "      <td>47.034331</td>\n",
       "      <td>-112.561071</td>\n",
       "      <td>0</td>\n",
       "    </tr>\n",
       "    <tr>\n",
       "      <th>4</th>\n",
       "      <td>4</td>\n",
       "      <td>2019-01-01 00:03:06</td>\n",
       "      <td>375534208663984</td>\n",
       "      <td>fraud_Keeling-Crist</td>\n",
       "      <td>misc_pos</td>\n",
       "      <td>41.96</td>\n",
       "      <td>Tyler</td>\n",
       "      <td>Garcia</td>\n",
       "      <td>M</td>\n",
       "      <td>408 Bradley Rest</td>\n",
       "      <td>...</td>\n",
       "      <td>38.4207</td>\n",
       "      <td>-79.4629</td>\n",
       "      <td>99</td>\n",
       "      <td>Dance movement psychotherapist</td>\n",
       "      <td>1986-03-28</td>\n",
       "      <td>a41d7549acf90789359a9aa5346dcb46</td>\n",
       "      <td>1325376186</td>\n",
       "      <td>38.674999</td>\n",
       "      <td>-78.632459</td>\n",
       "      <td>0</td>\n",
       "    </tr>\n",
       "  </tbody>\n",
       "</table>\n",
       "<p>5 rows × 23 columns</p>\n",
       "</div>"
      ],
      "text/plain": [
       "   Unnamed: 0 trans_date_trans_time            cc_num  \\\n",
       "0           0   2019-01-01 00:00:18  2703186189652095   \n",
       "1           1   2019-01-01 00:00:44      630423337322   \n",
       "2           2   2019-01-01 00:00:51    38859492057661   \n",
       "3           3   2019-01-01 00:01:16  3534093764340240   \n",
       "4           4   2019-01-01 00:03:06   375534208663984   \n",
       "\n",
       "                             merchant       category     amt      first  \\\n",
       "0          fraud_Rippin, Kub and Mann       misc_net    4.97   Jennifer   \n",
       "1     fraud_Heller, Gutmann and Zieme    grocery_pos  107.23  Stephanie   \n",
       "2                fraud_Lind-Buckridge  entertainment  220.11     Edward   \n",
       "3  fraud_Kutch, Hermiston and Farrell  gas_transport   45.00     Jeremy   \n",
       "4                 fraud_Keeling-Crist       misc_pos   41.96      Tyler   \n",
       "\n",
       "      last gender                        street  ...      lat      long  \\\n",
       "0    Banks      F                561 Perry Cove  ...  36.0788  -81.1781   \n",
       "1     Gill      F  43039 Riley Greens Suite 393  ...  48.8878 -118.2105   \n",
       "2  Sanchez      M      594 White Dale Suite 530  ...  42.1808 -112.2620   \n",
       "3    White      M   9443 Cynthia Court Apt. 038  ...  46.2306 -112.1138   \n",
       "4   Garcia      M              408 Bradley Rest  ...  38.4207  -79.4629   \n",
       "\n",
       "   city_pop                                job         dob  \\\n",
       "0      3495          Psychologist, counselling  1988-03-09   \n",
       "1       149  Special educational needs teacher  1978-06-21   \n",
       "2      4154        Nature conservation officer  1962-01-19   \n",
       "3      1939                    Patent attorney  1967-01-12   \n",
       "4        99     Dance movement psychotherapist  1986-03-28   \n",
       "\n",
       "                          trans_num   unix_time  merch_lat  merch_long  \\\n",
       "0  0b242abb623afc578575680df30655b9  1325376018  36.011293  -82.048315   \n",
       "1  1f76529f8574734946361c461b024d99  1325376044  49.159047 -118.186462   \n",
       "2  a1a22d70485983eac12b5b88dad1cf95  1325376051  43.150704 -112.154481   \n",
       "3  6b849c168bdad6f867558c3793159a81  1325376076  47.034331 -112.561071   \n",
       "4  a41d7549acf90789359a9aa5346dcb46  1325376186  38.674999  -78.632459   \n",
       "\n",
       "   is_fraud  \n",
       "0         0  \n",
       "1         0  \n",
       "2         0  \n",
       "3         0  \n",
       "4         0  \n",
       "\n",
       "[5 rows x 23 columns]"
      ]
     },
     "execution_count": 10,
     "metadata": {},
     "output_type": "execute_result"
    }
   ],
   "source": [
    "df_train['trans_date_trans_time'] = pd.to_datetime(df_train['trans_date_trans_time'])\n",
    "df_train.head()"
   ]
  },
  {
   "cell_type": "code",
   "execution_count": 11,
   "id": "27237d54-62eb-49a0-a836-f73def80f80d",
   "metadata": {},
   "outputs": [
    {
     "data": {
      "text/html": [
       "<div>\n",
       "<style scoped>\n",
       "    .dataframe tbody tr th:only-of-type {\n",
       "        vertical-align: middle;\n",
       "    }\n",
       "\n",
       "    .dataframe tbody tr th {\n",
       "        vertical-align: top;\n",
       "    }\n",
       "\n",
       "    .dataframe thead th {\n",
       "        text-align: right;\n",
       "    }\n",
       "</style>\n",
       "<table border=\"1\" class=\"dataframe\">\n",
       "  <thead>\n",
       "    <tr style=\"text-align: right;\">\n",
       "      <th></th>\n",
       "      <th>Unnamed: 0</th>\n",
       "      <th>trans_date_trans_time</th>\n",
       "      <th>cc_num</th>\n",
       "      <th>merchant</th>\n",
       "      <th>category</th>\n",
       "      <th>amt</th>\n",
       "      <th>first</th>\n",
       "      <th>last</th>\n",
       "      <th>gender</th>\n",
       "      <th>street</th>\n",
       "      <th>...</th>\n",
       "      <th>lat</th>\n",
       "      <th>long</th>\n",
       "      <th>city_pop</th>\n",
       "      <th>job</th>\n",
       "      <th>dob</th>\n",
       "      <th>trans_num</th>\n",
       "      <th>unix_time</th>\n",
       "      <th>merch_lat</th>\n",
       "      <th>merch_long</th>\n",
       "      <th>is_fraud</th>\n",
       "    </tr>\n",
       "  </thead>\n",
       "  <tbody>\n",
       "    <tr>\n",
       "      <th>0</th>\n",
       "      <td>0</td>\n",
       "      <td>2020-06-21 12:14:25</td>\n",
       "      <td>2291163933867244</td>\n",
       "      <td>fraud_Kirlin and Sons</td>\n",
       "      <td>personal_care</td>\n",
       "      <td>2.86</td>\n",
       "      <td>Jeff</td>\n",
       "      <td>Elliott</td>\n",
       "      <td>M</td>\n",
       "      <td>351 Darlene Green</td>\n",
       "      <td>...</td>\n",
       "      <td>33.9659</td>\n",
       "      <td>-80.9355</td>\n",
       "      <td>333497</td>\n",
       "      <td>Mechanical engineer</td>\n",
       "      <td>1968-03-19</td>\n",
       "      <td>2da90c7d74bd46a0caf3777415b3ebd3</td>\n",
       "      <td>1371816865</td>\n",
       "      <td>33.986391</td>\n",
       "      <td>-81.200714</td>\n",
       "      <td>0</td>\n",
       "    </tr>\n",
       "    <tr>\n",
       "      <th>1</th>\n",
       "      <td>1</td>\n",
       "      <td>2020-06-21 12:14:33</td>\n",
       "      <td>3573030041201292</td>\n",
       "      <td>fraud_Sporer-Keebler</td>\n",
       "      <td>personal_care</td>\n",
       "      <td>29.84</td>\n",
       "      <td>Joanne</td>\n",
       "      <td>Williams</td>\n",
       "      <td>F</td>\n",
       "      <td>3638 Marsh Union</td>\n",
       "      <td>...</td>\n",
       "      <td>40.3207</td>\n",
       "      <td>-110.4360</td>\n",
       "      <td>302</td>\n",
       "      <td>Sales professional, IT</td>\n",
       "      <td>1990-01-17</td>\n",
       "      <td>324cc204407e99f51b0d6ca0055005e7</td>\n",
       "      <td>1371816873</td>\n",
       "      <td>39.450498</td>\n",
       "      <td>-109.960431</td>\n",
       "      <td>0</td>\n",
       "    </tr>\n",
       "    <tr>\n",
       "      <th>2</th>\n",
       "      <td>2</td>\n",
       "      <td>2020-06-21 12:14:53</td>\n",
       "      <td>3598215285024754</td>\n",
       "      <td>fraud_Swaniawski, Nitzsche and Welch</td>\n",
       "      <td>health_fitness</td>\n",
       "      <td>41.28</td>\n",
       "      <td>Ashley</td>\n",
       "      <td>Lopez</td>\n",
       "      <td>F</td>\n",
       "      <td>9333 Valentine Point</td>\n",
       "      <td>...</td>\n",
       "      <td>40.6729</td>\n",
       "      <td>-73.5365</td>\n",
       "      <td>34496</td>\n",
       "      <td>Librarian, public</td>\n",
       "      <td>1970-10-21</td>\n",
       "      <td>c81755dbbbea9d5c77f094348a7579be</td>\n",
       "      <td>1371816893</td>\n",
       "      <td>40.495810</td>\n",
       "      <td>-74.196111</td>\n",
       "      <td>0</td>\n",
       "    </tr>\n",
       "    <tr>\n",
       "      <th>3</th>\n",
       "      <td>3</td>\n",
       "      <td>2020-06-21 12:15:15</td>\n",
       "      <td>3591919803438423</td>\n",
       "      <td>fraud_Haley Group</td>\n",
       "      <td>misc_pos</td>\n",
       "      <td>60.05</td>\n",
       "      <td>Brian</td>\n",
       "      <td>Williams</td>\n",
       "      <td>M</td>\n",
       "      <td>32941 Krystal Mill Apt. 552</td>\n",
       "      <td>...</td>\n",
       "      <td>28.5697</td>\n",
       "      <td>-80.8191</td>\n",
       "      <td>54767</td>\n",
       "      <td>Set designer</td>\n",
       "      <td>1987-07-25</td>\n",
       "      <td>2159175b9efe66dc301f149d3d5abf8c</td>\n",
       "      <td>1371816915</td>\n",
       "      <td>28.812398</td>\n",
       "      <td>-80.883061</td>\n",
       "      <td>0</td>\n",
       "    </tr>\n",
       "    <tr>\n",
       "      <th>4</th>\n",
       "      <td>4</td>\n",
       "      <td>2020-06-21 12:15:17</td>\n",
       "      <td>3526826139003047</td>\n",
       "      <td>fraud_Johnston-Casper</td>\n",
       "      <td>travel</td>\n",
       "      <td>3.19</td>\n",
       "      <td>Nathan</td>\n",
       "      <td>Massey</td>\n",
       "      <td>M</td>\n",
       "      <td>5783 Evan Roads Apt. 465</td>\n",
       "      <td>...</td>\n",
       "      <td>44.2529</td>\n",
       "      <td>-85.0170</td>\n",
       "      <td>1126</td>\n",
       "      <td>Furniture designer</td>\n",
       "      <td>1955-07-06</td>\n",
       "      <td>57ff021bd3f328f8738bb535c302a31b</td>\n",
       "      <td>1371816917</td>\n",
       "      <td>44.959148</td>\n",
       "      <td>-85.884734</td>\n",
       "      <td>0</td>\n",
       "    </tr>\n",
       "  </tbody>\n",
       "</table>\n",
       "<p>5 rows × 23 columns</p>\n",
       "</div>"
      ],
      "text/plain": [
       "   Unnamed: 0 trans_date_trans_time            cc_num  \\\n",
       "0           0   2020-06-21 12:14:25  2291163933867244   \n",
       "1           1   2020-06-21 12:14:33  3573030041201292   \n",
       "2           2   2020-06-21 12:14:53  3598215285024754   \n",
       "3           3   2020-06-21 12:15:15  3591919803438423   \n",
       "4           4   2020-06-21 12:15:17  3526826139003047   \n",
       "\n",
       "                               merchant        category    amt   first  \\\n",
       "0                 fraud_Kirlin and Sons   personal_care   2.86    Jeff   \n",
       "1                  fraud_Sporer-Keebler   personal_care  29.84  Joanne   \n",
       "2  fraud_Swaniawski, Nitzsche and Welch  health_fitness  41.28  Ashley   \n",
       "3                     fraud_Haley Group        misc_pos  60.05   Brian   \n",
       "4                 fraud_Johnston-Casper          travel   3.19  Nathan   \n",
       "\n",
       "       last gender                       street  ...      lat      long  \\\n",
       "0   Elliott      M            351 Darlene Green  ...  33.9659  -80.9355   \n",
       "1  Williams      F             3638 Marsh Union  ...  40.3207 -110.4360   \n",
       "2     Lopez      F         9333 Valentine Point  ...  40.6729  -73.5365   \n",
       "3  Williams      M  32941 Krystal Mill Apt. 552  ...  28.5697  -80.8191   \n",
       "4    Massey      M     5783 Evan Roads Apt. 465  ...  44.2529  -85.0170   \n",
       "\n",
       "   city_pop                     job         dob  \\\n",
       "0    333497     Mechanical engineer  1968-03-19   \n",
       "1       302  Sales professional, IT  1990-01-17   \n",
       "2     34496       Librarian, public  1970-10-21   \n",
       "3     54767            Set designer  1987-07-25   \n",
       "4      1126      Furniture designer  1955-07-06   \n",
       "\n",
       "                          trans_num   unix_time  merch_lat  merch_long  \\\n",
       "0  2da90c7d74bd46a0caf3777415b3ebd3  1371816865  33.986391  -81.200714   \n",
       "1  324cc204407e99f51b0d6ca0055005e7  1371816873  39.450498 -109.960431   \n",
       "2  c81755dbbbea9d5c77f094348a7579be  1371816893  40.495810  -74.196111   \n",
       "3  2159175b9efe66dc301f149d3d5abf8c  1371816915  28.812398  -80.883061   \n",
       "4  57ff021bd3f328f8738bb535c302a31b  1371816917  44.959148  -85.884734   \n",
       "\n",
       "   is_fraud  \n",
       "0         0  \n",
       "1         0  \n",
       "2         0  \n",
       "3         0  \n",
       "4         0  \n",
       "\n",
       "[5 rows x 23 columns]"
      ]
     },
     "execution_count": 11,
     "metadata": {},
     "output_type": "execute_result"
    }
   ],
   "source": [
    "df_test['trans_date_trans_time'] = pd.to_datetime(df_test['trans_date_trans_time'])\n",
    "df_test.head()"
   ]
  },
  {
   "cell_type": "markdown",
   "id": "05623178-5973-493e-a30e-dde83a2b9362",
   "metadata": {},
   "source": [
    "### Check data types"
   ]
  },
  {
   "cell_type": "code",
   "execution_count": 12,
   "id": "ca8462e3-356a-46e2-94b7-3aff57acf3fc",
   "metadata": {},
   "outputs": [
    {
     "name": "stdout",
     "output_type": "stream",
     "text": [
      "<class 'pandas.core.frame.DataFrame'>\n",
      "RangeIndex: 1296675 entries, 0 to 1296674\n",
      "Data columns (total 23 columns):\n",
      " #   Column                 Non-Null Count    Dtype         \n",
      "---  ------                 --------------    -----         \n",
      " 0   Unnamed: 0             1296675 non-null  int64         \n",
      " 1   trans_date_trans_time  1296675 non-null  datetime64[ns]\n",
      " 2   cc_num                 1296675 non-null  int64         \n",
      " 3   merchant               1296675 non-null  object        \n",
      " 4   category               1296675 non-null  object        \n",
      " 5   amt                    1296675 non-null  float64       \n",
      " 6   first                  1296675 non-null  object        \n",
      " 7   last                   1296675 non-null  object        \n",
      " 8   gender                 1296675 non-null  object        \n",
      " 9   street                 1296675 non-null  object        \n",
      " 10  city                   1296675 non-null  object        \n",
      " 11  state                  1296675 non-null  object        \n",
      " 12  zip                    1296675 non-null  int64         \n",
      " 13  lat                    1296675 non-null  float64       \n",
      " 14  long                   1296675 non-null  float64       \n",
      " 15  city_pop               1296675 non-null  int64         \n",
      " 16  job                    1296675 non-null  object        \n",
      " 17  dob                    1296675 non-null  object        \n",
      " 18  trans_num              1296675 non-null  object        \n",
      " 19  unix_time              1296675 non-null  int64         \n",
      " 20  merch_lat              1296675 non-null  float64       \n",
      " 21  merch_long             1296675 non-null  float64       \n",
      " 22  is_fraud               1296675 non-null  int64         \n",
      "dtypes: datetime64[ns](1), float64(5), int64(6), object(11)\n",
      "memory usage: 227.5+ MB\n"
     ]
    }
   ],
   "source": [
    "df_train.info()"
   ]
  },
  {
   "cell_type": "code",
   "execution_count": 13,
   "id": "de52b063-6f3b-421d-8bd6-3a120bb204c8",
   "metadata": {},
   "outputs": [
    {
     "name": "stdout",
     "output_type": "stream",
     "text": [
      "<class 'pandas.core.frame.DataFrame'>\n",
      "RangeIndex: 555719 entries, 0 to 555718\n",
      "Data columns (total 23 columns):\n",
      " #   Column                 Non-Null Count   Dtype         \n",
      "---  ------                 --------------   -----         \n",
      " 0   Unnamed: 0             555719 non-null  int64         \n",
      " 1   trans_date_trans_time  555719 non-null  datetime64[ns]\n",
      " 2   cc_num                 555719 non-null  int64         \n",
      " 3   merchant               555719 non-null  object        \n",
      " 4   category               555719 non-null  object        \n",
      " 5   amt                    555719 non-null  float64       \n",
      " 6   first                  555719 non-null  object        \n",
      " 7   last                   555719 non-null  object        \n",
      " 8   gender                 555719 non-null  object        \n",
      " 9   street                 555719 non-null  object        \n",
      " 10  city                   555719 non-null  object        \n",
      " 11  state                  555719 non-null  object        \n",
      " 12  zip                    555719 non-null  int64         \n",
      " 13  lat                    555719 non-null  float64       \n",
      " 14  long                   555719 non-null  float64       \n",
      " 15  city_pop               555719 non-null  int64         \n",
      " 16  job                    555719 non-null  object        \n",
      " 17  dob                    555719 non-null  object        \n",
      " 18  trans_num              555719 non-null  object        \n",
      " 19  unix_time              555719 non-null  int64         \n",
      " 20  merch_lat              555719 non-null  float64       \n",
      " 21  merch_long             555719 non-null  float64       \n",
      " 22  is_fraud               555719 non-null  int64         \n",
      "dtypes: datetime64[ns](1), float64(5), int64(6), object(11)\n",
      "memory usage: 97.5+ MB\n"
     ]
    }
   ],
   "source": [
    "df_test.info()"
   ]
  },
  {
   "cell_type": "markdown",
   "id": "7fe42111-c551-458a-b10f-1b74fdad741f",
   "metadata": {},
   "source": [
    "Our data types are the correct type at this point in our analysis. After conducting EDA, we may choose to tranform the data and will need to consider changing the data types of categorical variables."
   ]
  },
  {
   "cell_type": "markdown",
   "id": "6facf831-5f88-41ac-b925-2aebb547d428",
   "metadata": {},
   "source": [
    "# Exploratory Data Analysis"
   ]
  },
  {
   "cell_type": "markdown",
   "id": "884a6740-986f-431a-8988-7b3d6b9d82db",
   "metadata": {},
   "source": [
    "#### Our EDA section covers\n",
    "    1) Examining summary statistics\n",
    "    2) Outlier analysis\n",
    "    3) Examining distributions to inform our modeling approach"
   ]
  },
  {
   "cell_type": "code",
   "execution_count": 14,
   "id": "5267cc6b-eb7e-4dc0-9a89-21a51272ffa9",
   "metadata": {},
   "outputs": [
    {
     "data": {
      "text/html": [
       "<div>\n",
       "<style scoped>\n",
       "    .dataframe tbody tr th:only-of-type {\n",
       "        vertical-align: middle;\n",
       "    }\n",
       "\n",
       "    .dataframe tbody tr th {\n",
       "        vertical-align: top;\n",
       "    }\n",
       "\n",
       "    .dataframe thead th {\n",
       "        text-align: right;\n",
       "    }\n",
       "</style>\n",
       "<table border=\"1\" class=\"dataframe\">\n",
       "  <thead>\n",
       "    <tr style=\"text-align: right;\">\n",
       "      <th></th>\n",
       "      <th>count</th>\n",
       "      <th>mean</th>\n",
       "      <th>std</th>\n",
       "      <th>min</th>\n",
       "      <th>25%</th>\n",
       "      <th>50%</th>\n",
       "      <th>75%</th>\n",
       "      <th>max</th>\n",
       "    </tr>\n",
       "  </thead>\n",
       "  <tbody>\n",
       "    <tr>\n",
       "      <th>Unnamed: 0</th>\n",
       "      <td>1296675.0</td>\n",
       "      <td>6.483370e+05</td>\n",
       "      <td>3.743180e+05</td>\n",
       "      <td>0.000000e+00</td>\n",
       "      <td>3.241685e+05</td>\n",
       "      <td>6.483370e+05</td>\n",
       "      <td>9.725055e+05</td>\n",
       "      <td>1.296674e+06</td>\n",
       "    </tr>\n",
       "    <tr>\n",
       "      <th>cc_num</th>\n",
       "      <td>1296675.0</td>\n",
       "      <td>4.171920e+17</td>\n",
       "      <td>1.308806e+18</td>\n",
       "      <td>6.041621e+10</td>\n",
       "      <td>1.800429e+14</td>\n",
       "      <td>3.521417e+15</td>\n",
       "      <td>4.642255e+15</td>\n",
       "      <td>4.992346e+18</td>\n",
       "    </tr>\n",
       "    <tr>\n",
       "      <th>amt</th>\n",
       "      <td>1296675.0</td>\n",
       "      <td>7.035104e+01</td>\n",
       "      <td>1.603160e+02</td>\n",
       "      <td>1.000000e+00</td>\n",
       "      <td>9.650000e+00</td>\n",
       "      <td>4.752000e+01</td>\n",
       "      <td>8.314000e+01</td>\n",
       "      <td>2.894890e+04</td>\n",
       "    </tr>\n",
       "    <tr>\n",
       "      <th>zip</th>\n",
       "      <td>1296675.0</td>\n",
       "      <td>4.880067e+04</td>\n",
       "      <td>2.689322e+04</td>\n",
       "      <td>1.257000e+03</td>\n",
       "      <td>2.623700e+04</td>\n",
       "      <td>4.817400e+04</td>\n",
       "      <td>7.204200e+04</td>\n",
       "      <td>9.978300e+04</td>\n",
       "    </tr>\n",
       "    <tr>\n",
       "      <th>lat</th>\n",
       "      <td>1296675.0</td>\n",
       "      <td>3.853762e+01</td>\n",
       "      <td>5.075808e+00</td>\n",
       "      <td>2.002710e+01</td>\n",
       "      <td>3.462050e+01</td>\n",
       "      <td>3.935430e+01</td>\n",
       "      <td>4.194040e+01</td>\n",
       "      <td>6.669330e+01</td>\n",
       "    </tr>\n",
       "    <tr>\n",
       "      <th>long</th>\n",
       "      <td>1296675.0</td>\n",
       "      <td>-9.022634e+01</td>\n",
       "      <td>1.375908e+01</td>\n",
       "      <td>-1.656723e+02</td>\n",
       "      <td>-9.679800e+01</td>\n",
       "      <td>-8.747690e+01</td>\n",
       "      <td>-8.015800e+01</td>\n",
       "      <td>-6.795030e+01</td>\n",
       "    </tr>\n",
       "    <tr>\n",
       "      <th>city_pop</th>\n",
       "      <td>1296675.0</td>\n",
       "      <td>8.882444e+04</td>\n",
       "      <td>3.019564e+05</td>\n",
       "      <td>2.300000e+01</td>\n",
       "      <td>7.430000e+02</td>\n",
       "      <td>2.456000e+03</td>\n",
       "      <td>2.032800e+04</td>\n",
       "      <td>2.906700e+06</td>\n",
       "    </tr>\n",
       "    <tr>\n",
       "      <th>unix_time</th>\n",
       "      <td>1296675.0</td>\n",
       "      <td>1.349244e+09</td>\n",
       "      <td>1.284128e+07</td>\n",
       "      <td>1.325376e+09</td>\n",
       "      <td>1.338751e+09</td>\n",
       "      <td>1.349250e+09</td>\n",
       "      <td>1.359385e+09</td>\n",
       "      <td>1.371817e+09</td>\n",
       "    </tr>\n",
       "    <tr>\n",
       "      <th>merch_lat</th>\n",
       "      <td>1296675.0</td>\n",
       "      <td>3.853734e+01</td>\n",
       "      <td>5.109788e+00</td>\n",
       "      <td>1.902779e+01</td>\n",
       "      <td>3.473357e+01</td>\n",
       "      <td>3.936568e+01</td>\n",
       "      <td>4.195716e+01</td>\n",
       "      <td>6.751027e+01</td>\n",
       "    </tr>\n",
       "    <tr>\n",
       "      <th>merch_long</th>\n",
       "      <td>1296675.0</td>\n",
       "      <td>-9.022646e+01</td>\n",
       "      <td>1.377109e+01</td>\n",
       "      <td>-1.666712e+02</td>\n",
       "      <td>-9.689728e+01</td>\n",
       "      <td>-8.743839e+01</td>\n",
       "      <td>-8.023680e+01</td>\n",
       "      <td>-6.695090e+01</td>\n",
       "    </tr>\n",
       "    <tr>\n",
       "      <th>is_fraud</th>\n",
       "      <td>1296675.0</td>\n",
       "      <td>5.788652e-03</td>\n",
       "      <td>7.586269e-02</td>\n",
       "      <td>0.000000e+00</td>\n",
       "      <td>0.000000e+00</td>\n",
       "      <td>0.000000e+00</td>\n",
       "      <td>0.000000e+00</td>\n",
       "      <td>1.000000e+00</td>\n",
       "    </tr>\n",
       "  </tbody>\n",
       "</table>\n",
       "</div>"
      ],
      "text/plain": [
       "                count          mean           std           min           25%  \\\n",
       "Unnamed: 0  1296675.0  6.483370e+05  3.743180e+05  0.000000e+00  3.241685e+05   \n",
       "cc_num      1296675.0  4.171920e+17  1.308806e+18  6.041621e+10  1.800429e+14   \n",
       "amt         1296675.0  7.035104e+01  1.603160e+02  1.000000e+00  9.650000e+00   \n",
       "zip         1296675.0  4.880067e+04  2.689322e+04  1.257000e+03  2.623700e+04   \n",
       "lat         1296675.0  3.853762e+01  5.075808e+00  2.002710e+01  3.462050e+01   \n",
       "long        1296675.0 -9.022634e+01  1.375908e+01 -1.656723e+02 -9.679800e+01   \n",
       "city_pop    1296675.0  8.882444e+04  3.019564e+05  2.300000e+01  7.430000e+02   \n",
       "unix_time   1296675.0  1.349244e+09  1.284128e+07  1.325376e+09  1.338751e+09   \n",
       "merch_lat   1296675.0  3.853734e+01  5.109788e+00  1.902779e+01  3.473357e+01   \n",
       "merch_long  1296675.0 -9.022646e+01  1.377109e+01 -1.666712e+02 -9.689728e+01   \n",
       "is_fraud    1296675.0  5.788652e-03  7.586269e-02  0.000000e+00  0.000000e+00   \n",
       "\n",
       "                     50%           75%           max  \n",
       "Unnamed: 0  6.483370e+05  9.725055e+05  1.296674e+06  \n",
       "cc_num      3.521417e+15  4.642255e+15  4.992346e+18  \n",
       "amt         4.752000e+01  8.314000e+01  2.894890e+04  \n",
       "zip         4.817400e+04  7.204200e+04  9.978300e+04  \n",
       "lat         3.935430e+01  4.194040e+01  6.669330e+01  \n",
       "long       -8.747690e+01 -8.015800e+01 -6.795030e+01  \n",
       "city_pop    2.456000e+03  2.032800e+04  2.906700e+06  \n",
       "unix_time   1.349250e+09  1.359385e+09  1.371817e+09  \n",
       "merch_lat   3.936568e+01  4.195716e+01  6.751027e+01  \n",
       "merch_long -8.743839e+01 -8.023680e+01 -6.695090e+01  \n",
       "is_fraud    0.000000e+00  0.000000e+00  1.000000e+00  "
      ]
     },
     "execution_count": 14,
     "metadata": {},
     "output_type": "execute_result"
    }
   ],
   "source": [
    "df_train.describe().T"
   ]
  },
  {
   "cell_type": "code",
   "execution_count": 15,
   "id": "ca6993f7-9dbb-473e-ba32-7335f230ab91",
   "metadata": {},
   "outputs": [
    {
     "data": {
      "text/plain": [
       "0    1289169\n",
       "1       7506\n",
       "Name: is_fraud, dtype: int64"
      ]
     },
     "execution_count": 15,
     "metadata": {},
     "output_type": "execute_result"
    }
   ],
   "source": [
    "df_train.is_fraud.value_counts()"
   ]
  },
  {
   "cell_type": "code",
   "execution_count": 16,
   "id": "4cad2be1-6b27-4495-82f2-e6d62ec95fe8",
   "metadata": {},
   "outputs": [
    {
     "data": {
      "text/plain": [
       "0    99.42\n",
       "1     0.58\n",
       "Name: is_fraud, dtype: float64"
      ]
     },
     "execution_count": 16,
     "metadata": {},
     "output_type": "execute_result"
    }
   ],
   "source": [
    "df_train.is_fraud.value_counts(normalize=True).mul(100).round(2)"
   ]
  },
  {
   "cell_type": "code",
   "execution_count": 17,
   "id": "984c4a0f-f869-4435-83d9-0ac8fade63e0",
   "metadata": {},
   "outputs": [
    {
     "data": {
      "text/plain": [
       "0    553574\n",
       "1      2145\n",
       "Name: is_fraud, dtype: int64"
      ]
     },
     "execution_count": 17,
     "metadata": {},
     "output_type": "execute_result"
    }
   ],
   "source": [
    "df_test.is_fraud.value_counts()"
   ]
  },
  {
   "cell_type": "code",
   "execution_count": 18,
   "id": "40a267de-de0a-4f3d-8d90-f0441bb95774",
   "metadata": {},
   "outputs": [
    {
     "data": {
      "text/plain": [
       "0    99.61\n",
       "1     0.39\n",
       "Name: is_fraud, dtype: float64"
      ]
     },
     "execution_count": 18,
     "metadata": {},
     "output_type": "execute_result"
    }
   ],
   "source": [
    "df_test.is_fraud.value_counts(normalize=True).mul(100).round(2)"
   ]
  },
  {
   "cell_type": "markdown",
   "id": "39e0bbb8-f993-4f50-abab-c9a26a895d45",
   "metadata": {},
   "source": [
    "#### We note highly imbalanced classes, which is a common challange of fraud detection problems."
   ]
  },
  {
   "cell_type": "code",
   "execution_count": 19,
   "id": "4bd9ef28-c433-4a3b-8413-86aca4fb2e81",
   "metadata": {},
   "outputs": [
    {
     "data": {
      "text/plain": [
       "<Figure size 1000x800 with 0 Axes>"
      ]
     },
     "metadata": {},
     "output_type": "display_data"
    },
    {
     "data": {
      "image/png": "[encoded data removed]",
      "text/plain": [
       "<Figure size 500x500 with 1 Axes>"
      ]
     },
     "metadata": {},
     "output_type": "display_data"
    }
   ],
   "source": [
    "plt.figure(figsize=(10,8));\n",
    "sns.displot(df_train['is_fraud']).set(title = 'Target  Distribution', \n",
    "                                                   xlabel='is_fraud', \n",
    "                                                   ylabel='Count');"
   ]
  },
  {
   "cell_type": "markdown",
   "id": "1c94c253-c395-4b0e-b8f3-67fe13abc468",
   "metadata": {},
   "source": [
    "## Drop duplicates"
   ]
  },
  {
   "cell_type": "code",
   "execution_count": 20,
   "id": "ae6f1b50-a6b8-49a4-a57b-c96ad0bafc98",
   "metadata": {},
   "outputs": [
    {
     "data": {
      "text/plain": [
       "(1296675, 23)"
      ]
     },
     "execution_count": 20,
     "metadata": {},
     "output_type": "execute_result"
    }
   ],
   "source": [
    "df_train.shape"
   ]
  },
  {
   "cell_type": "code",
   "execution_count": 21,
   "id": "bb82e420-a34e-488d-a22c-5a13963f5836",
   "metadata": {},
   "outputs": [],
   "source": [
    "df_train.drop_duplicates(inplace=True)"
   ]
  },
  {
   "cell_type": "code",
   "execution_count": 22,
   "id": "8e945ee3-11f5-4575-a7c1-547896df608f",
   "metadata": {},
   "outputs": [
    {
     "data": {
      "text/plain": [
       "(1296675, 23)"
      ]
     },
     "execution_count": 22,
     "metadata": {},
     "output_type": "execute_result"
    }
   ],
   "source": [
    "df_train.shape"
   ]
  },
  {
   "cell_type": "markdown",
   "id": "b705f041-c2be-4da9-b117-808aa74b94cb",
   "metadata": {},
   "source": [
    "### Examine box plots"
   ]
  },
  {
   "cell_type": "code",
   "execution_count": 23,
   "id": "a429ec75-a96f-469b-997b-8c1c2df72f65",
   "metadata": {},
   "outputs": [],
   "source": [
    "num_cols = df_train.select_dtypes([np.int64,np.float64]).columns"
   ]
  },
  {
   "cell_type": "code",
   "execution_count": 24,
   "id": "6da4a149-d439-4bd5-9c7e-dc064bca4007",
   "metadata": {},
   "outputs": [
    {
     "data": {
      "image/png": "[encoded data removed]",
      "text/plain": [
       "<Figure size 1600x2500 with 12 Axes>"
      ]
     },
     "metadata": {},
     "output_type": "display_data"
    }
   ],
   "source": [
    "def get_boxplots(dataset, columns_list, rows, cols, suptitle):\n",
    "    fig, axs = plt.subplots(rows, cols, sharey=True, figsize=(16,25))\n",
    "    fig.suptitle(suptitle,y=1, size=25)\n",
    "    axs = axs.flatten()\n",
    "    for i, data in enumerate(columns_list):\n",
    "        sns.boxplot(data=dataset[data], orient='h', ax=axs[i])\n",
    "        axs[i].set_title(data + ', skewness is: '+str(round(dataset[data].skew(axis = 0, skipna = True),2)))\n",
    "        \n",
    "get_boxplots(dataset=df_train, columns_list=num_cols, rows=4, cols=3, suptitle='Numeric Variable Boxplots')\n",
    "plt.tight_layout()"
   ]
  },
  {
   "cell_type": "markdown",
   "id": "e84ec5ec-0695-41d9-a4bd-d310d89a0a42",
   "metadata": {},
   "source": [
    "### Examine correlationss"
   ]
  },
  {
   "cell_type": "code",
   "execution_count": 25,
   "id": "d0d0832e-292c-498b-9e40-1d9e16d5e425",
   "metadata": {},
   "outputs": [
    {
     "data": {
      "text/plain": [
       "unix_time    -0.005078\n",
       "Unnamed: 0   -0.004767\n",
       "zip          -0.002162\n",
       "cc_num       -0.000981\n",
       "long          0.001721\n",
       "merch_long    0.001721\n",
       "merch_lat     0.001741\n",
       "lat           0.001894\n",
       "city_pop      0.002136\n",
       "amt           0.219404\n",
       "is_fraud      1.000000\n",
       "Name: is_fraud, dtype: float64"
      ]
     },
     "execution_count": 25,
     "metadata": {},
     "output_type": "execute_result"
    }
   ],
   "source": [
    "df_train.corr()['is_fraud'].sort_values()"
   ]
  },
  {
   "cell_type": "code",
   "execution_count": 26,
   "id": "b7192679-e378-43ec-b906-2c8909621838",
   "metadata": {},
   "outputs": [
    {
     "data": {
      "text/plain": [
       "<AxesSubplot:>"
      ]
     },
     "execution_count": 26,
     "metadata": {},
     "output_type": "execute_result"
    },
    {
     "data": {
      "image/png": "[encoded data removed]",
      "text/plain": [
       "<Figure size 1500x1000 with 2 Axes>"
      ]
     },
     "metadata": {},
     "output_type": "display_data"
    }
   ],
   "source": [
    "# Establish size of figure.\n",
    "plt.figure(figsize=(15,10))\n",
    "\n",
    "# Get correlation of variables.\n",
    "corr = df_train.corr()\n",
    "\n",
    "# Set up mask to be \"True\" in the upper triangle.\n",
    "mask = np.zeros_like(corr)\n",
    "mask[np.triu_indices_from(mask)] = True\n",
    "\n",
    "# Plot our correlation heatmap, while masking the upper triangle to be white.\n",
    "sns.heatmap(corr, mask = mask, \n",
    "            square = True, annot = True,\n",
    "           cmap = 'mako')"
   ]
  },
  {
   "cell_type": "markdown",
   "id": "69b5b0a0-615e-4c43-ae0e-208cad43f497",
   "metadata": {},
   "source": [
    "### Discuss heat map"
   ]
  },
  {
   "cell_type": "code",
   "execution_count": 27,
   "id": "0b0fef74-b8fc-4a7d-a375-e327927020fd",
   "metadata": {},
   "outputs": [
    {
     "data": {
      "image/png": "[encoded data removed]",
      "text/plain": [
       "<Figure size 1500x800 with 1 Axes>"
      ]
     },
     "metadata": {},
     "output_type": "display_data"
    }
   ],
   "source": [
    "plt.figure(figsize=(15,8))\n",
    "d = df_train.corr()['is_fraud'][:-1].abs().sort_values().plot(kind='bar',\n",
    "                                                              title='Most important features')\n",
    "plt.show()"
   ]
  },
  {
   "cell_type": "markdown",
   "id": "559ceeb5-d465-45ea-a420-574e4782213d",
   "metadata": {},
   "source": [
    "### Feature distribution"
   ]
  },
  {
   "cell_type": "code",
   "execution_count": 28,
   "id": "f651575e-f837-47f7-ae76-506e71d8fb47",
   "metadata": {},
   "outputs": [],
   "source": [
    "import numpy as np\n",
    "import pandas as pd\n",
    "import matplotlib.pyplot as plt\n",
    "\n",
    "def distribution_plots(df, columns):\n",
    "    n = len(columns)\n",
    "    if n>11:\n",
    "        print(\"Error: Number of columns exceeds limit of 9 columns\")\n",
    "        return\n",
    "    rows, cols = np.int(np.ceil(n/3)), 3\n",
    "    fig, axes = plt.subplots(nrows=rows, ncols=cols, figsize=(13,8))\n",
    "    for i, column in enumerate(columns):\n",
    "        ax = axes.flat[i]\n",
    "        ax.hist(df[column], bins=60, linewidth=0.5, edgecolor=\"white\")\n",
    "        ax.set_title(f\"{column} distribution\")\n",
    "    plt.tight_layout()\n",
    "    plt.show()\n"
   ]
  },
  {
   "cell_type": "code",
   "execution_count": 29,
   "id": "c86cc39e-2ee4-4adb-9688-bb07b2110c1e",
   "metadata": {},
   "outputs": [
    {
     "data": {
      "image/png": "[encoded data removed]",
      "text/plain": [
       "<Figure size 1300x800 with 12 Axes>"
      ]
     },
     "metadata": {},
     "output_type": "display_data"
    }
   ],
   "source": [
    "columns = list(df_train.columns)\n",
    "distribution_plots(df_train, num_cols)"
   ]
  },
  {
   "cell_type": "markdown",
   "id": "27d8d93b-0e80-42eb-879e-19f2013f46bf",
   "metadata": {},
   "source": [
    "### Outlier analysis: TBD"
   ]
  },
  {
   "cell_type": "code",
   "execution_count": 30,
   "id": "39ad4b82-2ff3-41e9-8e1b-10cb863f9f17",
   "metadata": {},
   "outputs": [
    {
     "data": {
      "text/plain": [
       "Index(['Unnamed: 0', 'trans_date_trans_time', 'cc_num', 'merchant', 'category',\n",
       "       'amt', 'first', 'last', 'gender', 'street', 'city', 'state', 'zip',\n",
       "       'lat', 'long', 'city_pop', 'job', 'dob', 'trans_num', 'unix_time',\n",
       "       'merch_lat', 'merch_long', 'is_fraud'],\n",
       "      dtype='object')"
      ]
     },
     "execution_count": 30,
     "metadata": {},
     "output_type": "execute_result"
    }
   ],
   "source": [
    "df_train.columns"
   ]
  },
  {
   "cell_type": "code",
   "execution_count": 31,
   "id": "b39d259e-f8ed-4911-a7e5-cc043f6a37fd",
   "metadata": {},
   "outputs": [],
   "source": [
    "# def find_outliers(df, columns):\n",
    "#     outliers_count = 0\n",
    "#     outlier_indices = []\n",
    "#     for col in columns:\n",
    "#         q1 = df[col].quantile(0.25)\n",
    "#         q3 = df[col].quantile(0.75)\n",
    "#         iqr = q3 - q1\n",
    "#         lower_bound = q1 - (1.5 * iqr)\n",
    "#         upper_bound = q3 + (1.5 * iqr)\n",
    "#         outlier_col = df[(df[col] < lower_bound) | (df[col] > upper_bound)]\n",
    "#         outlier_indices.extend(outlier_col.index)\n",
    "#         outliers_count += outlier_col.shape[0]\n",
    "#     outlier_indices = list(set(outlier_indices))\n",
    "#     return outliers_count, outlier_indices\n",
    "\n",
    "# outliers_count, outlier_indices = find_outliers(df_train, num_cols)\n",
    "# print(outliers_count)\n",
    "# outliers_count/df_train.shape[0]"
   ]
  },
  {
   "cell_type": "code",
   "execution_count": null,
   "id": "c5350ad9-b77d-40a9-bf56-12822af484e2",
   "metadata": {},
   "outputs": [],
   "source": []
  },
  {
   "cell_type": "markdown",
   "id": "0d8bbac7-cb97-4939-81ed-2b922520d085",
   "metadata": {},
   "source": [
    "## Examine relationships of different featuers"
   ]
  },
  {
   "cell_type": "code",
   "execution_count": 32,
   "id": "bba45e28-8c80-452a-8796-6c9a737b3d81",
   "metadata": {},
   "outputs": [],
   "source": [
    "def count_fraud_values(df, column):\n",
    "    fraud_df = df[df['is_fraud'] == 1]\n",
    "    value_counts = fraud_df[column].value_counts()\n",
    "    return value_counts"
   ]
  },
  {
   "cell_type": "code",
   "execution_count": 33,
   "id": "76c48bbc-a3fd-468e-a9d2-5e793b3fa404",
   "metadata": {},
   "outputs": [
    {
     "data": {
      "text/plain": [
       "M    3771\n",
       "F    3735\n",
       "Name: gender, dtype: int64"
      ]
     },
     "execution_count": 33,
     "metadata": {},
     "output_type": "execute_result"
    }
   ],
   "source": [
    "count_fraud_values(df_train, 'gender')"
   ]
  },
  {
   "cell_type": "code",
   "execution_count": 42,
   "id": "be9c8f38-93aa-4f94-82b1-018ec4a3a14d",
   "metadata": {},
   "outputs": [],
   "source": [
    "# def fraud_distribution(df, column):\n",
    "#     \"\"\"\n",
    "#     Input dataframe and column of interest. The function returns distribution information \n",
    "#     the column of interest.\n",
    "#     \"\"\"\n",
    "#     df_col = df[[column,'trans_num']].groupby([column]).count().reset_index()\n",
    "#     df_col.columns = [column, column+'_count']\n",
    "\n",
    "#     #creating the column-fraud distribution\n",
    "#     df_fraud_col = df[[column, 'trans_num', 'is_fraud']].groupby([column,'is_fraud']).count().reset_index()\n",
    "#     df_fraud_col.columns = [column, 'is_fraud', 'Transaction count']\n",
    "\n",
    "#     df_fraud_col = df_fraud_col.merge(df_col[[column, column+'_count']], how='inner', on=column)\n",
    "\n",
    "#     df_fraud_col['Transaction percentage'] = (df_fraud_col['Transaction count']/df_fraud_col[column+'_count'])*100\n",
    "\n",
    "#     return df_fraud_col\n",
    "\n",
    "# df_gender = df_train.groupby('gender')['trans_num'].agg('count').reset_index()\n",
    "# df_gender.columns = ['gender', 'count']\n",
    "\n",
    "\n",
    "# df_fraud_gender = df_train.groupby(['gender','is_fraud'])['trans_num'].agg('count').reset_index()\n",
    "# df_fraud_gender.columns = ['gender', 'is_fraud', 'transaction_count']\n",
    "\n",
    "# df_fraud_gender = df_fraud_gender.merge(df_gender[['gender', 'count']], how='inner', on='gender')\n",
    "\n",
    "# df_fraud_gender['transaction_percent'] = (df_fraud_gender['transaction_count']/df_fraud_gender['count'])*100"
   ]
  },
  {
   "cell_type": "code",
   "execution_count": 78,
   "id": "8bb14788-c620-43cb-be1d-0adc07a13504",
   "metadata": {},
   "outputs": [],
   "source": [
    "def fraud_distribution_v3(df, column):\n",
    "    \"\"\"\n",
    "    Input dataframe and column of interest. The function returns distribution information \n",
    "    the column of interest.\n",
    "    \"\"\"\n",
    "    df_col = df[[column,'trans_num']].groupby([column]).agg({'trans_num':'count'}).reset_index()\n",
    "    df_col.columns = [column, column+'_count']\n",
    "\n",
    "    df_fraud_col = df[[column, 'trans_num',\n",
    "                       'is_fraud']].groupby([column, \n",
    "                                             'is_fraud']).agg({'trans_num':'count'}).reset_index()\n",
    "    df_fraud_col.columns = [column, 'is_fraud', 'transaction_count']\n",
    "    df_fraud_col = df_fraud_col.merge(df_col, how='inner', on=column)\n",
    "    df_fraud_col['transaction_percent'] = round(\\\n",
    "                                        (df_fraud_col['transaction_count']/df_fraud_col[column+'_count'])*100, 2)\n",
    "    df_fraud_col = df_fraud_col.reindex(columns=[column,'transaction_count', column+'_count', 'transaction_percent', 'is_fraud'])\n",
    "    return df_fraud_col"
   ]
  },
  {
   "cell_type": "code",
   "execution_count": 79,
   "id": "55fd40ef-f9a1-4f2d-93d3-6597b7245bd9",
   "metadata": {},
   "outputs": [
    {
     "data": {
      "text/html": [
       "<div>\n",
       "<style scoped>\n",
       "    .dataframe tbody tr th:only-of-type {\n",
       "        vertical-align: middle;\n",
       "    }\n",
       "\n",
       "    .dataframe tbody tr th {\n",
       "        vertical-align: top;\n",
       "    }\n",
       "\n",
       "    .dataframe thead th {\n",
       "        text-align: right;\n",
       "    }\n",
       "</style>\n",
       "<table border=\"1\" class=\"dataframe\">\n",
       "  <thead>\n",
       "    <tr style=\"text-align: right;\">\n",
       "      <th></th>\n",
       "      <th>gender</th>\n",
       "      <th>transaction_count</th>\n",
       "      <th>gender_count</th>\n",
       "      <th>transaction_percent</th>\n",
       "      <th>is_fraud</th>\n",
       "    </tr>\n",
       "  </thead>\n",
       "  <tbody>\n",
       "    <tr>\n",
       "      <th>0</th>\n",
       "      <td>F</td>\n",
       "      <td>706128</td>\n",
       "      <td>709863</td>\n",
       "      <td>99.47</td>\n",
       "      <td>0</td>\n",
       "    </tr>\n",
       "    <tr>\n",
       "      <th>1</th>\n",
       "      <td>F</td>\n",
       "      <td>3735</td>\n",
       "      <td>709863</td>\n",
       "      <td>0.53</td>\n",
       "      <td>1</td>\n",
       "    </tr>\n",
       "    <tr>\n",
       "      <th>2</th>\n",
       "      <td>M</td>\n",
       "      <td>583041</td>\n",
       "      <td>586812</td>\n",
       "      <td>99.36</td>\n",
       "      <td>0</td>\n",
       "    </tr>\n",
       "    <tr>\n",
       "      <th>3</th>\n",
       "      <td>M</td>\n",
       "      <td>3771</td>\n",
       "      <td>586812</td>\n",
       "      <td>0.64</td>\n",
       "      <td>1</td>\n",
       "    </tr>\n",
       "  </tbody>\n",
       "</table>\n",
       "</div>"
      ],
      "text/plain": [
       "  gender  transaction_count  gender_count  transaction_percent  is_fraud\n",
       "0      F             706128        709863                99.47         0\n",
       "1      F               3735        709863                 0.53         1\n",
       "2      M             583041        586812                99.36         0\n",
       "3      M               3771        586812                 0.64         1"
      ]
     },
     "execution_count": 79,
     "metadata": {},
     "output_type": "execute_result"
    }
   ],
   "source": [
    "fraud_distribution_v3(df_train, 'gender')"
   ]
  },
  {
   "cell_type": "markdown",
   "id": "b0d538fa-1e3b-4028-b823-ed515e6a1cef",
   "metadata": {},
   "source": [
    "We observe approximately the same number of fraud transaction for both genders. Hwoever, the proprtion of males commiting fraud is higher than females."
   ]
  },
  {
   "cell_type": "code",
   "execution_count": 62,
   "id": "47d906e5-5a52-41df-947e-fe97e0fb2462",
   "metadata": {},
   "outputs": [
    {
     "data": {
      "text/plain": [
       "Index(['Unnamed: 0', 'trans_date_trans_time', 'cc_num', 'merchant', 'category',\n",
       "       'amt', 'first', 'last', 'gender', 'street', 'city', 'state', 'zip',\n",
       "       'lat', 'long', 'city_pop', 'job', 'dob', 'trans_num', 'unix_time',\n",
       "       'merch_lat', 'merch_long', 'is_fraud'],\n",
       "      dtype='object')"
      ]
     },
     "execution_count": 62,
     "metadata": {},
     "output_type": "execute_result"
    }
   ],
   "source": [
    "df_train.columns"
   ]
  },
  {
   "cell_type": "code",
   "execution_count": 80,
   "id": "d7477bde-f062-42f8-8bff-08b605164bf4",
   "metadata": {},
   "outputs": [
    {
     "data": {
      "text/html": [
       "<div>\n",
       "<style scoped>\n",
       "    .dataframe tbody tr th:only-of-type {\n",
       "        vertical-align: middle;\n",
       "    }\n",
       "\n",
       "    .dataframe tbody tr th {\n",
       "        vertical-align: top;\n",
       "    }\n",
       "\n",
       "    .dataframe thead th {\n",
       "        text-align: right;\n",
       "    }\n",
       "</style>\n",
       "<table border=\"1\" class=\"dataframe\">\n",
       "  <thead>\n",
       "    <tr style=\"text-align: right;\">\n",
       "      <th></th>\n",
       "      <th>state</th>\n",
       "      <th>transaction_count</th>\n",
       "      <th>state_count</th>\n",
       "      <th>transaction_percent</th>\n",
       "      <th>is_fraud</th>\n",
       "    </tr>\n",
       "  </thead>\n",
       "  <tbody>\n",
       "    <tr>\n",
       "      <th>16</th>\n",
       "      <td>DE</td>\n",
       "      <td>9</td>\n",
       "      <td>9</td>\n",
       "      <td>100.00</td>\n",
       "      <td>1</td>\n",
       "    </tr>\n",
       "    <tr>\n",
       "      <th>78</th>\n",
       "      <td>RI</td>\n",
       "      <td>15</td>\n",
       "      <td>550</td>\n",
       "      <td>2.73</td>\n",
       "      <td>1</td>\n",
       "    </tr>\n",
       "    <tr>\n",
       "      <th>1</th>\n",
       "      <td>AK</td>\n",
       "      <td>36</td>\n",
       "      <td>2120</td>\n",
       "      <td>1.70</td>\n",
       "      <td>1</td>\n",
       "    </tr>\n",
       "    <tr>\n",
       "      <th>66</th>\n",
       "      <td>NV</td>\n",
       "      <td>47</td>\n",
       "      <td>5607</td>\n",
       "      <td>0.84</td>\n",
       "      <td>1</td>\n",
       "    </tr>\n",
       "    <tr>\n",
       "      <th>11</th>\n",
       "      <td>CO</td>\n",
       "      <td>113</td>\n",
       "      <td>13880</td>\n",
       "      <td>0.81</td>\n",
       "      <td>1</td>\n",
       "    </tr>\n",
       "    <tr>\n",
       "      <th>84</th>\n",
       "      <td>TN</td>\n",
       "      <td>140</td>\n",
       "      <td>17554</td>\n",
       "      <td>0.80</td>\n",
       "      <td>1</td>\n",
       "    </tr>\n",
       "    <tr>\n",
       "      <th>74</th>\n",
       "      <td>OR</td>\n",
       "      <td>149</td>\n",
       "      <td>18597</td>\n",
       "      <td>0.80</td>\n",
       "      <td>1</td>\n",
       "    </tr>\n",
       "    <tr>\n",
       "      <th>58</th>\n",
       "      <td>NE</td>\n",
       "      <td>180</td>\n",
       "      <td>24168</td>\n",
       "      <td>0.74</td>\n",
       "      <td>1</td>\n",
       "    </tr>\n",
       "    <tr>\n",
       "      <th>42</th>\n",
       "      <td>ME</td>\n",
       "      <td>119</td>\n",
       "      <td>16505</td>\n",
       "      <td>0.72</td>\n",
       "      <td>1</td>\n",
       "    </tr>\n",
       "    <tr>\n",
       "      <th>60</th>\n",
       "      <td>NH</td>\n",
       "      <td>59</td>\n",
       "      <td>8278</td>\n",
       "      <td>0.71</td>\n",
       "      <td>1</td>\n",
       "    </tr>\n",
       "  </tbody>\n",
       "</table>\n",
       "</div>"
      ],
      "text/plain": [
       "   state  transaction_count  state_count  transaction_percent  is_fraud\n",
       "16    DE                  9            9               100.00         1\n",
       "78    RI                 15          550                 2.73         1\n",
       "1     AK                 36         2120                 1.70         1\n",
       "66    NV                 47         5607                 0.84         1\n",
       "11    CO                113        13880                 0.81         1\n",
       "84    TN                140        17554                 0.80         1\n",
       "74    OR                149        18597                 0.80         1\n",
       "58    NE                180        24168                 0.74         1\n",
       "42    ME                119        16505                 0.72         1\n",
       "60    NH                 59         8278                 0.71         1"
      ]
     },
     "execution_count": 80,
     "metadata": {},
     "output_type": "execute_result"
    }
   ],
   "source": [
    "df_fraud_state = fraud_distribution_v3(df_train, 'state')\n",
    "df_fraud_state[df_fraud_state['is_fraud'] == 1].sort_values(by='transaction_percent',\n",
    "                                                            ascending=False).head(10)"
   ]
  },
  {
   "cell_type": "markdown",
   "id": "f84409d9-b14a-4525-9e79-eeda063e0f57",
   "metadata": {},
   "source": [
    "Discussion here based on new data"
   ]
  },
  {
   "cell_type": "code",
   "execution_count": 81,
   "id": "c4c7ebca-cd31-48c5-b2ff-740bc114f605",
   "metadata": {},
   "outputs": [
    {
     "data": {
      "text/html": [
       "<div>\n",
       "<style scoped>\n",
       "    .dataframe tbody tr th:only-of-type {\n",
       "        vertical-align: middle;\n",
       "    }\n",
       "\n",
       "    .dataframe tbody tr th {\n",
       "        vertical-align: top;\n",
       "    }\n",
       "\n",
       "    .dataframe thead th {\n",
       "        text-align: right;\n",
       "    }\n",
       "</style>\n",
       "<table border=\"1\" class=\"dataframe\">\n",
       "  <thead>\n",
       "    <tr style=\"text-align: right;\">\n",
       "      <th></th>\n",
       "      <th>category</th>\n",
       "      <th>transaction_count</th>\n",
       "      <th>category_count</th>\n",
       "      <th>transaction_percent</th>\n",
       "      <th>is_fraud</th>\n",
       "    </tr>\n",
       "  </thead>\n",
       "  <tbody>\n",
       "    <tr>\n",
       "      <th>23</th>\n",
       "      <td>shopping_net</td>\n",
       "      <td>1713</td>\n",
       "      <td>97543</td>\n",
       "      <td>1.76</td>\n",
       "      <td>1</td>\n",
       "    </tr>\n",
       "    <tr>\n",
       "      <th>17</th>\n",
       "      <td>misc_net</td>\n",
       "      <td>915</td>\n",
       "      <td>63287</td>\n",
       "      <td>1.45</td>\n",
       "      <td>1</td>\n",
       "    </tr>\n",
       "    <tr>\n",
       "      <th>9</th>\n",
       "      <td>grocery_pos</td>\n",
       "      <td>1743</td>\n",
       "      <td>123638</td>\n",
       "      <td>1.41</td>\n",
       "      <td>1</td>\n",
       "    </tr>\n",
       "    <tr>\n",
       "      <th>25</th>\n",
       "      <td>shopping_pos</td>\n",
       "      <td>843</td>\n",
       "      <td>116672</td>\n",
       "      <td>0.72</td>\n",
       "      <td>1</td>\n",
       "    </tr>\n",
       "    <tr>\n",
       "      <th>5</th>\n",
       "      <td>gas_transport</td>\n",
       "      <td>618</td>\n",
       "      <td>131659</td>\n",
       "      <td>0.47</td>\n",
       "      <td>1</td>\n",
       "    </tr>\n",
       "    <tr>\n",
       "      <th>19</th>\n",
       "      <td>misc_pos</td>\n",
       "      <td>250</td>\n",
       "      <td>79655</td>\n",
       "      <td>0.31</td>\n",
       "      <td>1</td>\n",
       "    </tr>\n",
       "    <tr>\n",
       "      <th>7</th>\n",
       "      <td>grocery_net</td>\n",
       "      <td>134</td>\n",
       "      <td>45452</td>\n",
       "      <td>0.29</td>\n",
       "      <td>1</td>\n",
       "    </tr>\n",
       "    <tr>\n",
       "      <th>27</th>\n",
       "      <td>travel</td>\n",
       "      <td>116</td>\n",
       "      <td>40507</td>\n",
       "      <td>0.29</td>\n",
       "      <td>1</td>\n",
       "    </tr>\n",
       "    <tr>\n",
       "      <th>1</th>\n",
       "      <td>entertainment</td>\n",
       "      <td>233</td>\n",
       "      <td>94014</td>\n",
       "      <td>0.25</td>\n",
       "      <td>1</td>\n",
       "    </tr>\n",
       "    <tr>\n",
       "      <th>21</th>\n",
       "      <td>personal_care</td>\n",
       "      <td>220</td>\n",
       "      <td>90758</td>\n",
       "      <td>0.24</td>\n",
       "      <td>1</td>\n",
       "    </tr>\n",
       "  </tbody>\n",
       "</table>\n",
       "</div>"
      ],
      "text/plain": [
       "         category  transaction_count  category_count  transaction_percent  \\\n",
       "23   shopping_net               1713           97543                 1.76   \n",
       "17       misc_net                915           63287                 1.45   \n",
       "9     grocery_pos               1743          123638                 1.41   \n",
       "25   shopping_pos                843          116672                 0.72   \n",
       "5   gas_transport                618          131659                 0.47   \n",
       "19       misc_pos                250           79655                 0.31   \n",
       "7     grocery_net                134           45452                 0.29   \n",
       "27         travel                116           40507                 0.29   \n",
       "1   entertainment                233           94014                 0.25   \n",
       "21  personal_care                220           90758                 0.24   \n",
       "\n",
       "    is_fraud  \n",
       "23         1  \n",
       "17         1  \n",
       "9          1  \n",
       "25         1  \n",
       "5          1  \n",
       "19         1  \n",
       "7          1  \n",
       "27         1  \n",
       "1          1  \n",
       "21         1  "
      ]
     },
     "execution_count": 81,
     "metadata": {},
     "output_type": "execute_result"
    }
   ],
   "source": [
    "df_fraud_category = fraud_distribution_v3(df_train, 'category')\n",
    "df_fraud_category[df_fraud_category['is_fraud'] == 1].sort_values(by='transaction_percent',\n",
    "                                                            ascending=False).head(10)"
   ]
  },
  {
   "cell_type": "markdown",
   "id": "b9a637dd-fee6-44f2-93dc-a91041f9f9fb",
   "metadata": {},
   "source": [
    "Discussion here based on new data"
   ]
  },
  {
   "cell_type": "code",
   "execution_count": 82,
   "id": "8fbec8e5-ff71-48fd-9932-61872b6f1e9a",
   "metadata": {},
   "outputs": [
    {
     "data": {
      "text/html": [
       "<div>\n",
       "<style scoped>\n",
       "    .dataframe tbody tr th:only-of-type {\n",
       "        vertical-align: middle;\n",
       "    }\n",
       "\n",
       "    .dataframe tbody tr th {\n",
       "        vertical-align: top;\n",
       "    }\n",
       "\n",
       "    .dataframe thead th {\n",
       "        text-align: right;\n",
       "    }\n",
       "</style>\n",
       "<table border=\"1\" class=\"dataframe\">\n",
       "  <thead>\n",
       "    <tr style=\"text-align: right;\">\n",
       "      <th></th>\n",
       "      <th>merchant</th>\n",
       "      <th>transaction_count</th>\n",
       "      <th>merchant_count</th>\n",
       "      <th>transaction_percent</th>\n",
       "      <th>is_fraud</th>\n",
       "    </tr>\n",
       "  </thead>\n",
       "  <tbody>\n",
       "    <tr>\n",
       "      <th>672</th>\n",
       "      <td>fraud_Kozey-Boehm</td>\n",
       "      <td>48</td>\n",
       "      <td>1866</td>\n",
       "      <td>2.57</td>\n",
       "      <td>1</td>\n",
       "    </tr>\n",
       "    <tr>\n",
       "      <th>489</th>\n",
       "      <td>fraud_Herman, Treutel and Dickens</td>\n",
       "      <td>33</td>\n",
       "      <td>1300</td>\n",
       "      <td>2.54</td>\n",
       "      <td>1</td>\n",
       "    </tr>\n",
       "    <tr>\n",
       "      <th>606</th>\n",
       "      <td>fraud_Kerluke-Abshire</td>\n",
       "      <td>41</td>\n",
       "      <td>1838</td>\n",
       "      <td>2.23</td>\n",
       "      <td>1</td>\n",
       "    </tr>\n",
       "    <tr>\n",
       "      <th>159</th>\n",
       "      <td>fraud_Brown PLC</td>\n",
       "      <td>26</td>\n",
       "      <td>1176</td>\n",
       "      <td>2.21</td>\n",
       "      <td>1</td>\n",
       "    </tr>\n",
       "    <tr>\n",
       "      <th>400</th>\n",
       "      <td>fraud_Goyette Inc</td>\n",
       "      <td>42</td>\n",
       "      <td>1943</td>\n",
       "      <td>2.16</td>\n",
       "      <td>1</td>\n",
       "    </tr>\n",
       "    <tr>\n",
       "      <th>1220</th>\n",
       "      <td>fraud_Terry-Huel</td>\n",
       "      <td>43</td>\n",
       "      <td>1996</td>\n",
       "      <td>2.15</td>\n",
       "      <td>1</td>\n",
       "    </tr>\n",
       "    <tr>\n",
       "      <th>562</th>\n",
       "      <td>fraud_Jast Ltd</td>\n",
       "      <td>42</td>\n",
       "      <td>1953</td>\n",
       "      <td>2.15</td>\n",
       "      <td>1</td>\n",
       "    </tr>\n",
       "    <tr>\n",
       "      <th>1100</th>\n",
       "      <td>fraud_Schmeler, Bashirian and Price</td>\n",
       "      <td>41</td>\n",
       "      <td>1968</td>\n",
       "      <td>2.08</td>\n",
       "      <td>1</td>\n",
       "    </tr>\n",
       "    <tr>\n",
       "      <th>145</th>\n",
       "      <td>fraud_Boyer-Reichert</td>\n",
       "      <td>38</td>\n",
       "      <td>1908</td>\n",
       "      <td>1.99</td>\n",
       "      <td>1</td>\n",
       "    </tr>\n",
       "    <tr>\n",
       "      <th>742</th>\n",
       "      <td>fraud_Langworth, Boehm and Gulgowski</td>\n",
       "      <td>39</td>\n",
       "      <td>1969</td>\n",
       "      <td>1.98</td>\n",
       "      <td>1</td>\n",
       "    </tr>\n",
       "  </tbody>\n",
       "</table>\n",
       "</div>"
      ],
      "text/plain": [
       "                                  merchant  transaction_count  merchant_count  \\\n",
       "672                      fraud_Kozey-Boehm                 48            1866   \n",
       "489      fraud_Herman, Treutel and Dickens                 33            1300   \n",
       "606                  fraud_Kerluke-Abshire                 41            1838   \n",
       "159                        fraud_Brown PLC                 26            1176   \n",
       "400                      fraud_Goyette Inc                 42            1943   \n",
       "1220                      fraud_Terry-Huel                 43            1996   \n",
       "562                         fraud_Jast Ltd                 42            1953   \n",
       "1100   fraud_Schmeler, Bashirian and Price                 41            1968   \n",
       "145                   fraud_Boyer-Reichert                 38            1908   \n",
       "742   fraud_Langworth, Boehm and Gulgowski                 39            1969   \n",
       "\n",
       "      transaction_percent  is_fraud  \n",
       "672                  2.57         1  \n",
       "489                  2.54         1  \n",
       "606                  2.23         1  \n",
       "159                  2.21         1  \n",
       "400                  2.16         1  \n",
       "1220                 2.15         1  \n",
       "562                  2.15         1  \n",
       "1100                 2.08         1  \n",
       "145                  1.99         1  \n",
       "742                  1.98         1  "
      ]
     },
     "execution_count": 82,
     "metadata": {},
     "output_type": "execute_result"
    }
   ],
   "source": [
    "df_fraud_merchant = fraud_distribution_v3(df_train, 'merchant')\n",
    "df_fraud_merchant[df_fraud_merchant['is_fraud'] == 1].sort_values(by='transaction_percent',\n",
    "                                                            ascending=False).head(10)"
   ]
  },
  {
   "cell_type": "markdown",
   "id": "5449513c-0cba-4e1a-a0d9-5b8267f55115",
   "metadata": {},
   "source": [
    "Discussion here based on new data"
   ]
  },
  {
   "cell_type": "code",
   "execution_count": 83,
   "id": "194da13c-ab2a-4d29-b831-0426dde2bfb0",
   "metadata": {},
   "outputs": [
    {
     "data": {
      "text/html": [
       "<div>\n",
       "<style scoped>\n",
       "    .dataframe tbody tr th:only-of-type {\n",
       "        vertical-align: middle;\n",
       "    }\n",
       "\n",
       "    .dataframe tbody tr th {\n",
       "        vertical-align: top;\n",
       "    }\n",
       "\n",
       "    .dataframe thead th {\n",
       "        text-align: right;\n",
       "    }\n",
       "</style>\n",
       "<table border=\"1\" class=\"dataframe\">\n",
       "  <thead>\n",
       "    <tr style=\"text-align: right;\">\n",
       "      <th></th>\n",
       "      <th>job</th>\n",
       "      <th>transaction_count</th>\n",
       "      <th>job_count</th>\n",
       "      <th>transaction_percent</th>\n",
       "      <th>is_fraud</th>\n",
       "    </tr>\n",
       "  </thead>\n",
       "  <tbody>\n",
       "    <tr>\n",
       "      <th>64</th>\n",
       "      <td>Armed forces technical officer</td>\n",
       "      <td>8</td>\n",
       "      <td>8</td>\n",
       "      <td>100.0</td>\n",
       "      <td>1</td>\n",
       "    </tr>\n",
       "    <tr>\n",
       "      <th>318</th>\n",
       "      <td>Engineer, site</td>\n",
       "      <td>12</td>\n",
       "      <td>12</td>\n",
       "      <td>100.0</td>\n",
       "      <td>1</td>\n",
       "    </tr>\n",
       "    <tr>\n",
       "      <th>453</th>\n",
       "      <td>Information officer</td>\n",
       "      <td>8</td>\n",
       "      <td>8</td>\n",
       "      <td>100.0</td>\n",
       "      <td>1</td>\n",
       "    </tr>\n",
       "    <tr>\n",
       "      <th>493</th>\n",
       "      <td>Legal secretary</td>\n",
       "      <td>12</td>\n",
       "      <td>12</td>\n",
       "      <td>100.0</td>\n",
       "      <td>1</td>\n",
       "    </tr>\n",
       "    <tr>\n",
       "      <th>450</th>\n",
       "      <td>Industrial buyer</td>\n",
       "      <td>10</td>\n",
       "      <td>10</td>\n",
       "      <td>100.0</td>\n",
       "      <td>1</td>\n",
       "    </tr>\n",
       "    <tr>\n",
       "      <th>111</th>\n",
       "      <td>Careers adviser</td>\n",
       "      <td>15</td>\n",
       "      <td>15</td>\n",
       "      <td>100.0</td>\n",
       "      <td>1</td>\n",
       "    </tr>\n",
       "    <tr>\n",
       "      <th>421</th>\n",
       "      <td>Homeopath</td>\n",
       "      <td>11</td>\n",
       "      <td>11</td>\n",
       "      <td>100.0</td>\n",
       "      <td>1</td>\n",
       "    </tr>\n",
       "    <tr>\n",
       "      <th>94</th>\n",
       "      <td>Broadcast journalist</td>\n",
       "      <td>9</td>\n",
       "      <td>9</td>\n",
       "      <td>100.0</td>\n",
       "      <td>1</td>\n",
       "    </tr>\n",
       "    <tr>\n",
       "      <th>619</th>\n",
       "      <td>Personnel officer</td>\n",
       "      <td>12</td>\n",
       "      <td>12</td>\n",
       "      <td>100.0</td>\n",
       "      <td>1</td>\n",
       "    </tr>\n",
       "    <tr>\n",
       "      <th>374</th>\n",
       "      <td>Forest/woodland manager</td>\n",
       "      <td>9</td>\n",
       "      <td>9</td>\n",
       "      <td>100.0</td>\n",
       "      <td>1</td>\n",
       "    </tr>\n",
       "  </tbody>\n",
       "</table>\n",
       "</div>"
      ],
      "text/plain": [
       "                                job  transaction_count  job_count  \\\n",
       "64   Armed forces technical officer                  8          8   \n",
       "318                  Engineer, site                 12         12   \n",
       "453             Information officer                  8          8   \n",
       "493                 Legal secretary                 12         12   \n",
       "450                Industrial buyer                 10         10   \n",
       "111                 Careers adviser                 15         15   \n",
       "421                       Homeopath                 11         11   \n",
       "94             Broadcast journalist                  9          9   \n",
       "619               Personnel officer                 12         12   \n",
       "374         Forest/woodland manager                  9          9   \n",
       "\n",
       "     transaction_percent  is_fraud  \n",
       "64                 100.0         1  \n",
       "318                100.0         1  \n",
       "453                100.0         1  \n",
       "493                100.0         1  \n",
       "450                100.0         1  \n",
       "111                100.0         1  \n",
       "421                100.0         1  \n",
       "94                 100.0         1  \n",
       "619                100.0         1  \n",
       "374                100.0         1  "
      ]
     },
     "execution_count": 83,
     "metadata": {},
     "output_type": "execute_result"
    }
   ],
   "source": [
    "df_fraud_job = fraud_distribution_v3(df_train, 'job')\n",
    "df_fraud_job[df_fraud_job['is_fraud'] == 1].sort_values(by='transaction_percent',\n",
    "                                                            ascending=False).head(10)"
   ]
  },
  {
   "cell_type": "markdown",
   "id": "0f833da8-a9f4-4077-ba90-ecd47aae8e4f",
   "metadata": {},
   "source": [
    "Discussion here based on new data"
   ]
  },
  {
   "cell_type": "code",
   "execution_count": null,
   "id": "e3825f71-ad33-46fd-a0a4-92de15275577",
   "metadata": {},
   "outputs": [],
   "source": []
  },
  {
   "cell_type": "code",
   "execution_count": null,
   "id": "5ed54c27-37e7-42da-917d-fa4db3fcaead",
   "metadata": {},
   "outputs": [],
   "source": []
  },
  {
   "cell_type": "code",
   "execution_count": null,
   "id": "68036b9d-9712-4922-8255-b026487ee97b",
   "metadata": {},
   "outputs": [],
   "source": []
  }
 ],
 "metadata": {
  "kernelspec": {
   "display_name": "Python 3 (ipykernel)",
   "language": "python",
   "name": "python3"
  },
  "language_info": {
   "codemirror_mode": {
    "name": "ipython",
    "version": 3
   },
   "file_extension": ".py",
   "mimetype": "text/x-python",
   "name": "python",
   "nbconvert_exporter": "python",
   "pygments_lexer": "ipython3",
   "version": "3.9.13"
  }
 },
 "nbformat": 4,
 "nbformat_minor": 5
}
